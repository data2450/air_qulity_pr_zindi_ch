{
  "nbformat": 4,
  "nbformat_minor": 0,
  "metadata": {
    "colab": {
      "name": "AirQo Low-Cost Air Quality Monitor Calibration Challenge.ipynb",
      "provenance": [],
      "collapsed_sections": [],
      "mount_file_id": "1oMkH2Vk0pBaUAQoKXAN0YTT2UBmu4lVd",
      "authorship_tag": "ABX9TyO4nM526hXjEXQ2A8bn9ZgU",
      "include_colab_link": true
    },
    "kernelspec": {
      "name": "python3",
      "display_name": "Python 3"
    },
    "language_info": {
      "name": "python"
    }
  },
  "cells": [
    {
      "cell_type": "markdown",
      "metadata": {
        "id": "view-in-github",
        "colab_type": "text"
      },
      "source": [
        "<a href=\"https://colab.research.google.com/github/data2450/air_qulity_pr_zindi_ch/blob/main/AirQo_Low_Cost_Air_Quality_Monitor_Calibration_Challenge.ipynb\" target=\"_parent\"><img src=\"https://colab.research.google.com/assets/colab-badge.svg\" alt=\"Open In Colab\"/></a>"
      ]
    },
    {
      "cell_type": "code",
      "metadata": {
        "id": "ZFyn8Dbzr_d8"
      },
      "source": [
        "!pip install catboost\n",
        "import pandas as pd\n",
        "import numpy as np\n",
        "import datetime as dt\n",
        "from tqdm.notebook import tqdm_notebook\n",
        "import seaborn as sns\n",
        "import matplotlib.pyplot as plt\n",
        "from sklearn.metrics import f1_score\n",
        "from lightgbm import LGBMClassifier\n",
        "from sklearn.naive_bayes import MultinomialNB\n",
        "from sklearn.linear_model import SGDClassifier\n",
        "from catboost import CatBoostClassifier\n",
        "from sklearn.model_selection import train_test_split\n",
        "import warnings\n",
        "warnings.filterwarnings('ignore')\n",
        "#from supervised.automl import AutoMl\n"
      ],
      "execution_count": null,
      "outputs": []
    },
    {
      "cell_type": "code",
      "metadata": {
        "id": "IZ9U4aJltM2r"
      },
      "source": [
        "train=pd.read_csv('/content/drive/MyDrive/S/Train (1).csv')\n",
        "ts=pd.read_csv('/content/drive/MyDrive/S/Test (1).csv')\n"
      ],
      "execution_count": null,
      "outputs": []
    },
    {
      "cell_type": "code",
      "metadata": {
        "id": "XcJzoG4c0ci2"
      },
      "source": [
        "train['pa']=1\n",
        "ts['pa']=0"
      ],
      "execution_count": null,
      "outputs": []
    },
    {
      "cell_type": "code",
      "metadata": {
        "colab": {
          "base_uri": "https://localhost:8080/",
          "height": 309
        },
        "id": "mes7rtZhtniS",
        "outputId": "1b828c22-8ac9-4660-b135-980ca4738a40"
      },
      "source": [
        "train.head()"
      ],
      "execution_count": null,
      "outputs": [
        {
          "output_type": "execute_result",
          "data": {
            "text/html": [
              "<div>\n",
              "<style scoped>\n",
              "    .dataframe tbody tr th:only-of-type {\n",
              "        vertical-align: middle;\n",
              "    }\n",
              "\n",
              "    .dataframe tbody tr th {\n",
              "        vertical-align: top;\n",
              "    }\n",
              "\n",
              "    .dataframe thead th {\n",
              "        text-align: right;\n",
              "    }\n",
              "</style>\n",
              "<table border=\"1\" class=\"dataframe\">\n",
              "  <thead>\n",
              "    <tr style=\"text-align: right;\">\n",
              "      <th></th>\n",
              "      <th>ID</th>\n",
              "      <th>created_at</th>\n",
              "      <th>site</th>\n",
              "      <th>pm2_5</th>\n",
              "      <th>pm10</th>\n",
              "      <th>s2_pm2_5</th>\n",
              "      <th>s2_pm10</th>\n",
              "      <th>humidity</th>\n",
              "      <th>temp</th>\n",
              "      <th>lat</th>\n",
              "      <th>long</th>\n",
              "      <th>altitude</th>\n",
              "      <th>greenness</th>\n",
              "      <th>landform_90m</th>\n",
              "      <th>landform_270m</th>\n",
              "      <th>population</th>\n",
              "      <th>dist_major_road</th>\n",
              "      <th>ref_pm2_5</th>\n",
              "      <th>pa</th>\n",
              "    </tr>\n",
              "  </thead>\n",
              "  <tbody>\n",
              "    <tr>\n",
              "      <th>0</th>\n",
              "      <td>ID_0038MG0B</td>\n",
              "      <td>2020-04-23 17:00:00+03:00</td>\n",
              "      <td>USEmbassy</td>\n",
              "      <td>6.819048</td>\n",
              "      <td>7.313810</td>\n",
              "      <td>6.794048</td>\n",
              "      <td>7.838333</td>\n",
              "      <td>0.807417</td>\n",
              "      <td>22.383333</td>\n",
              "      <td>0.299255</td>\n",
              "      <td>32.592686</td>\n",
              "      <td>1199</td>\n",
              "      <td>4374</td>\n",
              "      <td>21</td>\n",
              "      <td>14</td>\n",
              "      <td>6834</td>\n",
              "      <td>130</td>\n",
              "      <td>25.0</td>\n",
              "      <td>1</td>\n",
              "    </tr>\n",
              "    <tr>\n",
              "      <th>1</th>\n",
              "      <td>ID_008ASVDD</td>\n",
              "      <td>2020-02-23 19:00:00+03:00</td>\n",
              "      <td>USEmbassy</td>\n",
              "      <td>57.456047</td>\n",
              "      <td>67.883488</td>\n",
              "      <td>55.643488</td>\n",
              "      <td>70.646977</td>\n",
              "      <td>0.712417</td>\n",
              "      <td>25.350000</td>\n",
              "      <td>0.299255</td>\n",
              "      <td>32.592686</td>\n",
              "      <td>1199</td>\n",
              "      <td>4374</td>\n",
              "      <td>21</td>\n",
              "      <td>14</td>\n",
              "      <td>6834</td>\n",
              "      <td>130</td>\n",
              "      <td>68.0</td>\n",
              "      <td>1</td>\n",
              "    </tr>\n",
              "    <tr>\n",
              "      <th>2</th>\n",
              "      <td>ID_009ACJQ9</td>\n",
              "      <td>2021-01-23 04:00:00+03:00</td>\n",
              "      <td>Nakawa</td>\n",
              "      <td>170.009773</td>\n",
              "      <td>191.153636</td>\n",
              "      <td>165.308636</td>\n",
              "      <td>191.471591</td>\n",
              "      <td>0.907833</td>\n",
              "      <td>20.616667</td>\n",
              "      <td>0.331740</td>\n",
              "      <td>32.609510</td>\n",
              "      <td>1191</td>\n",
              "      <td>5865</td>\n",
              "      <td>31</td>\n",
              "      <td>-11</td>\n",
              "      <td>4780</td>\n",
              "      <td>500</td>\n",
              "      <td>149.7</td>\n",
              "      <td>1</td>\n",
              "    </tr>\n",
              "    <tr>\n",
              "      <th>3</th>\n",
              "      <td>ID_00IGMAQ2</td>\n",
              "      <td>2019-12-04 09:00:00+03:00</td>\n",
              "      <td>USEmbassy</td>\n",
              "      <td>49.732821</td>\n",
              "      <td>61.512564</td>\n",
              "      <td>0.000000</td>\n",
              "      <td>0.000000</td>\n",
              "      <td>0.949667</td>\n",
              "      <td>21.216667</td>\n",
              "      <td>0.299255</td>\n",
              "      <td>32.592686</td>\n",
              "      <td>1199</td>\n",
              "      <td>4374</td>\n",
              "      <td>21</td>\n",
              "      <td>14</td>\n",
              "      <td>6834</td>\n",
              "      <td>130</td>\n",
              "      <td>54.0</td>\n",
              "      <td>1</td>\n",
              "    </tr>\n",
              "    <tr>\n",
              "      <th>4</th>\n",
              "      <td>ID_00P76VAQ</td>\n",
              "      <td>2019-10-01 01:00:00+03:00</td>\n",
              "      <td>USEmbassy</td>\n",
              "      <td>41.630455</td>\n",
              "      <td>51.044545</td>\n",
              "      <td>41.725000</td>\n",
              "      <td>51.141364</td>\n",
              "      <td>0.913833</td>\n",
              "      <td>18.908333</td>\n",
              "      <td>0.299255</td>\n",
              "      <td>32.592686</td>\n",
              "      <td>1199</td>\n",
              "      <td>4374</td>\n",
              "      <td>21</td>\n",
              "      <td>14</td>\n",
              "      <td>6834</td>\n",
              "      <td>130</td>\n",
              "      <td>39.0</td>\n",
              "      <td>1</td>\n",
              "    </tr>\n",
              "  </tbody>\n",
              "</table>\n",
              "</div>"
            ],
            "text/plain": [
              "            ID                 created_at  ... ref_pm2_5  pa\n",
              "0  ID_0038MG0B  2020-04-23 17:00:00+03:00  ...      25.0   1\n",
              "1  ID_008ASVDD  2020-02-23 19:00:00+03:00  ...      68.0   1\n",
              "2  ID_009ACJQ9  2021-01-23 04:00:00+03:00  ...     149.7   1\n",
              "3  ID_00IGMAQ2  2019-12-04 09:00:00+03:00  ...      54.0   1\n",
              "4  ID_00P76VAQ  2019-10-01 01:00:00+03:00  ...      39.0   1\n",
              "\n",
              "[5 rows x 19 columns]"
            ]
          },
          "metadata": {
            "tags": []
          },
          "execution_count": 4
        }
      ]
    },
    {
      "cell_type": "code",
      "metadata": {
        "colab": {
          "base_uri": "https://localhost:8080/"
        },
        "id": "YHOGPTn1tpOS",
        "outputId": "e1db66e9-caaa-4196-a3f3-2360b17675c9"
      },
      "source": [
        "train.info()"
      ],
      "execution_count": null,
      "outputs": [
        {
          "output_type": "stream",
          "text": [
            "<class 'pandas.core.frame.DataFrame'>\n",
            "RangeIndex: 10932 entries, 0 to 10931\n",
            "Data columns (total 19 columns):\n",
            " #   Column           Non-Null Count  Dtype  \n",
            "---  ------           --------------  -----  \n",
            " 0   ID               10932 non-null  object \n",
            " 1   created_at       10932 non-null  object \n",
            " 2   site             10932 non-null  object \n",
            " 3   pm2_5            10932 non-null  float64\n",
            " 4   pm10             10932 non-null  float64\n",
            " 5   s2_pm2_5         10932 non-null  float64\n",
            " 6   s2_pm10          10932 non-null  float64\n",
            " 7   humidity         10926 non-null  float64\n",
            " 8   temp             10915 non-null  float64\n",
            " 9   lat              10932 non-null  float64\n",
            " 10  long             10932 non-null  float64\n",
            " 11  altitude         10932 non-null  int64  \n",
            " 12  greenness        10932 non-null  int64  \n",
            " 13  landform_90m     10932 non-null  int64  \n",
            " 14  landform_270m    10932 non-null  int64  \n",
            " 15  population       10932 non-null  int64  \n",
            " 16  dist_major_road  10932 non-null  int64  \n",
            " 17  ref_pm2_5        10932 non-null  float64\n",
            " 18  pa               10932 non-null  int64  \n",
            "dtypes: float64(9), int64(7), object(3)\n",
            "memory usage: 1.6+ MB\n"
          ],
          "name": "stdout"
        }
      ]
    },
    {
      "cell_type": "code",
      "metadata": {
        "colab": {
          "base_uri": "https://localhost:8080/"
        },
        "id": "_rGNAoFKtvBy",
        "outputId": "048776a9-1905-4d6f-e08e-816553601393"
      },
      "source": [
        "ts.info()"
      ],
      "execution_count": null,
      "outputs": [
        {
          "output_type": "stream",
          "text": [
            "<class 'pandas.core.frame.DataFrame'>\n",
            "RangeIndex: 2733 entries, 0 to 2732\n",
            "Data columns (total 18 columns):\n",
            " #   Column           Non-Null Count  Dtype  \n",
            "---  ------           --------------  -----  \n",
            " 0   ID               2733 non-null   object \n",
            " 1   created_at       2733 non-null   object \n",
            " 2   site             2733 non-null   object \n",
            " 3   pm2_5            2733 non-null   float64\n",
            " 4   pm10             2733 non-null   float64\n",
            " 5   s2_pm2_5         2733 non-null   float64\n",
            " 6   s2_pm10          2733 non-null   float64\n",
            " 7   humidity         2732 non-null   float64\n",
            " 8   temp             2729 non-null   float64\n",
            " 9   lat              2733 non-null   float64\n",
            " 10  long             2733 non-null   float64\n",
            " 11  altitude         2733 non-null   int64  \n",
            " 12  greenness        2733 non-null   int64  \n",
            " 13  landform_90m     2733 non-null   int64  \n",
            " 14  landform_270m    2733 non-null   int64  \n",
            " 15  population       2733 non-null   int64  \n",
            " 16  dist_major_road  2733 non-null   int64  \n",
            " 17  pa               2733 non-null   int64  \n",
            "dtypes: float64(8), int64(7), object(3)\n",
            "memory usage: 384.5+ KB\n"
          ],
          "name": "stdout"
        }
      ]
    },
    {
      "cell_type": "code",
      "metadata": {
        "colab": {
          "base_uri": "https://localhost:8080/",
          "height": 309
        },
        "id": "2k9pEsqSgJVt",
        "outputId": "a4ca86f5-396a-4e3d-d7de-554089a9c05c"
      },
      "source": [
        "ts.head()"
      ],
      "execution_count": null,
      "outputs": [
        {
          "output_type": "execute_result",
          "data": {
            "text/html": [
              "<div>\n",
              "<style scoped>\n",
              "    .dataframe tbody tr th:only-of-type {\n",
              "        vertical-align: middle;\n",
              "    }\n",
              "\n",
              "    .dataframe tbody tr th {\n",
              "        vertical-align: top;\n",
              "    }\n",
              "\n",
              "    .dataframe thead th {\n",
              "        text-align: right;\n",
              "    }\n",
              "</style>\n",
              "<table border=\"1\" class=\"dataframe\">\n",
              "  <thead>\n",
              "    <tr style=\"text-align: right;\">\n",
              "      <th></th>\n",
              "      <th>ID</th>\n",
              "      <th>created_at</th>\n",
              "      <th>site</th>\n",
              "      <th>pm2_5</th>\n",
              "      <th>pm10</th>\n",
              "      <th>s2_pm2_5</th>\n",
              "      <th>s2_pm10</th>\n",
              "      <th>humidity</th>\n",
              "      <th>temp</th>\n",
              "      <th>lat</th>\n",
              "      <th>long</th>\n",
              "      <th>altitude</th>\n",
              "      <th>greenness</th>\n",
              "      <th>landform_90m</th>\n",
              "      <th>landform_270m</th>\n",
              "      <th>population</th>\n",
              "      <th>dist_major_road</th>\n",
              "      <th>pa</th>\n",
              "    </tr>\n",
              "  </thead>\n",
              "  <tbody>\n",
              "    <tr>\n",
              "      <th>0</th>\n",
              "      <td>ID_00OZLF7X</td>\n",
              "      <td>2020-03-13 07:00:00+03:00</td>\n",
              "      <td>USEmbassy</td>\n",
              "      <td>31.900455</td>\n",
              "      <td>35.515455</td>\n",
              "      <td>31.672273</td>\n",
              "      <td>37.051818</td>\n",
              "      <td>0.927167</td>\n",
              "      <td>21.175000</td>\n",
              "      <td>0.299255</td>\n",
              "      <td>32.592686</td>\n",
              "      <td>1199</td>\n",
              "      <td>4374</td>\n",
              "      <td>21</td>\n",
              "      <td>14</td>\n",
              "      <td>6834</td>\n",
              "      <td>130</td>\n",
              "      <td>0</td>\n",
              "    </tr>\n",
              "    <tr>\n",
              "      <th>1</th>\n",
              "      <td>ID_00ZI0D98</td>\n",
              "      <td>2020-08-08 10:00:00+03:00</td>\n",
              "      <td>Makerere</td>\n",
              "      <td>53.581818</td>\n",
              "      <td>66.603636</td>\n",
              "      <td>50.586364</td>\n",
              "      <td>64.651818</td>\n",
              "      <td>0.811583</td>\n",
              "      <td>22.350000</td>\n",
              "      <td>0.333501</td>\n",
              "      <td>32.568561</td>\n",
              "      <td>1233</td>\n",
              "      <td>6340</td>\n",
              "      <td>21</td>\n",
              "      <td>28</td>\n",
              "      <td>8518</td>\n",
              "      <td>475</td>\n",
              "      <td>0</td>\n",
              "    </tr>\n",
              "    <tr>\n",
              "      <th>2</th>\n",
              "      <td>ID_017GTLAU</td>\n",
              "      <td>2020-08-25 09:00:00+03:00</td>\n",
              "      <td>Makerere</td>\n",
              "      <td>62.377500</td>\n",
              "      <td>71.647500</td>\n",
              "      <td>59.023333</td>\n",
              "      <td>69.766667</td>\n",
              "      <td>0.902000</td>\n",
              "      <td>20.766667</td>\n",
              "      <td>0.333501</td>\n",
              "      <td>32.568561</td>\n",
              "      <td>1233</td>\n",
              "      <td>6340</td>\n",
              "      <td>21</td>\n",
              "      <td>28</td>\n",
              "      <td>8518</td>\n",
              "      <td>475</td>\n",
              "      <td>0</td>\n",
              "    </tr>\n",
              "    <tr>\n",
              "      <th>3</th>\n",
              "      <td>ID_01IBM7T2</td>\n",
              "      <td>2020-06-15 16:00:00+03:00</td>\n",
              "      <td>USEmbassy</td>\n",
              "      <td>33.310294</td>\n",
              "      <td>36.958824</td>\n",
              "      <td>33.060882</td>\n",
              "      <td>38.674412</td>\n",
              "      <td>0.643417</td>\n",
              "      <td>25.483333</td>\n",
              "      <td>0.299255</td>\n",
              "      <td>32.592686</td>\n",
              "      <td>1199</td>\n",
              "      <td>4374</td>\n",
              "      <td>21</td>\n",
              "      <td>14</td>\n",
              "      <td>6834</td>\n",
              "      <td>130</td>\n",
              "      <td>0</td>\n",
              "    </tr>\n",
              "    <tr>\n",
              "      <th>4</th>\n",
              "      <td>ID_01II27D4</td>\n",
              "      <td>2021-01-13 00:00:00+03:00</td>\n",
              "      <td>Nakawa</td>\n",
              "      <td>64.782045</td>\n",
              "      <td>75.247500</td>\n",
              "      <td>64.638182</td>\n",
              "      <td>77.108864</td>\n",
              "      <td>0.939667</td>\n",
              "      <td>20.133333</td>\n",
              "      <td>0.331740</td>\n",
              "      <td>32.609510</td>\n",
              "      <td>1191</td>\n",
              "      <td>5865</td>\n",
              "      <td>31</td>\n",
              "      <td>-11</td>\n",
              "      <td>4780</td>\n",
              "      <td>500</td>\n",
              "      <td>0</td>\n",
              "    </tr>\n",
              "  </tbody>\n",
              "</table>\n",
              "</div>"
            ],
            "text/plain": [
              "            ID                 created_at  ... dist_major_road  pa\n",
              "0  ID_00OZLF7X  2020-03-13 07:00:00+03:00  ...             130   0\n",
              "1  ID_00ZI0D98  2020-08-08 10:00:00+03:00  ...             475   0\n",
              "2  ID_017GTLAU  2020-08-25 09:00:00+03:00  ...             475   0\n",
              "3  ID_01IBM7T2  2020-06-15 16:00:00+03:00  ...             130   0\n",
              "4  ID_01II27D4  2021-01-13 00:00:00+03:00  ...             500   0\n",
              "\n",
              "[5 rows x 18 columns]"
            ]
          },
          "metadata": {
            "tags": []
          },
          "execution_count": 266
        }
      ]
    },
    {
      "cell_type": "markdown",
      "metadata": {
        "id": "lKkLBr6suLL8"
      },
      "source": [
        "# lets do feature engeering first  "
      ]
    },
    {
      "cell_type": "code",
      "metadata": {
        "colab": {
          "base_uri": "https://localhost:8080/"
        },
        "id": "g8lBvsWA0ek6",
        "outputId": "49b4cbab-4481-40c4-d248-4583c9761ff3"
      },
      "source": [
        "all_data=pd.concat((train,ts)).reset_index(drop=True)\n",
        "print('shape :', all_data.shape )"
      ],
      "execution_count": null,
      "outputs": [
        {
          "output_type": "stream",
          "text": [
            "shape : (13665, 19)\n"
          ],
          "name": "stdout"
        }
      ]
    },
    {
      "cell_type": "code",
      "metadata": {
        "id": "akt4ovWDt_P8"
      },
      "source": [
        "#split out created_at column\n",
        "\n",
        "all_data['year']=pd.to_datetime(all_data['created_at']).dt.year\n",
        "\n",
        "all_data['month']=pd.to_datetime(all_data['created_at']).dt.month\n",
        "\n",
        "all_data['hour']=pd.to_datetime(all_data['created_at']).dt.hour\n",
        "\n"
      ],
      "execution_count": null,
      "outputs": []
    },
    {
      "cell_type": "code",
      "metadata": {
        "id": "YMy6CTzpxFRo"
      },
      "source": [
        "all_data['date']=pd.to_datetime(all_data['created_at']).dt.day"
      ],
      "execution_count": null,
      "outputs": []
    },
    {
      "cell_type": "code",
      "metadata": {
        "colab": {
          "base_uri": "https://localhost:8080/",
          "height": 309
        },
        "id": "sCnwN2sNwo5B",
        "outputId": "f8438dfb-fb2e-48f2-f5a7-1c0ae5984fcb"
      },
      "source": [
        "all_data.head()"
      ],
      "execution_count": null,
      "outputs": [
        {
          "output_type": "execute_result",
          "data": {
            "text/html": [
              "<div>\n",
              "<style scoped>\n",
              "    .dataframe tbody tr th:only-of-type {\n",
              "        vertical-align: middle;\n",
              "    }\n",
              "\n",
              "    .dataframe tbody tr th {\n",
              "        vertical-align: top;\n",
              "    }\n",
              "\n",
              "    .dataframe thead th {\n",
              "        text-align: right;\n",
              "    }\n",
              "</style>\n",
              "<table border=\"1\" class=\"dataframe\">\n",
              "  <thead>\n",
              "    <tr style=\"text-align: right;\">\n",
              "      <th></th>\n",
              "      <th>ID</th>\n",
              "      <th>created_at</th>\n",
              "      <th>site</th>\n",
              "      <th>pm2_5</th>\n",
              "      <th>pm10</th>\n",
              "      <th>s2_pm2_5</th>\n",
              "      <th>s2_pm10</th>\n",
              "      <th>humidity</th>\n",
              "      <th>temp</th>\n",
              "      <th>lat</th>\n",
              "      <th>long</th>\n",
              "      <th>altitude</th>\n",
              "      <th>greenness</th>\n",
              "      <th>landform_90m</th>\n",
              "      <th>landform_270m</th>\n",
              "      <th>population</th>\n",
              "      <th>dist_major_road</th>\n",
              "      <th>ref_pm2_5</th>\n",
              "      <th>pa</th>\n",
              "      <th>year</th>\n",
              "      <th>month</th>\n",
              "      <th>hour</th>\n",
              "      <th>date</th>\n",
              "    </tr>\n",
              "  </thead>\n",
              "  <tbody>\n",
              "    <tr>\n",
              "      <th>0</th>\n",
              "      <td>ID_0038MG0B</td>\n",
              "      <td>2020-04-23 17:00:00+03:00</td>\n",
              "      <td>USEmbassy</td>\n",
              "      <td>6.819048</td>\n",
              "      <td>7.313810</td>\n",
              "      <td>6.794048</td>\n",
              "      <td>7.838333</td>\n",
              "      <td>0.807417</td>\n",
              "      <td>22.383333</td>\n",
              "      <td>0.299255</td>\n",
              "      <td>32.592686</td>\n",
              "      <td>1199</td>\n",
              "      <td>4374</td>\n",
              "      <td>21</td>\n",
              "      <td>14</td>\n",
              "      <td>6834</td>\n",
              "      <td>130</td>\n",
              "      <td>25.0</td>\n",
              "      <td>1</td>\n",
              "      <td>2020</td>\n",
              "      <td>4</td>\n",
              "      <td>17</td>\n",
              "      <td>23</td>\n",
              "    </tr>\n",
              "    <tr>\n",
              "      <th>1</th>\n",
              "      <td>ID_008ASVDD</td>\n",
              "      <td>2020-02-23 19:00:00+03:00</td>\n",
              "      <td>USEmbassy</td>\n",
              "      <td>57.456047</td>\n",
              "      <td>67.883488</td>\n",
              "      <td>55.643488</td>\n",
              "      <td>70.646977</td>\n",
              "      <td>0.712417</td>\n",
              "      <td>25.350000</td>\n",
              "      <td>0.299255</td>\n",
              "      <td>32.592686</td>\n",
              "      <td>1199</td>\n",
              "      <td>4374</td>\n",
              "      <td>21</td>\n",
              "      <td>14</td>\n",
              "      <td>6834</td>\n",
              "      <td>130</td>\n",
              "      <td>68.0</td>\n",
              "      <td>1</td>\n",
              "      <td>2020</td>\n",
              "      <td>2</td>\n",
              "      <td>19</td>\n",
              "      <td>23</td>\n",
              "    </tr>\n",
              "    <tr>\n",
              "      <th>2</th>\n",
              "      <td>ID_009ACJQ9</td>\n",
              "      <td>2021-01-23 04:00:00+03:00</td>\n",
              "      <td>Nakawa</td>\n",
              "      <td>170.009773</td>\n",
              "      <td>191.153636</td>\n",
              "      <td>165.308636</td>\n",
              "      <td>191.471591</td>\n",
              "      <td>0.907833</td>\n",
              "      <td>20.616667</td>\n",
              "      <td>0.331740</td>\n",
              "      <td>32.609510</td>\n",
              "      <td>1191</td>\n",
              "      <td>5865</td>\n",
              "      <td>31</td>\n",
              "      <td>-11</td>\n",
              "      <td>4780</td>\n",
              "      <td>500</td>\n",
              "      <td>149.7</td>\n",
              "      <td>1</td>\n",
              "      <td>2021</td>\n",
              "      <td>1</td>\n",
              "      <td>4</td>\n",
              "      <td>23</td>\n",
              "    </tr>\n",
              "    <tr>\n",
              "      <th>3</th>\n",
              "      <td>ID_00IGMAQ2</td>\n",
              "      <td>2019-12-04 09:00:00+03:00</td>\n",
              "      <td>USEmbassy</td>\n",
              "      <td>49.732821</td>\n",
              "      <td>61.512564</td>\n",
              "      <td>0.000000</td>\n",
              "      <td>0.000000</td>\n",
              "      <td>0.949667</td>\n",
              "      <td>21.216667</td>\n",
              "      <td>0.299255</td>\n",
              "      <td>32.592686</td>\n",
              "      <td>1199</td>\n",
              "      <td>4374</td>\n",
              "      <td>21</td>\n",
              "      <td>14</td>\n",
              "      <td>6834</td>\n",
              "      <td>130</td>\n",
              "      <td>54.0</td>\n",
              "      <td>1</td>\n",
              "      <td>2019</td>\n",
              "      <td>12</td>\n",
              "      <td>9</td>\n",
              "      <td>4</td>\n",
              "    </tr>\n",
              "    <tr>\n",
              "      <th>4</th>\n",
              "      <td>ID_00P76VAQ</td>\n",
              "      <td>2019-10-01 01:00:00+03:00</td>\n",
              "      <td>USEmbassy</td>\n",
              "      <td>41.630455</td>\n",
              "      <td>51.044545</td>\n",
              "      <td>41.725000</td>\n",
              "      <td>51.141364</td>\n",
              "      <td>0.913833</td>\n",
              "      <td>18.908333</td>\n",
              "      <td>0.299255</td>\n",
              "      <td>32.592686</td>\n",
              "      <td>1199</td>\n",
              "      <td>4374</td>\n",
              "      <td>21</td>\n",
              "      <td>14</td>\n",
              "      <td>6834</td>\n",
              "      <td>130</td>\n",
              "      <td>39.0</td>\n",
              "      <td>1</td>\n",
              "      <td>2019</td>\n",
              "      <td>10</td>\n",
              "      <td>1</td>\n",
              "      <td>1</td>\n",
              "    </tr>\n",
              "  </tbody>\n",
              "</table>\n",
              "</div>"
            ],
            "text/plain": [
              "            ID                 created_at       site  ...  month  hour  date\n",
              "0  ID_0038MG0B  2020-04-23 17:00:00+03:00  USEmbassy  ...      4    17    23\n",
              "1  ID_008ASVDD  2020-02-23 19:00:00+03:00  USEmbassy  ...      2    19    23\n",
              "2  ID_009ACJQ9  2021-01-23 04:00:00+03:00     Nakawa  ...      1     4    23\n",
              "3  ID_00IGMAQ2  2019-12-04 09:00:00+03:00  USEmbassy  ...     12     9     4\n",
              "4  ID_00P76VAQ  2019-10-01 01:00:00+03:00  USEmbassy  ...     10     1     1\n",
              "\n",
              "[5 rows x 23 columns]"
            ]
          },
          "metadata": {
            "tags": []
          },
          "execution_count": 10
        }
      ]
    },
    {
      "cell_type": "code",
      "metadata": {
        "colab": {
          "base_uri": "https://localhost:8080/"
        },
        "id": "NoWFqTU40tFn",
        "outputId": "74948f32-2e30-409a-e950-6a5a1d93eea6"
      },
      "source": [
        "all_data.info()"
      ],
      "execution_count": null,
      "outputs": [
        {
          "output_type": "stream",
          "text": [
            "<class 'pandas.core.frame.DataFrame'>\n",
            "RangeIndex: 13665 entries, 0 to 13664\n",
            "Data columns (total 23 columns):\n",
            " #   Column           Non-Null Count  Dtype  \n",
            "---  ------           --------------  -----  \n",
            " 0   ID               13665 non-null  object \n",
            " 1   created_at       13665 non-null  object \n",
            " 2   site             13665 non-null  object \n",
            " 3   pm2_5            13665 non-null  float64\n",
            " 4   pm10             13665 non-null  float64\n",
            " 5   s2_pm2_5         13665 non-null  float64\n",
            " 6   s2_pm10          13665 non-null  float64\n",
            " 7   humidity         13658 non-null  float64\n",
            " 8   temp             13644 non-null  float64\n",
            " 9   lat              13665 non-null  float64\n",
            " 10  long             13665 non-null  float64\n",
            " 11  altitude         13665 non-null  int64  \n",
            " 12  greenness        13665 non-null  int64  \n",
            " 13  landform_90m     13665 non-null  int64  \n",
            " 14  landform_270m    13665 non-null  int64  \n",
            " 15  population       13665 non-null  int64  \n",
            " 16  dist_major_road  13665 non-null  int64  \n",
            " 17  ref_pm2_5        10932 non-null  float64\n",
            " 18  pa               13665 non-null  int64  \n",
            " 19  year             13665 non-null  int64  \n",
            " 20  month            13665 non-null  int64  \n",
            " 21  hour             13665 non-null  int64  \n",
            " 22  date             13665 non-null  int64  \n",
            "dtypes: float64(9), int64(11), object(3)\n",
            "memory usage: 2.4+ MB\n"
          ],
          "name": "stdout"
        }
      ]
    },
    {
      "cell_type": "markdown",
      "metadata": {
        "id": "XVk4EcHlxLkX"
      },
      "source": [
        "# EDA"
      ]
    },
    {
      "cell_type": "code",
      "metadata": {
        "colab": {
          "base_uri": "https://localhost:8080/",
          "height": 317
        },
        "id": "P7gd2dwFySvg",
        "outputId": "3f923465-7850-49b1-dfe4-596df580b87d"
      },
      "source": [
        "all_data.describe()"
      ],
      "execution_count": null,
      "outputs": [
        {
          "output_type": "execute_result",
          "data": {
            "text/html": [
              "<div>\n",
              "<style scoped>\n",
              "    .dataframe tbody tr th:only-of-type {\n",
              "        vertical-align: middle;\n",
              "    }\n",
              "\n",
              "    .dataframe tbody tr th {\n",
              "        vertical-align: top;\n",
              "    }\n",
              "\n",
              "    .dataframe thead th {\n",
              "        text-align: right;\n",
              "    }\n",
              "</style>\n",
              "<table border=\"1\" class=\"dataframe\">\n",
              "  <thead>\n",
              "    <tr style=\"text-align: right;\">\n",
              "      <th></th>\n",
              "      <th>pm2_5</th>\n",
              "      <th>pm10</th>\n",
              "      <th>s2_pm2_5</th>\n",
              "      <th>s2_pm10</th>\n",
              "      <th>humidity</th>\n",
              "      <th>temp</th>\n",
              "      <th>lat</th>\n",
              "      <th>long</th>\n",
              "      <th>altitude</th>\n",
              "      <th>greenness</th>\n",
              "      <th>landform_90m</th>\n",
              "      <th>landform_270m</th>\n",
              "      <th>population</th>\n",
              "      <th>dist_major_road</th>\n",
              "      <th>ref_pm2_5</th>\n",
              "      <th>pa</th>\n",
              "      <th>year</th>\n",
              "      <th>month</th>\n",
              "      <th>hour</th>\n",
              "      <th>date</th>\n",
              "    </tr>\n",
              "  </thead>\n",
              "  <tbody>\n",
              "    <tr>\n",
              "      <th>count</th>\n",
              "      <td>13665.000000</td>\n",
              "      <td>13665.000000</td>\n",
              "      <td>13665.000000</td>\n",
              "      <td>13665.000000</td>\n",
              "      <td>13658.000000</td>\n",
              "      <td>13644.000000</td>\n",
              "      <td>13665.000000</td>\n",
              "      <td>13665.000000</td>\n",
              "      <td>13665.000000</td>\n",
              "      <td>13665.000000</td>\n",
              "      <td>13665.000000</td>\n",
              "      <td>13665.000000</td>\n",
              "      <td>13665.000000</td>\n",
              "      <td>13665.000000</td>\n",
              "      <td>10932.000000</td>\n",
              "      <td>13665.000000</td>\n",
              "      <td>13665.000000</td>\n",
              "      <td>13665.000000</td>\n",
              "      <td>13665.000000</td>\n",
              "      <td>13665.000000</td>\n",
              "    </tr>\n",
              "    <tr>\n",
              "      <th>mean</th>\n",
              "      <td>51.657810</td>\n",
              "      <td>59.899393</td>\n",
              "      <td>48.323712</td>\n",
              "      <td>56.905575</td>\n",
              "      <td>0.824645</td>\n",
              "      <td>21.969816</td>\n",
              "      <td>0.314090</td>\n",
              "      <td>32.588471</td>\n",
              "      <td>1207.407464</td>\n",
              "      <td>5166.947677</td>\n",
              "      <td>22.570435</td>\n",
              "      <td>14.053128</td>\n",
              "      <td>6990.075521</td>\n",
              "      <td>286.165386</td>\n",
              "      <td>53.018432</td>\n",
              "      <td>0.800000</td>\n",
              "      <td>2019.964508</td>\n",
              "      <td>6.870838</td>\n",
              "      <td>11.520454</td>\n",
              "      <td>16.105086</td>\n",
              "    </tr>\n",
              "    <tr>\n",
              "      <th>std</th>\n",
              "      <td>34.920267</td>\n",
              "      <td>38.520368</td>\n",
              "      <td>34.627287</td>\n",
              "      <td>39.269151</td>\n",
              "      <td>0.134754</td>\n",
              "      <td>2.798616</td>\n",
              "      <td>0.016703</td>\n",
              "      <td>0.013861</td>\n",
              "      <td>16.369318</td>\n",
              "      <td>904.989993</td>\n",
              "      <td>3.638551</td>\n",
              "      <td>12.404422</td>\n",
              "      <td>1201.804634</td>\n",
              "      <td>175.910056</td>\n",
              "      <td>35.570551</td>\n",
              "      <td>0.400015</td>\n",
              "      <td>0.613792</td>\n",
              "      <td>3.953264</td>\n",
              "      <td>6.928460</td>\n",
              "      <td>9.099563</td>\n",
              "    </tr>\n",
              "    <tr>\n",
              "      <th>min</th>\n",
              "      <td>0.567273</td>\n",
              "      <td>0.595909</td>\n",
              "      <td>0.000000</td>\n",
              "      <td>0.000000</td>\n",
              "      <td>0.307167</td>\n",
              "      <td>16.175000</td>\n",
              "      <td>0.299255</td>\n",
              "      <td>32.568561</td>\n",
              "      <td>1191.000000</td>\n",
              "      <td>4374.000000</td>\n",
              "      <td>21.000000</td>\n",
              "      <td>-11.000000</td>\n",
              "      <td>4780.000000</td>\n",
              "      <td>130.000000</td>\n",
              "      <td>0.100000</td>\n",
              "      <td>0.000000</td>\n",
              "      <td>2019.000000</td>\n",
              "      <td>1.000000</td>\n",
              "      <td>0.000000</td>\n",
              "      <td>1.000000</td>\n",
              "    </tr>\n",
              "    <tr>\n",
              "      <th>25%</th>\n",
              "      <td>29.096000</td>\n",
              "      <td>33.333864</td>\n",
              "      <td>26.298182</td>\n",
              "      <td>29.895714</td>\n",
              "      <td>0.735438</td>\n",
              "      <td>19.783333</td>\n",
              "      <td>0.299255</td>\n",
              "      <td>32.568561</td>\n",
              "      <td>1199.000000</td>\n",
              "      <td>4374.000000</td>\n",
              "      <td>21.000000</td>\n",
              "      <td>14.000000</td>\n",
              "      <td>6834.000000</td>\n",
              "      <td>130.000000</td>\n",
              "      <td>30.000000</td>\n",
              "      <td>1.000000</td>\n",
              "      <td>2020.000000</td>\n",
              "      <td>2.000000</td>\n",
              "      <td>6.000000</td>\n",
              "      <td>8.000000</td>\n",
              "    </tr>\n",
              "    <tr>\n",
              "      <th>50%</th>\n",
              "      <td>43.749231</td>\n",
              "      <td>54.436000</td>\n",
              "      <td>42.238889</td>\n",
              "      <td>52.658333</td>\n",
              "      <td>0.857250</td>\n",
              "      <td>21.366667</td>\n",
              "      <td>0.299255</td>\n",
              "      <td>32.592686</td>\n",
              "      <td>1199.000000</td>\n",
              "      <td>4374.000000</td>\n",
              "      <td>21.000000</td>\n",
              "      <td>14.000000</td>\n",
              "      <td>6834.000000</td>\n",
              "      <td>130.000000</td>\n",
              "      <td>43.900000</td>\n",
              "      <td>1.000000</td>\n",
              "      <td>2020.000000</td>\n",
              "      <td>8.000000</td>\n",
              "      <td>12.000000</td>\n",
              "      <td>16.000000</td>\n",
              "    </tr>\n",
              "    <tr>\n",
              "      <th>75%</th>\n",
              "      <td>63.949535</td>\n",
              "      <td>74.957619</td>\n",
              "      <td>61.153023</td>\n",
              "      <td>73.337674</td>\n",
              "      <td>0.933167</td>\n",
              "      <td>24.025000</td>\n",
              "      <td>0.333501</td>\n",
              "      <td>32.592686</td>\n",
              "      <td>1233.000000</td>\n",
              "      <td>6340.000000</td>\n",
              "      <td>21.000000</td>\n",
              "      <td>28.000000</td>\n",
              "      <td>8518.000000</td>\n",
              "      <td>475.000000</td>\n",
              "      <td>66.000000</td>\n",
              "      <td>1.000000</td>\n",
              "      <td>2020.000000</td>\n",
              "      <td>10.000000</td>\n",
              "      <td>18.000000</td>\n",
              "      <td>24.000000</td>\n",
              "    </tr>\n",
              "    <tr>\n",
              "      <th>max</th>\n",
              "      <td>335.433023</td>\n",
              "      <td>407.713953</td>\n",
              "      <td>330.275152</td>\n",
              "      <td>384.627045</td>\n",
              "      <td>1.000000</td>\n",
              "      <td>30.781818</td>\n",
              "      <td>0.333501</td>\n",
              "      <td>32.609510</td>\n",
              "      <td>1233.000000</td>\n",
              "      <td>6340.000000</td>\n",
              "      <td>31.000000</td>\n",
              "      <td>28.000000</td>\n",
              "      <td>8518.000000</td>\n",
              "      <td>500.000000</td>\n",
              "      <td>459.000000</td>\n",
              "      <td>1.000000</td>\n",
              "      <td>2021.000000</td>\n",
              "      <td>12.000000</td>\n",
              "      <td>23.000000</td>\n",
              "      <td>31.000000</td>\n",
              "    </tr>\n",
              "  </tbody>\n",
              "</table>\n",
              "</div>"
            ],
            "text/plain": [
              "              pm2_5          pm10  ...          hour          date\n",
              "count  13665.000000  13665.000000  ...  13665.000000  13665.000000\n",
              "mean      51.657810     59.899393  ...     11.520454     16.105086\n",
              "std       34.920267     38.520368  ...      6.928460      9.099563\n",
              "min        0.567273      0.595909  ...      0.000000      1.000000\n",
              "25%       29.096000     33.333864  ...      6.000000      8.000000\n",
              "50%       43.749231     54.436000  ...     12.000000     16.000000\n",
              "75%       63.949535     74.957619  ...     18.000000     24.000000\n",
              "max      335.433023    407.713953  ...     23.000000     31.000000\n",
              "\n",
              "[8 rows x 20 columns]"
            ]
          },
          "metadata": {
            "tags": []
          },
          "execution_count": 12
        }
      ]
    },
    {
      "cell_type": "code",
      "metadata": {
        "colab": {
          "base_uri": "https://localhost:8080/"
        },
        "id": "MKZWfAtX20AE",
        "outputId": "9c0cd4a7-2882-49af-e309-d9042b7559f4"
      },
      "source": [
        "all_data.nunique()"
      ],
      "execution_count": null,
      "outputs": [
        {
          "output_type": "execute_result",
          "data": {
            "text/plain": [
              "ID                 13665\n",
              "created_at         10940\n",
              "site                   3\n",
              "pm2_5              13634\n",
              "pm10               13633\n",
              "s2_pm2_5           12999\n",
              "s2_pm10            13015\n",
              "humidity            4625\n",
              "temp                1642\n",
              "lat                    3\n",
              "long                   3\n",
              "altitude               3\n",
              "greenness              3\n",
              "landform_90m           2\n",
              "landform_270m          3\n",
              "population             3\n",
              "dist_major_road        3\n",
              "ref_pm2_5           1233\n",
              "pa                     2\n",
              "year                   3\n",
              "month                 12\n",
              "hour                  24\n",
              "date                  31\n",
              "dtype: int64"
            ]
          },
          "metadata": {
            "tags": []
          },
          "execution_count": 13
        }
      ]
    },
    {
      "cell_type": "code",
      "metadata": {
        "id": "mzf05PXn4LOE"
      },
      "source": [
        "l_4=c = all_data.columns[(all_data.nunique() < 6)]"
      ],
      "execution_count": null,
      "outputs": []
    },
    {
      "cell_type": "code",
      "metadata": {
        "id": "Xw2GKkCl5mdL"
      },
      "source": [
        "l_4_f=['site', 'lat', 'long', 'altitude', 'greenness', 'landform_90m','landform_270m', 'population', 'dist_major_road', 'year']"
      ],
      "execution_count": null,
      "outputs": []
    },
    {
      "cell_type": "code",
      "metadata": {
        "colab": {
          "base_uri": "https://localhost:8080/",
          "height": 368
        },
        "id": "yhmSNnMsxNX3",
        "outputId": "14f1a7f3-6606-4e56-ab5d-72537d4ed0cf"
      },
      "source": [
        "#site\n",
        "\n",
        "print(all_data[\"site\"].value_counts(),\"\\n\")\n",
        "plt.figure(figsize=(10,4))\n",
        "sns.countplot(x = all_data[\"site\"])\n",
        "plt.show()"
      ],
      "execution_count": null,
      "outputs": [
        {
          "output_type": "stream",
          "text": [
            "USEmbassy    7635\n",
            "Makerere     3884\n",
            "Nakawa       2146\n",
            "Name: site, dtype: int64 \n",
            "\n"
          ],
          "name": "stdout"
        },
        {
          "output_type": "display_data",
          "data": {
            "image/png": "[encoded data removed]",
            "text/plain": [
              "<Figure size 720x288 with 1 Axes>"
            ]
          },
          "metadata": {
            "tags": [],
            "needs_background": "light"
          }
        }
      ]
    },
    {
      "cell_type": "code",
      "metadata": {
        "colab": {
          "base_uri": "https://localhost:8080/",
          "height": 1000
        },
        "id": "lBXy1bXs3XLA",
        "outputId": "e310cd2a-a1dc-47b1-f3e3-b98974871392"
      },
      "source": [
        "for f in  l_4_f:\n",
        "    data=all_data.copy()\n",
        "    print(all_data[f].value_counts(),\"\\n\")\n",
        "    plt.figure(figsize=(10,4))\n",
        "    plt.title(f, fontdict={'size':15})\n",
        "    sns.countplot(x = all_data[f])\n",
        "    plt.show()\n",
        "    "
      ],
      "execution_count": null,
      "outputs": [
        {
          "output_type": "stream",
          "text": [
            "USEmbassy    7635\n",
            "Makerere     3884\n",
            "Nakawa       2146\n",
            "Name: site, dtype: int64 \n",
            "\n"
          ],
          "name": "stdout"
        },
        {
          "output_type": "display_data",
          "data": {
            "image/png": "[encoded data removed]",
            "text/plain": [
              "<Figure size 720x288 with 1 Axes>"
            ]
          },
          "metadata": {
            "tags": [],
            "needs_background": "light"
          }
        },
        {
          "output_type": "stream",
          "text": [
            "0.299255    7635\n",
            "0.333501    3884\n",
            "0.331740    2146\n",
            "Name: lat, dtype: int64 \n",
            "\n"
          ],
          "name": "stdout"
        },
        {
          "output_type": "display_data",
          "data": {
            "image/png": "[encoded data removed]",
            "text/plain": [
              "<Figure size 720x288 with 1 Axes>"
            ]
          },
          "metadata": {
            "tags": [],
            "needs_background": "light"
          }
        },
        {
          "output_type": "stream",
          "text": [
            "32.592686    7635\n",
            "32.568561    3884\n",
            "32.609510    2146\n",
            "Name: long, dtype: int64 \n",
            "\n"
          ],
          "name": "stdout"
        },
        {
          "output_type": "display_data",
          "data": {
            "image/png": "[encoded data removed]",
            "text/plain": [
              "<Figure size 720x288 with 1 Axes>"
            ]
          },
          "metadata": {
            "tags": [],
            "needs_background": "light"
          }
        },
        {
          "output_type": "stream",
          "text": [
            "1199    7635\n",
            "1233    3884\n",
            "1191    2146\n",
            "Name: altitude, dtype: int64 \n",
            "\n"
          ],
          "name": "stdout"
        },
        {
          "output_type": "display_data",
          "data": {
            "image/png": "[encoded data removed]",
            "text/plain": [
              "<Figure size 720x288 with 1 Axes>"
            ]
          },
          "metadata": {
            "tags": [],
            "needs_background": "light"
          }
        },
        {
          "output_type": "stream",
          "text": [
            "4374    7635\n",
            "6340    3884\n",
            "5865    2146\n",
            "Name: greenness, dtype: int64 \n",
            "\n"
          ],
          "name": "stdout"
        },
        {
          "output_type": "display_data",
          "data": {
            "image/png": "[encoded data removed]",
            "text/plain": [
              "<Figure size 720x288 with 1 Axes>"
            ]
          },
          "metadata": {
            "tags": [],
            "needs_background": "light"
          }
        },
        {
          "output_type": "stream",
          "text": [
            "21    11519\n",
            "31     2146\n",
            "Name: landform_90m, dtype: int64 \n",
            "\n"
          ],
          "name": "stdout"
        },
        {
          "output_type": "display_data",
          "data": {
            "image/png": "[encoded data removed]",
            "text/plain": [
              "<Figure size 720x288 with 1 Axes>"
            ]
          },
          "metadata": {
            "tags": [],
            "needs_background": "light"
          }
        },
        {
          "output_type": "stream",
          "text": [
            " 14    7635\n",
            " 28    3884\n",
            "-11    2146\n",
            "Name: landform_270m, dtype: int64 \n",
            "\n"
          ],
          "name": "stdout"
        },
        {
          "output_type": "display_data",
          "data": {
            "image/png": "[encoded data removed]",
            "text/plain": [
              "<Figure size 720x288 with 1 Axes>"
            ]
          },
          "metadata": {
            "tags": [],
            "needs_background": "light"
          }
        },
        {
          "output_type": "stream",
          "text": [
            "6834    7635\n",
            "8518    3884\n",
            "4780    2146\n",
            "Name: population, dtype: int64 \n",
            "\n"
          ],
          "name": "stdout"
        },
        {
          "output_type": "display_data",
          "data": {
            "image/png": "[encoded data removed]",
            "text/plain": [
              "<Figure size 720x288 with 1 Axes>"
            ]
          },
          "metadata": {
            "tags": [],
            "needs_background": "light"
          }
        },
        {
          "output_type": "stream",
          "text": [
            "130    7635\n",
            "475    3884\n",
            "500    2146\n",
            "Name: dist_major_road, dtype: int64 \n",
            "\n"
          ],
          "name": "stdout"
        },
        {
          "output_type": "display_data",
          "data": {
            "image/png": "[encoded data removed]",
            "text/plain": [
              "<Figure size 720x288 with 1 Axes>"
            ]
          },
          "metadata": {
            "tags": [],
            "needs_background": "light"
          }
        },
        {
          "output_type": "stream",
          "text": [
            "2020    8500\n",
            "2019    2825\n",
            "2021    2340\n",
            "Name: year, dtype: int64 \n",
            "\n"
          ],
          "name": "stdout"
        },
        {
          "output_type": "display_data",
          "data": {
            "image/png": "[encoded data removed]",
            "text/plain": [
              "<Figure size 720x288 with 1 Axes>"
            ]
          },
          "metadata": {
            "tags": [],
            "needs_background": "light"
          }
        }
      ]
    },
    {
      "cell_type": "code",
      "metadata": {
        "id": "ifTHpfadxnZu"
      },
      "source": [
        "print(train.ref_pm2_5\t.nunique(),\"\\n\")\n",
        "plt.subplot(121)\n",
        "sns.distplot(train['ref_pm2_5'],color=\"b\");\n",
        "\n",
        "plt.subplot(122)\n",
        "train['ref_pm2_5'].plot.box(figsize=(16,5))\n",
        "\n",
        "plt.show()\n",
        "\n",
        "#have some outliers must check it"
      ],
      "execution_count": null,
      "outputs": []
    },
    {
      "cell_type": "code",
      "metadata": {
        "colab": {
          "base_uri": "https://localhost:8080/",
          "height": 309
        },
        "id": "ft8YJeDV1RXx",
        "outputId": "03bc476b-5b6b-4bb0-a433-0c936926b7ab"
      },
      "source": [
        "all_data.head()"
      ],
      "execution_count": null,
      "outputs": [
        {
          "output_type": "execute_result",
          "data": {
            "text/html": [
              "<div>\n",
              "<style scoped>\n",
              "    .dataframe tbody tr th:only-of-type {\n",
              "        vertical-align: middle;\n",
              "    }\n",
              "\n",
              "    .dataframe tbody tr th {\n",
              "        vertical-align: top;\n",
              "    }\n",
              "\n",
              "    .dataframe thead th {\n",
              "        text-align: right;\n",
              "    }\n",
              "</style>\n",
              "<table border=\"1\" class=\"dataframe\">\n",
              "  <thead>\n",
              "    <tr style=\"text-align: right;\">\n",
              "      <th></th>\n",
              "      <th>ID</th>\n",
              "      <th>created_at</th>\n",
              "      <th>site</th>\n",
              "      <th>pm2_5</th>\n",
              "      <th>pm10</th>\n",
              "      <th>s2_pm2_5</th>\n",
              "      <th>s2_pm10</th>\n",
              "      <th>humidity</th>\n",
              "      <th>temp</th>\n",
              "      <th>lat</th>\n",
              "      <th>long</th>\n",
              "      <th>altitude</th>\n",
              "      <th>greenness</th>\n",
              "      <th>landform_90m</th>\n",
              "      <th>landform_270m</th>\n",
              "      <th>population</th>\n",
              "      <th>dist_major_road</th>\n",
              "      <th>ref_pm2_5</th>\n",
              "      <th>pa</th>\n",
              "      <th>year</th>\n",
              "      <th>month</th>\n",
              "      <th>hour</th>\n",
              "      <th>date</th>\n",
              "    </tr>\n",
              "  </thead>\n",
              "  <tbody>\n",
              "    <tr>\n",
              "      <th>0</th>\n",
              "      <td>ID_0038MG0B</td>\n",
              "      <td>2020-04-23 17:00:00+03:00</td>\n",
              "      <td>USEmbassy</td>\n",
              "      <td>6.819048</td>\n",
              "      <td>7.313810</td>\n",
              "      <td>6.794048</td>\n",
              "      <td>7.838333</td>\n",
              "      <td>0.807417</td>\n",
              "      <td>22.383333</td>\n",
              "      <td>0.299255</td>\n",
              "      <td>32.592686</td>\n",
              "      <td>1199</td>\n",
              "      <td>4374</td>\n",
              "      <td>21</td>\n",
              "      <td>14</td>\n",
              "      <td>6834</td>\n",
              "      <td>130</td>\n",
              "      <td>25.0</td>\n",
              "      <td>1</td>\n",
              "      <td>2020</td>\n",
              "      <td>4</td>\n",
              "      <td>17</td>\n",
              "      <td>23</td>\n",
              "    </tr>\n",
              "    <tr>\n",
              "      <th>1</th>\n",
              "      <td>ID_008ASVDD</td>\n",
              "      <td>2020-02-23 19:00:00+03:00</td>\n",
              "      <td>USEmbassy</td>\n",
              "      <td>57.456047</td>\n",
              "      <td>67.883488</td>\n",
              "      <td>55.643488</td>\n",
              "      <td>70.646977</td>\n",
              "      <td>0.712417</td>\n",
              "      <td>25.350000</td>\n",
              "      <td>0.299255</td>\n",
              "      <td>32.592686</td>\n",
              "      <td>1199</td>\n",
              "      <td>4374</td>\n",
              "      <td>21</td>\n",
              "      <td>14</td>\n",
              "      <td>6834</td>\n",
              "      <td>130</td>\n",
              "      <td>68.0</td>\n",
              "      <td>1</td>\n",
              "      <td>2020</td>\n",
              "      <td>2</td>\n",
              "      <td>19</td>\n",
              "      <td>23</td>\n",
              "    </tr>\n",
              "    <tr>\n",
              "      <th>2</th>\n",
              "      <td>ID_009ACJQ9</td>\n",
              "      <td>2021-01-23 04:00:00+03:00</td>\n",
              "      <td>Nakawa</td>\n",
              "      <td>170.009773</td>\n",
              "      <td>191.153636</td>\n",
              "      <td>165.308636</td>\n",
              "      <td>191.471591</td>\n",
              "      <td>0.907833</td>\n",
              "      <td>20.616667</td>\n",
              "      <td>0.331740</td>\n",
              "      <td>32.609510</td>\n",
              "      <td>1191</td>\n",
              "      <td>5865</td>\n",
              "      <td>31</td>\n",
              "      <td>-11</td>\n",
              "      <td>4780</td>\n",
              "      <td>500</td>\n",
              "      <td>149.7</td>\n",
              "      <td>1</td>\n",
              "      <td>2021</td>\n",
              "      <td>1</td>\n",
              "      <td>4</td>\n",
              "      <td>23</td>\n",
              "    </tr>\n",
              "    <tr>\n",
              "      <th>3</th>\n",
              "      <td>ID_00IGMAQ2</td>\n",
              "      <td>2019-12-04 09:00:00+03:00</td>\n",
              "      <td>USEmbassy</td>\n",
              "      <td>49.732821</td>\n",
              "      <td>61.512564</td>\n",
              "      <td>0.000000</td>\n",
              "      <td>0.000000</td>\n",
              "      <td>0.949667</td>\n",
              "      <td>21.216667</td>\n",
              "      <td>0.299255</td>\n",
              "      <td>32.592686</td>\n",
              "      <td>1199</td>\n",
              "      <td>4374</td>\n",
              "      <td>21</td>\n",
              "      <td>14</td>\n",
              "      <td>6834</td>\n",
              "      <td>130</td>\n",
              "      <td>54.0</td>\n",
              "      <td>1</td>\n",
              "      <td>2019</td>\n",
              "      <td>12</td>\n",
              "      <td>9</td>\n",
              "      <td>4</td>\n",
              "    </tr>\n",
              "    <tr>\n",
              "      <th>4</th>\n",
              "      <td>ID_00P76VAQ</td>\n",
              "      <td>2019-10-01 01:00:00+03:00</td>\n",
              "      <td>USEmbassy</td>\n",
              "      <td>41.630455</td>\n",
              "      <td>51.044545</td>\n",
              "      <td>41.725000</td>\n",
              "      <td>51.141364</td>\n",
              "      <td>0.913833</td>\n",
              "      <td>18.908333</td>\n",
              "      <td>0.299255</td>\n",
              "      <td>32.592686</td>\n",
              "      <td>1199</td>\n",
              "      <td>4374</td>\n",
              "      <td>21</td>\n",
              "      <td>14</td>\n",
              "      <td>6834</td>\n",
              "      <td>130</td>\n",
              "      <td>39.0</td>\n",
              "      <td>1</td>\n",
              "      <td>2019</td>\n",
              "      <td>10</td>\n",
              "      <td>1</td>\n",
              "      <td>1</td>\n",
              "    </tr>\n",
              "  </tbody>\n",
              "</table>\n",
              "</div>"
            ],
            "text/plain": [
              "            ID                 created_at       site  ...  month  hour  date\n",
              "0  ID_0038MG0B  2020-04-23 17:00:00+03:00  USEmbassy  ...      4    17    23\n",
              "1  ID_008ASVDD  2020-02-23 19:00:00+03:00  USEmbassy  ...      2    19    23\n",
              "2  ID_009ACJQ9  2021-01-23 04:00:00+03:00     Nakawa  ...      1     4    23\n",
              "3  ID_00IGMAQ2  2019-12-04 09:00:00+03:00  USEmbassy  ...     12     9     4\n",
              "4  ID_00P76VAQ  2019-10-01 01:00:00+03:00  USEmbassy  ...     10     1     1\n",
              "\n",
              "[5 rows x 23 columns]"
            ]
          },
          "metadata": {
            "tags": []
          },
          "execution_count": 21
        }
      ]
    },
    {
      "cell_type": "code",
      "metadata": {
        "id": "Sk2X9P3o1ByH"
      },
      "source": [
        "cat_cols = ['site','created_at']\n",
        "num_cols = [col for col in all_data.columns if col not in cat_cols+['ID','pa','year','month','hour','date']]"
      ],
      "execution_count": null,
      "outputs": []
    },
    {
      "cell_type": "code",
      "metadata": {
        "colab": {
          "base_uri": "https://localhost:8080/"
        },
        "id": "Thd_4L_e2ECm",
        "outputId": "35fc3335-29a3-420e-bf68-52d5e5f01b22"
      },
      "source": [
        "num_cols"
      ],
      "execution_count": null,
      "outputs": [
        {
          "output_type": "execute_result",
          "data": {
            "text/plain": [
              "['pm2_5',\n",
              " 'pm10',\n",
              " 's2_pm2_5',\n",
              " 's2_pm10',\n",
              " 'humidity',\n",
              " 'temp',\n",
              " 'lat',\n",
              " 'long',\n",
              " 'altitude',\n",
              " 'greenness',\n",
              " 'landform_90m',\n",
              " 'landform_270m',\n",
              " 'population',\n",
              " 'dist_major_road',\n",
              " 'ref_pm2_5']"
            ]
          },
          "metadata": {
            "tags": []
          },
          "execution_count": 16
        }
      ]
    },
    {
      "cell_type": "code",
      "metadata": {
        "colab": {
          "base_uri": "https://localhost:8080/",
          "height": 1000
        },
        "id": "uOaqmZony5SZ",
        "outputId": "cb00e8c5-a09c-4c85-bade-052dd0060128"
      },
      "source": [
        "for f in  num_cols:\n",
        "    data=all_data.copy()\n",
        "    plt.title(f, fontdict={'size':15})\n",
        "    print(data[f].nunique(),\"\\n\")\n",
        "    plt.subplot(121)\n",
        "    sns.distplot(data[f]);\n",
        "    plt.subplot(122)\n",
        "    train[f].plot.box(figsize=(16,5))\n",
        "    plt.show()"
      ],
      "execution_count": null,
      "outputs": [
        {
          "output_type": "stream",
          "text": [
            "13634 \n",
            "\n"
          ],
          "name": "stdout"
        },
        {
          "output_type": "display_data",
          "data": {
            "image/png": "[encoded data removed]",
            "text/plain": [
              "<Figure size 1152x360 with 2 Axes>"
            ]
          },
          "metadata": {
            "tags": [],
            "needs_background": "light"
          }
        },
        {
          "output_type": "stream",
          "text": [
            "13633 \n",
            "\n"
          ],
          "name": "stdout"
        },
        {
          "output_type": "display_data",
          "data": {
            "image/png": "[encoded data removed]",
            "text/plain": [
              "<Figure size 1152x360 with 2 Axes>"
            ]
          },
          "metadata": {
            "tags": [],
            "needs_background": "light"
          }
        },
        {
          "output_type": "stream",
          "text": [
            "12999 \n",
            "\n"
          ],
          "name": "stdout"
        },
        {
          "output_type": "display_data",
          "data": {
            "image/png": "[encoded data removed]",
            "text/plain": [
              "<Figure size 1152x360 with 2 Axes>"
            ]
          },
          "metadata": {
            "tags": [],
            "needs_background": "light"
          }
        },
        {
          "output_type": "stream",
          "text": [
            "13015 \n",
            "\n"
          ],
          "name": "stdout"
        },
        {
          "output_type": "display_data",
          "data": {
            "image/png": "[encoded data removed]",
            "text/plain": [
              "<Figure size 1152x360 with 2 Axes>"
            ]
          },
          "metadata": {
            "tags": [],
            "needs_background": "light"
          }
        },
        {
          "output_type": "stream",
          "text": [
            "4625 \n",
            "\n"
          ],
          "name": "stdout"
        },
        {
          "output_type": "display_data",
          "data": {
            "image/png": "[encoded data removed]",
            "text/plain": [
              "<Figure size 1152x360 with 2 Axes>"
            ]
          },
          "metadata": {
            "tags": [],
            "needs_background": "light"
          }
        },
        {
          "output_type": "stream",
          "text": [
            "1642 \n",
            "\n"
          ],
          "name": "stdout"
        },
        {
          "output_type": "display_data",
          "data": {
            "image/png": "[encoded data removed]",
            "text/plain": [
              "<Figure size 1152x360 with 2 Axes>"
            ]
          },
          "metadata": {
            "tags": [],
            "needs_background": "light"
          }
        },
        {
          "output_type": "stream",
          "text": [
            "3 \n",
            "\n"
          ],
          "name": "stdout"
        },
        {
          "output_type": "display_data",
          "data": {
            "image/png": "[encoded data removed]",
            "text/plain": [
              "<Figure size 1152x360 with 2 Axes>"
            ]
          },
          "metadata": {
            "tags": [],
            "needs_background": "light"
          }
        },
        {
          "output_type": "stream",
          "text": [
            "3 \n",
            "\n"
          ],
          "name": "stdout"
        },
        {
          "output_type": "display_data",
          "data": {
            "image/png": "[encoded data removed]",
            "text/plain": [
              "<Figure size 1152x360 with 2 Axes>"
            ]
          },
          "metadata": {
            "tags": [],
            "needs_background": "light"
          }
        },
        {
          "output_type": "stream",
          "text": [
            "3 \n",
            "\n"
          ],
          "name": "stdout"
        },
        {
          "output_type": "display_data",
          "data": {
            "image/png": "[encoded data removed]",
            "text/plain": [
              "<Figure size 1152x360 with 2 Axes>"
            ]
          },
          "metadata": {
            "tags": [],
            "needs_background": "light"
          }
        },
        {
          "output_type": "stream",
          "text": [
            "3 \n",
            "\n"
          ],
          "name": "stdout"
        },
        {
          "output_type": "display_data",
          "data": {
            "image/png": "[encoded data removed]",
            "text/plain": [
              "<Figure size 1152x360 with 2 Axes>"
            ]
          },
          "metadata": {
            "tags": [],
            "needs_background": "light"
          }
        },
        {
          "output_type": "stream",
          "text": [
            "2 \n",
            "\n"
          ],
          "name": "stdout"
        },
        {
          "output_type": "display_data",
          "data": {
            "image/png": "[encoded data removed]",
            "text/plain": [
              "<Figure size 1152x360 with 2 Axes>"
            ]
          },
          "metadata": {
            "tags": [],
            "needs_background": "light"
          }
        },
        {
          "output_type": "stream",
          "text": [
            "3 \n",
            "\n"
          ],
          "name": "stdout"
        },
        {
          "output_type": "display_data",
          "data": {
            "image/png": "[encoded data removed]",
            "text/plain": [
              "<Figure size 1152x360 with 2 Axes>"
            ]
          },
          "metadata": {
            "tags": [],
            "needs_background": "light"
          }
        },
        {
          "output_type": "stream",
          "text": [
            "3 \n",
            "\n"
          ],
          "name": "stdout"
        },
        {
          "output_type": "display_data",
          "data": {
            "image/png": "[encoded data removed]",
            "text/plain": [
              "<Figure size 1152x360 with 2 Axes>"
            ]
          },
          "metadata": {
            "tags": [],
            "needs_background": "light"
          }
        },
        {
          "output_type": "stream",
          "text": [
            "3 \n",
            "\n"
          ],
          "name": "stdout"
        },
        {
          "output_type": "display_data",
          "data": {
            "image/png": "[encoded data removed]",
            "text/plain": [
              "<Figure size 1152x360 with 2 Axes>"
            ]
          },
          "metadata": {
            "tags": [],
            "needs_background": "light"
          }
        },
        {
          "output_type": "stream",
          "text": [
            "1233 \n",
            "\n"
          ],
          "name": "stdout"
        },
        {
          "output_type": "display_data",
          "data": {
            "image/png": "[encoded data removed]",
            "text/plain": [
              "<Figure size 1152x360 with 2 Axes>"
            ]
          },
          "metadata": {
            "tags": [],
            "needs_background": "light"
          }
        }
      ]
    },
    {
      "cell_type": "code",
      "metadata": {
        "id": "5BkHARTd2q1h"
      },
      "source": [
        "#all_data.loc[all_data.site=='USEmbassy']"
      ],
      "execution_count": null,
      "outputs": []
    },
    {
      "cell_type": "code",
      "metadata": {
        "colab": {
          "base_uri": "https://localhost:8080/"
        },
        "id": "7jf7hHoYMG5a",
        "outputId": "5fe1e142-7657-4603-e1be-7311617f93bf"
      },
      "source": [
        "all_data[\"site\"].unique()"
      ],
      "execution_count": null,
      "outputs": [
        {
          "output_type": "execute_result",
          "data": {
            "text/plain": [
              "array(['USEmbassy', 'Nakawa', 'Makerere'], dtype=object)"
            ]
          },
          "metadata": {
            "tags": []
          },
          "execution_count": 17
        }
      ]
    },
    {
      "cell_type": "code",
      "metadata": {
        "id": "EMP0K7aBMVR0"
      },
      "source": [
        "site = all_data[[\"site\"]]\n",
        "\n",
        "site = pd.get_dummies(site, drop_first= True)\n"
      ],
      "execution_count": null,
      "outputs": []
    },
    {
      "cell_type": "code",
      "metadata": {
        "id": "74BN8EMsc_t0"
      },
      "source": [
        "ye = all_data[[\"year\"]]\n",
        "\n",
        "ye = pd.get_dummies(ye, drop_first= True)"
      ],
      "execution_count": null,
      "outputs": []
    },
    {
      "cell_type": "code",
      "metadata": {
        "id": "c8IQ08kDMkJy"
      },
      "source": [
        "full_data= pd.concat([all_data,site], axis = 1)\n",
        "full_data=full_data.drop(['site'],axis=1)"
      ],
      "execution_count": null,
      "outputs": []
    },
    {
      "cell_type": "code",
      "metadata": {
        "id": "NmjaIXFqNFnF",
        "colab": {
          "base_uri": "https://localhost:8080/"
        },
        "outputId": "e4a8e5b4-8204-4675-b75d-8fcbd65b68c8"
      },
      "source": [
        "full_data.info()"
      ],
      "execution_count": null,
      "outputs": [
        {
          "output_type": "stream",
          "text": [
            "<class 'pandas.core.frame.DataFrame'>\n",
            "RangeIndex: 13665 entries, 0 to 13664\n",
            "Data columns (total 24 columns):\n",
            " #   Column           Non-Null Count  Dtype  \n",
            "---  ------           --------------  -----  \n",
            " 0   ID               13665 non-null  object \n",
            " 1   created_at       13665 non-null  object \n",
            " 2   pm2_5            13665 non-null  float64\n",
            " 3   pm10             13665 non-null  float64\n",
            " 4   s2_pm2_5         13665 non-null  float64\n",
            " 5   s2_pm10          13665 non-null  float64\n",
            " 6   humidity         13658 non-null  float64\n",
            " 7   temp             13644 non-null  float64\n",
            " 8   lat              13665 non-null  float64\n",
            " 9   long             13665 non-null  float64\n",
            " 10  altitude         13665 non-null  int64  \n",
            " 11  greenness        13665 non-null  int64  \n",
            " 12  landform_90m     13665 non-null  int64  \n",
            " 13  landform_270m    13665 non-null  int64  \n",
            " 14  population       13665 non-null  int64  \n",
            " 15  dist_major_road  13665 non-null  int64  \n",
            " 16  ref_pm2_5        10932 non-null  float64\n",
            " 17  pa               13665 non-null  int64  \n",
            " 18  year             13665 non-null  int64  \n",
            " 19  month            13665 non-null  int64  \n",
            " 20  hour             13665 non-null  int64  \n",
            " 21  date             13665 non-null  int64  \n",
            " 22  site_Nakawa      13665 non-null  uint8  \n",
            " 23  site_USEmbassy   13665 non-null  uint8  \n",
            "dtypes: float64(9), int64(11), object(2), uint8(2)\n",
            "memory usage: 2.3+ MB\n"
          ],
          "name": "stdout"
        }
      ]
    },
    {
      "cell_type": "code",
      "metadata": {
        "id": "wKcWm11lNTqk"
      },
      "source": [
        "rel=[col for col in full_data.columns if col not in ['ID','pa','site', 'lat', 'long', 'altitude', 'greenness', 'landform_90m','landform_270m', 'population', 'dist_major_road']]"
      ],
      "execution_count": null,
      "outputs": []
    },
    {
      "cell_type": "code",
      "metadata": {
        "colab": {
          "base_uri": "https://localhost:8080/"
        },
        "id": "O20m7GvsNu6r",
        "outputId": "ffa9b3ed-ab07-4272-8387-a9175c9547f0"
      },
      "source": [
        "rel"
      ],
      "execution_count": null,
      "outputs": [
        {
          "output_type": "execute_result",
          "data": {
            "text/plain": [
              "['created_at',\n",
              " 'pm2_5',\n",
              " 'pm10',\n",
              " 's2_pm2_5',\n",
              " 's2_pm10',\n",
              " 'humidity',\n",
              " 'temp',\n",
              " 'ref_pm2_5',\n",
              " 'year',\n",
              " 'month',\n",
              " 'hour',\n",
              " 'date',\n",
              " 'site_Nakawa',\n",
              " 'site_USEmbassy']"
            ]
          },
          "metadata": {
            "tags": []
          },
          "execution_count": 21
        }
      ]
    },
    {
      "cell_type": "code",
      "metadata": {
        "id": "GNRTU32wNHoK"
      },
      "source": [
        "tr=full_data[full_data.pa==1]\n",
        "tr=tr[rel]"
      ],
      "execution_count": null,
      "outputs": []
    },
    {
      "cell_type": "code",
      "metadata": {
        "colab": {
          "base_uri": "https://localhost:8080/"
        },
        "id": "ccBBkN2wOBdi",
        "outputId": "d0045d28-177e-41fd-b9d6-613f2855454c"
      },
      "source": [
        "tr.info()"
      ],
      "execution_count": null,
      "outputs": [
        {
          "output_type": "stream",
          "text": [
            "<class 'pandas.core.frame.DataFrame'>\n",
            "Int64Index: 10932 entries, 0 to 10931\n",
            "Data columns (total 14 columns):\n",
            " #   Column          Non-Null Count  Dtype  \n",
            "---  ------          --------------  -----  \n",
            " 0   created_at      10932 non-null  object \n",
            " 1   pm2_5           10932 non-null  float64\n",
            " 2   pm10            10932 non-null  float64\n",
            " 3   s2_pm2_5        10932 non-null  float64\n",
            " 4   s2_pm10         10932 non-null  float64\n",
            " 5   humidity        10926 non-null  float64\n",
            " 6   temp            10915 non-null  float64\n",
            " 7   ref_pm2_5       10932 non-null  float64\n",
            " 8   year            10932 non-null  int64  \n",
            " 9   month           10932 non-null  int64  \n",
            " 10  hour            10932 non-null  int64  \n",
            " 11  date            10932 non-null  int64  \n",
            " 12  site_Nakawa     10932 non-null  uint8  \n",
            " 13  site_USEmbassy  10932 non-null  uint8  \n",
            "dtypes: float64(7), int64(4), object(1), uint8(2)\n",
            "memory usage: 1.1+ MB\n"
          ],
          "name": "stdout"
        }
      ]
    },
    {
      "cell_type": "code",
      "metadata": {
        "colab": {
          "base_uri": "https://localhost:8080/",
          "height": 1000
        },
        "id": "QlVRcmojOC6-",
        "outputId": "b08dba6b-4cbe-447a-8297-11f106f48a33"
      },
      "source": [
        "plt.figure(figsize = (18,18))\n",
        "sns.heatmap(tr.corr(), annot = True, cmap = \"RdYlGn\")\n",
        "\n",
        "plt.show()"
      ],
      "execution_count": null,
      "outputs": [
        {
          "output_type": "display_data",
          "data": {
            "image/png": "[encoded data removed]",
            "text/plain": [
              "<Figure size 1296x1296 with 2 Axes>"
            ]
          },
          "metadata": {
            "tags": [],
            "needs_background": "light"
          }
        }
      ]
    },
    {
      "cell_type": "code",
      "metadata": {
        "colab": {
          "base_uri": "https://localhost:8080/",
          "height": 49
        },
        "id": "vZfZbfRTTHZZ",
        "outputId": "067a6f85-037c-4a78-cbce-c2dcb3a42a1e"
      },
      "source": [
        "t=tr[tr.isna().any(axis=1)]\n",
        "ty=t[['humidity','temp','hour','site_Nakawa','site_USEmbassy']]\n",
        "ty"
      ],
      "execution_count": null,
      "outputs": [
        {
          "output_type": "execute_result",
          "data": {
            "text/html": [
              "<div>\n",
              "<style scoped>\n",
              "    .dataframe tbody tr th:only-of-type {\n",
              "        vertical-align: middle;\n",
              "    }\n",
              "\n",
              "    .dataframe tbody tr th {\n",
              "        vertical-align: top;\n",
              "    }\n",
              "\n",
              "    .dataframe thead th {\n",
              "        text-align: right;\n",
              "    }\n",
              "</style>\n",
              "<table border=\"1\" class=\"dataframe\">\n",
              "  <thead>\n",
              "    <tr style=\"text-align: right;\">\n",
              "      <th></th>\n",
              "      <th>humidity</th>\n",
              "      <th>temp</th>\n",
              "      <th>hour</th>\n",
              "      <th>site_Nakawa</th>\n",
              "      <th>site_USEmbassy</th>\n",
              "    </tr>\n",
              "  </thead>\n",
              "  <tbody>\n",
              "  </tbody>\n",
              "</table>\n",
              "</div>"
            ],
            "text/plain": [
              "Empty DataFrame\n",
              "Columns: [humidity, temp, hour, site_Nakawa, site_USEmbassy]\n",
              "Index: []"
            ]
          },
          "metadata": {
            "tags": []
          },
          "execution_count": 248
        }
      ]
    },
    {
      "cell_type": "code",
      "metadata": {
        "id": "N0RLAc8Q1_k6"
      },
      "source": [
        "tr.head()"
      ],
      "execution_count": null,
      "outputs": []
    },
    {
      "cell_type": "code",
      "metadata": {
        "id": "fcMKD5UE8d_e"
      },
      "source": [
        "def impute_nan(cols):\n",
        "   hu  = cols[0]\n",
        "   temp = cols[1]\n",
        "   h    = cols[2]\n",
        "    \n",
        "   if pd.isnull(temp):\n",
        "\n",
        "      if hu== 1 and h ==7 :\n",
        "            return 17.733333\n",
        "      if  hu== 1 and h ==6 :\n",
        "            return 17.5   \n",
        "      if h ==3:\n",
        "            return 19.88\n",
        "      if h ==2:\n",
        "            return 19.19\n",
        "      if h ==1:\n",
        "            return 18.76     \n",
        "      if h ==9:\n",
        "            return 21.86 \n",
        "      if h ==0:\n",
        "            return 19.52\n",
        "      if h ==10:\n",
        "            return 22.13\n",
        "      if h ==11:\n",
        "            return 24.37 \n",
        "      if hu!='NaN' and h==13:\n",
        "            return 26 \n",
        "      if h==12:\n",
        "            return 24.99      \n",
        "      if h==17:\n",
        "            return 24.76\n",
        "      if  hu== 0.72 and h ==16 :\n",
        "            return 25.116\n",
        "      if hu!='NaN' and h==15:\n",
        "            return 25.62             \n",
        "      elif hu==0.9975 and h==4:\n",
        "            return 18\n",
        "      else:\n",
        "        pass      \n",
        "   else:\n",
        "      return temp  \n",
        "\n",
        "\n",
        "      "
      ],
      "execution_count": null,
      "outputs": []
    },
    {
      "cell_type": "code",
      "metadata": {
        "id": "cngs3KmMTkWT"
      },
      "source": [
        "def hum(cols):\n",
        "   hu  = cols[0]\n",
        "   temp = cols[1]\n",
        "   h    = cols[2]\n",
        "    \n",
        "   if pd.isnull(hu):\n",
        "\n",
        "      if  h ==16 :\n",
        "            return 0.7067\n",
        "      if h==13:\n",
        "            return 0.634583   \n",
        "      if h ==14:\n",
        "            return 0.704\n",
        "      if h ==15:\n",
        "            return 0.609\n",
        "           \n",
        "   else:\n",
        "      return hu  \n"
      ],
      "execution_count": null,
      "outputs": []
    },
    {
      "cell_type": "code",
      "metadata": {
        "id": "2OXaFnQvDRsx"
      },
      "source": [
        "20.66"
      ],
      "execution_count": null,
      "outputs": []
    },
    {
      "cell_type": "code",
      "metadata": {
        "id": "qNSOH0LR2b-D"
      },
      "source": [
        "tr['temp'] = tr[['humidity','temp','hour']].apply(impute_nan,axis=1)"
      ],
      "execution_count": null,
      "outputs": []
    },
    {
      "cell_type": "code",
      "metadata": {
        "id": "iuzpnYShVreL"
      },
      "source": [
        "tr['humidity'] = tr[['humidity','temp','hour']].apply(hum,axis=1)"
      ],
      "execution_count": null,
      "outputs": []
    },
    {
      "cell_type": "code",
      "metadata": {
        "id": "UrXBmjhNBntv"
      },
      "source": [
        "tr.loc[tr.index==866]"
      ],
      "execution_count": null,
      "outputs": []
    },
    {
      "cell_type": "code",
      "metadata": {
        "id": "Q0L_cO48PwmE"
      },
      "source": [
        "217"
      ],
      "execution_count": null,
      "outputs": []
    },
    {
      "cell_type": "code",
      "metadata": {
        "colab": {
          "base_uri": "https://localhost:8080/",
          "height": 49
        },
        "id": "BNkXuH0o4-i4",
        "outputId": "7c8cffd1-4656-442b-bdce-19899ff69397"
      },
      "source": [
        "t=tr[tr.isna().any(axis=1)]\n",
        "tn=t[['humidity','temp','hour','site_Nakawa','site_USEmbassy']]\n",
        "tn"
      ],
      "execution_count": null,
      "outputs": [
        {
          "output_type": "execute_result",
          "data": {
            "text/html": [
              "<div>\n",
              "<style scoped>\n",
              "    .dataframe tbody tr th:only-of-type {\n",
              "        vertical-align: middle;\n",
              "    }\n",
              "\n",
              "    .dataframe tbody tr th {\n",
              "        vertical-align: top;\n",
              "    }\n",
              "\n",
              "    .dataframe thead th {\n",
              "        text-align: right;\n",
              "    }\n",
              "</style>\n",
              "<table border=\"1\" class=\"dataframe\">\n",
              "  <thead>\n",
              "    <tr style=\"text-align: right;\">\n",
              "      <th></th>\n",
              "      <th>humidity</th>\n",
              "      <th>temp</th>\n",
              "      <th>hour</th>\n",
              "      <th>site_Nakawa</th>\n",
              "      <th>site_USEmbassy</th>\n",
              "    </tr>\n",
              "  </thead>\n",
              "  <tbody>\n",
              "  </tbody>\n",
              "</table>\n",
              "</div>"
            ],
            "text/plain": [
              "Empty DataFrame\n",
              "Columns: [humidity, temp, hour, site_Nakawa, site_USEmbassy]\n",
              "Index: []"
            ]
          },
          "metadata": {
            "tags": []
          },
          "execution_count": 240
        }
      ]
    },
    {
      "cell_type": "markdown",
      "metadata": {
        "id": "qjR5C4ehWdpZ"
      },
      "source": [
        "# test"
      ]
    },
    {
      "cell_type": "code",
      "metadata": {
        "id": "qp5mB6MJW88S"
      },
      "source": [
        "t_rel=['ID','created_at','pm2_5','pm10','s2_pm2_5','s2_pm10','humidity','temp','year','month','hour','date','site_Nakawa','site_USEmbassy']"
      ],
      "execution_count": null,
      "outputs": []
    },
    {
      "cell_type": "code",
      "metadata": {
        "id": "Mv40IoZQWabQ"
      },
      "source": [
        "ts_1=full_data[full_data.pa==0]\n",
        "ts_1=ts_1[t_rel]"
      ],
      "execution_count": null,
      "outputs": []
    },
    {
      "cell_type": "code",
      "metadata": {
        "colab": {
          "base_uri": "https://localhost:8080/",
          "height": 49
        },
        "id": "GziHmA2rWmQA",
        "outputId": "67b43faa-9dbf-46a2-8b0a-50fb2db192de"
      },
      "source": [
        "te=ts_1[ts_1.isna().any(axis=1)]\n",
        "te=te[['humidity','temp','hour','site_Nakawa','site_USEmbassy','month']]\n",
        "te"
      ],
      "execution_count": null,
      "outputs": [
        {
          "output_type": "execute_result",
          "data": {
            "text/html": [
              "<div>\n",
              "<style scoped>\n",
              "    .dataframe tbody tr th:only-of-type {\n",
              "        vertical-align: middle;\n",
              "    }\n",
              "\n",
              "    .dataframe tbody tr th {\n",
              "        vertical-align: top;\n",
              "    }\n",
              "\n",
              "    .dataframe thead th {\n",
              "        text-align: right;\n",
              "    }\n",
              "</style>\n",
              "<table border=\"1\" class=\"dataframe\">\n",
              "  <thead>\n",
              "    <tr style=\"text-align: right;\">\n",
              "      <th></th>\n",
              "      <th>humidity</th>\n",
              "      <th>temp</th>\n",
              "      <th>hour</th>\n",
              "      <th>site_Nakawa</th>\n",
              "      <th>site_USEmbassy</th>\n",
              "      <th>month</th>\n",
              "    </tr>\n",
              "  </thead>\n",
              "  <tbody>\n",
              "  </tbody>\n",
              "</table>\n",
              "</div>"
            ],
            "text/plain": [
              "Empty DataFrame\n",
              "Columns: [humidity, temp, hour, site_Nakawa, site_USEmbassy, month]\n",
              "Index: []"
            ]
          },
          "metadata": {
            "tags": []
          },
          "execution_count": 264
        }
      ]
    },
    {
      "cell_type": "code",
      "metadata": {
        "id": "GxiQZJRqYCgY"
      },
      "source": [
        "def t_hum(cols):\n",
        "   hu  = cols[0]\n",
        "   temp = cols[1]\n",
        "   h    = cols[2]\n",
        "    \n",
        "   if pd.isnull(temp):\n",
        "\n",
        "      if  hu ==1 and h==8 :\n",
        "            return 17.38\n",
        "      if h==5:\n",
        "            return 18.68   \n",
        "      if h ==23:\n",
        "            return 20.55\n",
        "      if h ==14:\n",
        "            return 24.408\n",
        "           \n",
        "   else:\n",
        "      return temp  "
      ],
      "execution_count": null,
      "outputs": []
    },
    {
      "cell_type": "code",
      "metadata": {
        "id": "gVKcko4uX-Gr"
      },
      "source": [
        "ts_1['temp'] = ts_1[['humidity','temp','hour']].apply(t_hum,axis=1)"
      ],
      "execution_count": null,
      "outputs": []
    },
    {
      "cell_type": "code",
      "metadata": {
        "id": "jeZC-JeIblLU"
      },
      "source": [
        "ts_1.fillna(0.68,inplace=True)"
      ],
      "execution_count": null,
      "outputs": []
    },
    {
      "cell_type": "code",
      "metadata": {
        "id": "Io0Mmbwhpy7g"
      },
      "source": [
        "#p=all_data.loc[(all_data.temp==23)]\n",
        "#ml=p[['humidity','temp','hour','site','month']]\n",
        "#ml"
      ],
      "execution_count": null,
      "outputs": []
    },
    {
      "cell_type": "code",
      "metadata": {
        "id": "vmaFLGuuoiQi"
      },
      "source": [
        "#sns.scatterplot(x='humidity',y='temp',data=all_data)"
      ],
      "execution_count": null,
      "outputs": []
    },
    {
      "cell_type": "code",
      "metadata": {
        "id": "OHAdHPu8QFLH"
      },
      "source": [
        "#there are some missing vales in humidity and temperature \n",
        "\n",
        "#lets replace them\n",
        "\n",
        "#tem and humidity are related and with hour\n",
        "\n",
        "tyi=all_data.groupby(['site','hour','month'])['temp','humidity'].agg(['mean','median','std'])\n",
        "tyi.reset_index(inplace=True)\n"
      ],
      "execution_count": null,
      "outputs": []
    },
    {
      "cell_type": "code",
      "metadata": {
        "id": "Uj8JtfuOzxAu"
      },
      "source": [
        "tyi"
      ],
      "execution_count": null,
      "outputs": []
    },
    {
      "cell_type": "code",
      "metadata": {
        "id": "oOpwpEE4R02A"
      },
      "source": [
        "tyi.columns=['site','hour','month','temp_me','temp_med','t_std','h_mean','h_med','h_std']\n",
        "tyi.loc[(tyi.site=='Nakawa') & (tyi.month==1)]"
      ],
      "execution_count": null,
      "outputs": []
    },
    {
      "cell_type": "markdown",
      "metadata": {
        "id": "OtZuk8rwcKn-"
      },
      "source": [
        "# model"
      ]
    },
    {
      "cell_type": "code",
      "metadata": {
        "id": "XSzRloyv0AgG"
      },
      "source": [
        "#tr.info()"
      ],
      "execution_count": null,
      "outputs": []
    },
    {
      "cell_type": "code",
      "metadata": {
        "id": "7dWO4fSjcPVH"
      },
      "source": [
        "f_train=tr.drop(['date','created_at'],axis=1)\n",
        "\n",
        "f_train['temp']=f_train['temp'].round(2)\n",
        "\n",
        "f_train['humidity']=f_train['humidity'].round(3)\n",
        "\n",
        "f_train['pm2_5']=f_train['pm2_5'].round(2)\n",
        "\n",
        "f_train['s2_pm2_5']=f_train['s2_pm2_5'].round(2)\n",
        "\n",
        "f_train['pm10']=f_train['pm10'].round(2)\n",
        "\n",
        "f_train['s2_pm10']=f_train['s2_pm10'].round(2)\n"
      ],
      "execution_count": null,
      "outputs": []
    },
    {
      "cell_type": "code",
      "metadata": {
        "colab": {
          "base_uri": "https://localhost:8080/",
          "height": 204
        },
        "id": "3BwMcYZMeZ8F",
        "outputId": "5df8584d-b4e2-4d85-bf9e-8d8aaa7db312"
      },
      "source": [
        "f_train.head()"
      ],
      "execution_count": null,
      "outputs": [
        {
          "output_type": "execute_result",
          "data": {
            "text/html": [
              "<div>\n",
              "<style scoped>\n",
              "    .dataframe tbody tr th:only-of-type {\n",
              "        vertical-align: middle;\n",
              "    }\n",
              "\n",
              "    .dataframe tbody tr th {\n",
              "        vertical-align: top;\n",
              "    }\n",
              "\n",
              "    .dataframe thead th {\n",
              "        text-align: right;\n",
              "    }\n",
              "</style>\n",
              "<table border=\"1\" class=\"dataframe\">\n",
              "  <thead>\n",
              "    <tr style=\"text-align: right;\">\n",
              "      <th></th>\n",
              "      <th>pm2_5</th>\n",
              "      <th>pm10</th>\n",
              "      <th>s2_pm2_5</th>\n",
              "      <th>s2_pm10</th>\n",
              "      <th>humidity</th>\n",
              "      <th>temp</th>\n",
              "      <th>ref_pm2_5</th>\n",
              "      <th>year</th>\n",
              "      <th>month</th>\n",
              "      <th>hour</th>\n",
              "      <th>site_Nakawa</th>\n",
              "      <th>site_USEmbassy</th>\n",
              "    </tr>\n",
              "  </thead>\n",
              "  <tbody>\n",
              "    <tr>\n",
              "      <th>0</th>\n",
              "      <td>6.82</td>\n",
              "      <td>7.31</td>\n",
              "      <td>6.79</td>\n",
              "      <td>7.84</td>\n",
              "      <td>0.807</td>\n",
              "      <td>22.38</td>\n",
              "      <td>25.0</td>\n",
              "      <td>2020</td>\n",
              "      <td>4</td>\n",
              "      <td>17</td>\n",
              "      <td>0</td>\n",
              "      <td>1</td>\n",
              "    </tr>\n",
              "    <tr>\n",
              "      <th>1</th>\n",
              "      <td>57.46</td>\n",
              "      <td>67.88</td>\n",
              "      <td>55.64</td>\n",
              "      <td>70.65</td>\n",
              "      <td>0.712</td>\n",
              "      <td>25.35</td>\n",
              "      <td>68.0</td>\n",
              "      <td>2020</td>\n",
              "      <td>2</td>\n",
              "      <td>19</td>\n",
              "      <td>0</td>\n",
              "      <td>1</td>\n",
              "    </tr>\n",
              "    <tr>\n",
              "      <th>2</th>\n",
              "      <td>170.01</td>\n",
              "      <td>191.15</td>\n",
              "      <td>165.31</td>\n",
              "      <td>191.47</td>\n",
              "      <td>0.908</td>\n",
              "      <td>20.62</td>\n",
              "      <td>149.7</td>\n",
              "      <td>2021</td>\n",
              "      <td>1</td>\n",
              "      <td>4</td>\n",
              "      <td>1</td>\n",
              "      <td>0</td>\n",
              "    </tr>\n",
              "    <tr>\n",
              "      <th>3</th>\n",
              "      <td>49.73</td>\n",
              "      <td>61.51</td>\n",
              "      <td>0.00</td>\n",
              "      <td>0.00</td>\n",
              "      <td>0.950</td>\n",
              "      <td>21.22</td>\n",
              "      <td>54.0</td>\n",
              "      <td>2019</td>\n",
              "      <td>12</td>\n",
              "      <td>9</td>\n",
              "      <td>0</td>\n",
              "      <td>1</td>\n",
              "    </tr>\n",
              "    <tr>\n",
              "      <th>4</th>\n",
              "      <td>41.63</td>\n",
              "      <td>51.04</td>\n",
              "      <td>41.72</td>\n",
              "      <td>51.14</td>\n",
              "      <td>0.914</td>\n",
              "      <td>18.91</td>\n",
              "      <td>39.0</td>\n",
              "      <td>2019</td>\n",
              "      <td>10</td>\n",
              "      <td>1</td>\n",
              "      <td>0</td>\n",
              "      <td>1</td>\n",
              "    </tr>\n",
              "  </tbody>\n",
              "</table>\n",
              "</div>"
            ],
            "text/plain": [
              "    pm2_5    pm10  s2_pm2_5  s2_pm10  ...  month  hour  site_Nakawa  site_USEmbassy\n",
              "0    6.82    7.31      6.79     7.84  ...      4    17            0               1\n",
              "1   57.46   67.88     55.64    70.65  ...      2    19            0               1\n",
              "2  170.01  191.15    165.31   191.47  ...      1     4            1               0\n",
              "3   49.73   61.51      0.00     0.00  ...     12     9            0               1\n",
              "4   41.63   51.04     41.72    51.14  ...     10     1            0               1\n",
              "\n",
              "[5 rows x 12 columns]"
            ]
          },
          "metadata": {
            "tags": []
          },
          "execution_count": 255
        }
      ]
    },
    {
      "cell_type": "markdown",
      "metadata": {
        "id": "68wl5YDnfVfU"
      },
      "source": [
        "**test_p**"
      ]
    },
    {
      "cell_type": "code",
      "metadata": {
        "colab": {
          "base_uri": "https://localhost:8080/",
          "height": 204
        },
        "id": "11KNFPnaejom",
        "outputId": "4aa918e3-83a6-42bb-8e1c-70a83892e995"
      },
      "source": [
        "test_ff=ts_1.drop(['date','created_at'],axis=1)\n",
        "\n",
        "test_ff['temp']=test_ff['temp'].round(2)\n",
        "\n",
        "test_ff['humidity']=test_ff['humidity'].round(3)\n",
        "\n",
        "test_ff['pm2_5']=test_ff['pm2_5'].round(2)\n",
        "\n",
        "test_ff['s2_pm2_5']=test_ff['s2_pm2_5'].round(2)\n",
        "\n",
        "test_ff['pm10']=test_ff['pm10'].round(2)\n",
        "\n",
        "test_ff['s2_pm10']=test_ff['s2_pm10'].round(2)\n",
        "\n",
        "test_ff.head()"
      ],
      "execution_count": null,
      "outputs": [
        {
          "output_type": "execute_result",
          "data": {
            "text/html": [
              "<div>\n",
              "<style scoped>\n",
              "    .dataframe tbody tr th:only-of-type {\n",
              "        vertical-align: middle;\n",
              "    }\n",
              "\n",
              "    .dataframe tbody tr th {\n",
              "        vertical-align: top;\n",
              "    }\n",
              "\n",
              "    .dataframe thead th {\n",
              "        text-align: right;\n",
              "    }\n",
              "</style>\n",
              "<table border=\"1\" class=\"dataframe\">\n",
              "  <thead>\n",
              "    <tr style=\"text-align: right;\">\n",
              "      <th></th>\n",
              "      <th>ID</th>\n",
              "      <th>pm2_5</th>\n",
              "      <th>pm10</th>\n",
              "      <th>s2_pm2_5</th>\n",
              "      <th>s2_pm10</th>\n",
              "      <th>humidity</th>\n",
              "      <th>temp</th>\n",
              "      <th>year</th>\n",
              "      <th>month</th>\n",
              "      <th>hour</th>\n",
              "      <th>site_Nakawa</th>\n",
              "      <th>site_USEmbassy</th>\n",
              "    </tr>\n",
              "  </thead>\n",
              "  <tbody>\n",
              "    <tr>\n",
              "      <th>10932</th>\n",
              "      <td>ID_00OZLF7X</td>\n",
              "      <td>31.90</td>\n",
              "      <td>35.52</td>\n",
              "      <td>31.67</td>\n",
              "      <td>37.05</td>\n",
              "      <td>0.927</td>\n",
              "      <td>21.18</td>\n",
              "      <td>2020</td>\n",
              "      <td>3</td>\n",
              "      <td>7</td>\n",
              "      <td>0</td>\n",
              "      <td>1</td>\n",
              "    </tr>\n",
              "    <tr>\n",
              "      <th>10933</th>\n",
              "      <td>ID_00ZI0D98</td>\n",
              "      <td>53.58</td>\n",
              "      <td>66.60</td>\n",
              "      <td>50.59</td>\n",
              "      <td>64.65</td>\n",
              "      <td>0.812</td>\n",
              "      <td>22.35</td>\n",
              "      <td>2020</td>\n",
              "      <td>8</td>\n",
              "      <td>10</td>\n",
              "      <td>0</td>\n",
              "      <td>0</td>\n",
              "    </tr>\n",
              "    <tr>\n",
              "      <th>10934</th>\n",
              "      <td>ID_017GTLAU</td>\n",
              "      <td>62.38</td>\n",
              "      <td>71.65</td>\n",
              "      <td>59.02</td>\n",
              "      <td>69.77</td>\n",
              "      <td>0.902</td>\n",
              "      <td>20.77</td>\n",
              "      <td>2020</td>\n",
              "      <td>8</td>\n",
              "      <td>9</td>\n",
              "      <td>0</td>\n",
              "      <td>0</td>\n",
              "    </tr>\n",
              "    <tr>\n",
              "      <th>10935</th>\n",
              "      <td>ID_01IBM7T2</td>\n",
              "      <td>33.31</td>\n",
              "      <td>36.96</td>\n",
              "      <td>33.06</td>\n",
              "      <td>38.67</td>\n",
              "      <td>0.643</td>\n",
              "      <td>25.48</td>\n",
              "      <td>2020</td>\n",
              "      <td>6</td>\n",
              "      <td>16</td>\n",
              "      <td>0</td>\n",
              "      <td>1</td>\n",
              "    </tr>\n",
              "    <tr>\n",
              "      <th>10936</th>\n",
              "      <td>ID_01II27D4</td>\n",
              "      <td>64.78</td>\n",
              "      <td>75.25</td>\n",
              "      <td>64.64</td>\n",
              "      <td>77.11</td>\n",
              "      <td>0.940</td>\n",
              "      <td>20.13</td>\n",
              "      <td>2021</td>\n",
              "      <td>1</td>\n",
              "      <td>0</td>\n",
              "      <td>1</td>\n",
              "      <td>0</td>\n",
              "    </tr>\n",
              "  </tbody>\n",
              "</table>\n",
              "</div>"
            ],
            "text/plain": [
              "                ID  pm2_5   pm10  ...  hour  site_Nakawa  site_USEmbassy\n",
              "10932  ID_00OZLF7X  31.90  35.52  ...     7            0               1\n",
              "10933  ID_00ZI0D98  53.58  66.60  ...    10            0               0\n",
              "10934  ID_017GTLAU  62.38  71.65  ...     9            0               0\n",
              "10935  ID_01IBM7T2  33.31  36.96  ...    16            0               1\n",
              "10936  ID_01II27D4  64.78  75.25  ...     0            1               0\n",
              "\n",
              "[5 rows x 12 columns]"
            ]
          },
          "metadata": {
            "tags": []
          },
          "execution_count": 265
        }
      ]
    },
    {
      "cell_type": "code",
      "metadata": {
        "id": "2UdbKVQYg4MG"
      },
      "source": [
        "test_ff_r=test_ff.drop('ID',axis=1)"
      ],
      "execution_count": null,
      "outputs": []
    },
    {
      "cell_type": "code",
      "metadata": {
        "colab": {
          "base_uri": "https://localhost:8080/",
          "height": 204
        },
        "id": "ahbtmZMthCvd",
        "outputId": "ce016ee2-f7fa-41d6-ec7c-b657cba86941"
      },
      "source": [
        "test_ff_r.head()"
      ],
      "execution_count": null,
      "outputs": [
        {
          "output_type": "execute_result",
          "data": {
            "text/html": [
              "<div>\n",
              "<style scoped>\n",
              "    .dataframe tbody tr th:only-of-type {\n",
              "        vertical-align: middle;\n",
              "    }\n",
              "\n",
              "    .dataframe tbody tr th {\n",
              "        vertical-align: top;\n",
              "    }\n",
              "\n",
              "    .dataframe thead th {\n",
              "        text-align: right;\n",
              "    }\n",
              "</style>\n",
              "<table border=\"1\" class=\"dataframe\">\n",
              "  <thead>\n",
              "    <tr style=\"text-align: right;\">\n",
              "      <th></th>\n",
              "      <th>pm2_5</th>\n",
              "      <th>pm10</th>\n",
              "      <th>s2_pm2_5</th>\n",
              "      <th>s2_pm10</th>\n",
              "      <th>humidity</th>\n",
              "      <th>temp</th>\n",
              "      <th>year</th>\n",
              "      <th>month</th>\n",
              "      <th>hour</th>\n",
              "      <th>site_Nakawa</th>\n",
              "      <th>site_USEmbassy</th>\n",
              "    </tr>\n",
              "  </thead>\n",
              "  <tbody>\n",
              "    <tr>\n",
              "      <th>10932</th>\n",
              "      <td>31.90</td>\n",
              "      <td>35.52</td>\n",
              "      <td>31.67</td>\n",
              "      <td>37.05</td>\n",
              "      <td>0.927</td>\n",
              "      <td>21.18</td>\n",
              "      <td>2020</td>\n",
              "      <td>3</td>\n",
              "      <td>7</td>\n",
              "      <td>0</td>\n",
              "      <td>1</td>\n",
              "    </tr>\n",
              "    <tr>\n",
              "      <th>10933</th>\n",
              "      <td>53.58</td>\n",
              "      <td>66.60</td>\n",
              "      <td>50.59</td>\n",
              "      <td>64.65</td>\n",
              "      <td>0.812</td>\n",
              "      <td>22.35</td>\n",
              "      <td>2020</td>\n",
              "      <td>8</td>\n",
              "      <td>10</td>\n",
              "      <td>0</td>\n",
              "      <td>0</td>\n",
              "    </tr>\n",
              "    <tr>\n",
              "      <th>10934</th>\n",
              "      <td>62.38</td>\n",
              "      <td>71.65</td>\n",
              "      <td>59.02</td>\n",
              "      <td>69.77</td>\n",
              "      <td>0.902</td>\n",
              "      <td>20.77</td>\n",
              "      <td>2020</td>\n",
              "      <td>8</td>\n",
              "      <td>9</td>\n",
              "      <td>0</td>\n",
              "      <td>0</td>\n",
              "    </tr>\n",
              "    <tr>\n",
              "      <th>10935</th>\n",
              "      <td>33.31</td>\n",
              "      <td>36.96</td>\n",
              "      <td>33.06</td>\n",
              "      <td>38.67</td>\n",
              "      <td>0.643</td>\n",
              "      <td>25.48</td>\n",
              "      <td>2020</td>\n",
              "      <td>6</td>\n",
              "      <td>16</td>\n",
              "      <td>0</td>\n",
              "      <td>1</td>\n",
              "    </tr>\n",
              "    <tr>\n",
              "      <th>10936</th>\n",
              "      <td>64.78</td>\n",
              "      <td>75.25</td>\n",
              "      <td>64.64</td>\n",
              "      <td>77.11</td>\n",
              "      <td>0.940</td>\n",
              "      <td>20.13</td>\n",
              "      <td>2021</td>\n",
              "      <td>1</td>\n",
              "      <td>0</td>\n",
              "      <td>1</td>\n",
              "      <td>0</td>\n",
              "    </tr>\n",
              "  </tbody>\n",
              "</table>\n",
              "</div>"
            ],
            "text/plain": [
              "       pm2_5   pm10  s2_pm2_5  ...  hour  site_Nakawa  site_USEmbassy\n",
              "10932  31.90  35.52     31.67  ...     7            0               1\n",
              "10933  53.58  66.60     50.59  ...    10            0               0\n",
              "10934  62.38  71.65     59.02  ...     9            0               0\n",
              "10935  33.31  36.96     33.06  ...    16            0               1\n",
              "10936  64.78  75.25     64.64  ...     0            1               0\n",
              "\n",
              "[5 rows x 11 columns]"
            ]
          },
          "metadata": {
            "tags": []
          },
          "execution_count": 269
        }
      ]
    },
    {
      "cell_type": "markdown",
      "metadata": {
        "id": "_UsICeCwgVRy"
      },
      "source": [
        "# model_main"
      ]
    },
    {
      "cell_type": "code",
      "metadata": {
        "id": "ofNyySrefVDR"
      },
      "source": [
        "f_train['ref_pm2_5'] = np.log1p(f_train['ref_pm2_5'])"
      ],
      "execution_count": null,
      "outputs": []
    },
    {
      "cell_type": "code",
      "metadata": {
        "colab": {
          "base_uri": "https://localhost:8080/",
          "height": 204
        },
        "id": "kxLTcGeGhXJW",
        "outputId": "c781245f-60e3-4bfd-ea90-0fa8b9080c7e"
      },
      "source": [
        "f_train.head()"
      ],
      "execution_count": null,
      "outputs": [
        {
          "output_type": "execute_result",
          "data": {
            "text/html": [
              "<div>\n",
              "<style scoped>\n",
              "    .dataframe tbody tr th:only-of-type {\n",
              "        vertical-align: middle;\n",
              "    }\n",
              "\n",
              "    .dataframe tbody tr th {\n",
              "        vertical-align: top;\n",
              "    }\n",
              "\n",
              "    .dataframe thead th {\n",
              "        text-align: right;\n",
              "    }\n",
              "</style>\n",
              "<table border=\"1\" class=\"dataframe\">\n",
              "  <thead>\n",
              "    <tr style=\"text-align: right;\">\n",
              "      <th></th>\n",
              "      <th>pm2_5</th>\n",
              "      <th>pm10</th>\n",
              "      <th>s2_pm2_5</th>\n",
              "      <th>s2_pm10</th>\n",
              "      <th>humidity</th>\n",
              "      <th>temp</th>\n",
              "      <th>ref_pm2_5</th>\n",
              "      <th>year</th>\n",
              "      <th>month</th>\n",
              "      <th>hour</th>\n",
              "      <th>site_Nakawa</th>\n",
              "      <th>site_USEmbassy</th>\n",
              "    </tr>\n",
              "  </thead>\n",
              "  <tbody>\n",
              "    <tr>\n",
              "      <th>0</th>\n",
              "      <td>6.82</td>\n",
              "      <td>7.31</td>\n",
              "      <td>6.79</td>\n",
              "      <td>7.84</td>\n",
              "      <td>0.807</td>\n",
              "      <td>22.38</td>\n",
              "      <td>3.258097</td>\n",
              "      <td>2020</td>\n",
              "      <td>4</td>\n",
              "      <td>17</td>\n",
              "      <td>0</td>\n",
              "      <td>1</td>\n",
              "    </tr>\n",
              "    <tr>\n",
              "      <th>1</th>\n",
              "      <td>57.46</td>\n",
              "      <td>67.88</td>\n",
              "      <td>55.64</td>\n",
              "      <td>70.65</td>\n",
              "      <td>0.712</td>\n",
              "      <td>25.35</td>\n",
              "      <td>4.234107</td>\n",
              "      <td>2020</td>\n",
              "      <td>2</td>\n",
              "      <td>19</td>\n",
              "      <td>0</td>\n",
              "      <td>1</td>\n",
              "    </tr>\n",
              "    <tr>\n",
              "      <th>2</th>\n",
              "      <td>170.01</td>\n",
              "      <td>191.15</td>\n",
              "      <td>165.31</td>\n",
              "      <td>191.47</td>\n",
              "      <td>0.908</td>\n",
              "      <td>20.62</td>\n",
              "      <td>5.015291</td>\n",
              "      <td>2021</td>\n",
              "      <td>1</td>\n",
              "      <td>4</td>\n",
              "      <td>1</td>\n",
              "      <td>0</td>\n",
              "    </tr>\n",
              "    <tr>\n",
              "      <th>3</th>\n",
              "      <td>49.73</td>\n",
              "      <td>61.51</td>\n",
              "      <td>0.00</td>\n",
              "      <td>0.00</td>\n",
              "      <td>0.950</td>\n",
              "      <td>21.22</td>\n",
              "      <td>4.007333</td>\n",
              "      <td>2019</td>\n",
              "      <td>12</td>\n",
              "      <td>9</td>\n",
              "      <td>0</td>\n",
              "      <td>1</td>\n",
              "    </tr>\n",
              "    <tr>\n",
              "      <th>4</th>\n",
              "      <td>41.63</td>\n",
              "      <td>51.04</td>\n",
              "      <td>41.72</td>\n",
              "      <td>51.14</td>\n",
              "      <td>0.914</td>\n",
              "      <td>18.91</td>\n",
              "      <td>3.688879</td>\n",
              "      <td>2019</td>\n",
              "      <td>10</td>\n",
              "      <td>1</td>\n",
              "      <td>0</td>\n",
              "      <td>1</td>\n",
              "    </tr>\n",
              "  </tbody>\n",
              "</table>\n",
              "</div>"
            ],
            "text/plain": [
              "    pm2_5    pm10  s2_pm2_5  s2_pm10  ...  month  hour  site_Nakawa  site_USEmbassy\n",
              "0    6.82    7.31      6.79     7.84  ...      4    17            0               1\n",
              "1   57.46   67.88     55.64    70.65  ...      2    19            0               1\n",
              "2  170.01  191.15    165.31   191.47  ...      1     4            1               0\n",
              "3   49.73   61.51      0.00     0.00  ...     12     9            0               1\n",
              "4   41.63   51.04     41.72    51.14  ...     10     1            0               1\n",
              "\n",
              "[5 rows x 12 columns]"
            ]
          },
          "metadata": {
            "tags": []
          },
          "execution_count": 271
        }
      ]
    },
    {
      "cell_type": "code",
      "metadata": {
        "colab": {
          "base_uri": "https://localhost:8080/"
        },
        "id": "tuopjzJMhaHb",
        "outputId": "2ec0d895-71af-4cd5-c6a7-6660fb442baa"
      },
      "source": [
        "y=f_train.ref_pm2_5\n",
        "y"
      ],
      "execution_count": null,
      "outputs": [
        {
          "output_type": "execute_result",
          "data": {
            "text/plain": [
              "0        3.258097\n",
              "1        4.234107\n",
              "2        5.015291\n",
              "3        4.007333\n",
              "4        3.688879\n",
              "           ...   \n",
              "10927    4.356709\n",
              "10928    3.135494\n",
              "10929    3.555348\n",
              "10930    3.577948\n",
              "10931    3.891820\n",
              "Name: ref_pm2_5, Length: 10932, dtype: float64"
            ]
          },
          "metadata": {
            "tags": []
          },
          "execution_count": 272
        }
      ]
    },
    {
      "cell_type": "code",
      "metadata": {
        "colab": {
          "base_uri": "https://localhost:8080/",
          "height": 204
        },
        "id": "uTH679HKhf5B",
        "outputId": "b44963ea-2a6f-4fe2-a1e5-824299c2a860"
      },
      "source": [
        "X=f_train.drop(['ref_pm2_5'],axis=1)\n",
        "#X.shape\n",
        "X.head()"
      ],
      "execution_count": null,
      "outputs": [
        {
          "output_type": "execute_result",
          "data": {
            "text/html": [
              "<div>\n",
              "<style scoped>\n",
              "    .dataframe tbody tr th:only-of-type {\n",
              "        vertical-align: middle;\n",
              "    }\n",
              "\n",
              "    .dataframe tbody tr th {\n",
              "        vertical-align: top;\n",
              "    }\n",
              "\n",
              "    .dataframe thead th {\n",
              "        text-align: right;\n",
              "    }\n",
              "</style>\n",
              "<table border=\"1\" class=\"dataframe\">\n",
              "  <thead>\n",
              "    <tr style=\"text-align: right;\">\n",
              "      <th></th>\n",
              "      <th>pm2_5</th>\n",
              "      <th>pm10</th>\n",
              "      <th>s2_pm2_5</th>\n",
              "      <th>s2_pm10</th>\n",
              "      <th>humidity</th>\n",
              "      <th>temp</th>\n",
              "      <th>year</th>\n",
              "      <th>month</th>\n",
              "      <th>hour</th>\n",
              "      <th>site_Nakawa</th>\n",
              "      <th>site_USEmbassy</th>\n",
              "    </tr>\n",
              "  </thead>\n",
              "  <tbody>\n",
              "    <tr>\n",
              "      <th>0</th>\n",
              "      <td>6.82</td>\n",
              "      <td>7.31</td>\n",
              "      <td>6.79</td>\n",
              "      <td>7.84</td>\n",
              "      <td>0.807</td>\n",
              "      <td>22.38</td>\n",
              "      <td>2020</td>\n",
              "      <td>4</td>\n",
              "      <td>17</td>\n",
              "      <td>0</td>\n",
              "      <td>1</td>\n",
              "    </tr>\n",
              "    <tr>\n",
              "      <th>1</th>\n",
              "      <td>57.46</td>\n",
              "      <td>67.88</td>\n",
              "      <td>55.64</td>\n",
              "      <td>70.65</td>\n",
              "      <td>0.712</td>\n",
              "      <td>25.35</td>\n",
              "      <td>2020</td>\n",
              "      <td>2</td>\n",
              "      <td>19</td>\n",
              "      <td>0</td>\n",
              "      <td>1</td>\n",
              "    </tr>\n",
              "    <tr>\n",
              "      <th>2</th>\n",
              "      <td>170.01</td>\n",
              "      <td>191.15</td>\n",
              "      <td>165.31</td>\n",
              "      <td>191.47</td>\n",
              "      <td>0.908</td>\n",
              "      <td>20.62</td>\n",
              "      <td>2021</td>\n",
              "      <td>1</td>\n",
              "      <td>4</td>\n",
              "      <td>1</td>\n",
              "      <td>0</td>\n",
              "    </tr>\n",
              "    <tr>\n",
              "      <th>3</th>\n",
              "      <td>49.73</td>\n",
              "      <td>61.51</td>\n",
              "      <td>0.00</td>\n",
              "      <td>0.00</td>\n",
              "      <td>0.950</td>\n",
              "      <td>21.22</td>\n",
              "      <td>2019</td>\n",
              "      <td>12</td>\n",
              "      <td>9</td>\n",
              "      <td>0</td>\n",
              "      <td>1</td>\n",
              "    </tr>\n",
              "    <tr>\n",
              "      <th>4</th>\n",
              "      <td>41.63</td>\n",
              "      <td>51.04</td>\n",
              "      <td>41.72</td>\n",
              "      <td>51.14</td>\n",
              "      <td>0.914</td>\n",
              "      <td>18.91</td>\n",
              "      <td>2019</td>\n",
              "      <td>10</td>\n",
              "      <td>1</td>\n",
              "      <td>0</td>\n",
              "      <td>1</td>\n",
              "    </tr>\n",
              "  </tbody>\n",
              "</table>\n",
              "</div>"
            ],
            "text/plain": [
              "    pm2_5    pm10  s2_pm2_5  s2_pm10  ...  month  hour  site_Nakawa  site_USEmbassy\n",
              "0    6.82    7.31      6.79     7.84  ...      4    17            0               1\n",
              "1   57.46   67.88     55.64    70.65  ...      2    19            0               1\n",
              "2  170.01  191.15    165.31   191.47  ...      1     4            1               0\n",
              "3   49.73   61.51      0.00     0.00  ...     12     9            0               1\n",
              "4   41.63   51.04     41.72    51.14  ...     10     1            0               1\n",
              "\n",
              "[5 rows x 11 columns]"
            ]
          },
          "metadata": {
            "tags": []
          },
          "execution_count": 274
        }
      ]
    },
    {
      "cell_type": "code",
      "metadata": {
        "colab": {
          "base_uri": "https://localhost:8080/"
        },
        "id": "LViuIoDjhnNi",
        "outputId": "c5a4c275-6c09-4c7e-f514-9ba9d4b5bc67"
      },
      "source": [
        "X.info()"
      ],
      "execution_count": null,
      "outputs": [
        {
          "output_type": "stream",
          "text": [
            "<class 'pandas.core.frame.DataFrame'>\n",
            "Int64Index: 10932 entries, 0 to 10931\n",
            "Data columns (total 11 columns):\n",
            " #   Column          Non-Null Count  Dtype  \n",
            "---  ------          --------------  -----  \n",
            " 0   pm2_5           10932 non-null  float64\n",
            " 1   pm10            10932 non-null  float64\n",
            " 2   s2_pm2_5        10932 non-null  float64\n",
            " 3   s2_pm10         10932 non-null  float64\n",
            " 4   humidity        10932 non-null  float64\n",
            " 5   temp            10932 non-null  float64\n",
            " 6   year            10932 non-null  int64  \n",
            " 7   month           10932 non-null  int64  \n",
            " 8   hour            10932 non-null  int64  \n",
            " 9   site_Nakawa     10932 non-null  uint8  \n",
            " 10  site_USEmbassy  10932 non-null  uint8  \n",
            "dtypes: float64(6), int64(3), uint8(2)\n",
            "memory usage: 875.4 KB\n"
          ],
          "name": "stdout"
        }
      ]
    },
    {
      "cell_type": "code",
      "metadata": {
        "colab": {
          "base_uri": "https://localhost:8080/"
        },
        "id": "CCb-kdNMhtkS",
        "outputId": "358b43f7-0932-40d2-c17b-5242f65a15fe"
      },
      "source": [
        "test_ff_r.info()"
      ],
      "execution_count": null,
      "outputs": [
        {
          "output_type": "stream",
          "text": [
            "<class 'pandas.core.frame.DataFrame'>\n",
            "Int64Index: 2733 entries, 10932 to 13664\n",
            "Data columns (total 11 columns):\n",
            " #   Column          Non-Null Count  Dtype  \n",
            "---  ------          --------------  -----  \n",
            " 0   pm2_5           2733 non-null   float64\n",
            " 1   pm10            2733 non-null   float64\n",
            " 2   s2_pm2_5        2733 non-null   float64\n",
            " 3   s2_pm10         2733 non-null   float64\n",
            " 4   humidity        2733 non-null   float64\n",
            " 5   temp            2733 non-null   float64\n",
            " 6   year            2733 non-null   int64  \n",
            " 7   month           2733 non-null   int64  \n",
            " 8   hour            2733 non-null   int64  \n",
            " 9   site_Nakawa     2733 non-null   uint8  \n",
            " 10  site_USEmbassy  2733 non-null   uint8  \n",
            "dtypes: float64(6), int64(3), uint8(2)\n",
            "memory usage: 218.9 KB\n"
          ],
          "name": "stdout"
        }
      ]
    },
    {
      "cell_type": "code",
      "metadata": {
        "id": "2XdLnOinhvz9"
      },
      "source": [
        "from sklearn.model_selection import train_test_split\n",
        "X_train, X_test, y_train, y_test = train_test_split(X, y, test_size = 0.20, random_state = 42,shuffle=True)"
      ],
      "execution_count": null,
      "outputs": []
    },
    {
      "cell_type": "code",
      "metadata": {
        "colab": {
          "base_uri": "https://localhost:8080/"
        },
        "id": "2LJlQAS0h4UF",
        "outputId": "f9584c8e-6791-4bcd-f4a7-25267095a3d5"
      },
      "source": [
        "print(X_train.shape)\n",
        "X_test.shape"
      ],
      "execution_count": null,
      "outputs": [
        {
          "output_type": "stream",
          "text": [
            "(8745, 11)\n"
          ],
          "name": "stdout"
        },
        {
          "output_type": "execute_result",
          "data": {
            "text/plain": [
              "(2187, 11)"
            ]
          },
          "metadata": {
            "tags": []
          },
          "execution_count": 278
        }
      ]
    },
    {
      "cell_type": "code",
      "metadata": {
        "id": "rjsYnxrEiOkR"
      },
      "source": [
        "from sklearn.metrics import mean_squared_log_error\n",
        "from math import sqrt"
      ],
      "execution_count": null,
      "outputs": []
    },
    {
      "cell_type": "code",
      "metadata": {
        "colab": {
          "base_uri": "https://localhost:8080/"
        },
        "id": "ADUr6AV6h5xL",
        "outputId": "21e5c5d0-4e93-4c9d-b7b6-927a4f2f551b"
      },
      "source": [
        "import lightgbm as lgb\n",
        "train_data = lgb.Dataset(X_train, label=y_train)\n",
        "test_data = lgb.Dataset(X_test, label=y_test)\n",
        "\n",
        "param = {'objective': 'regression',\n",
        "         'boosting': 'gbdt',  \n",
        "         'metric': 'l2_root',\n",
        "         'learning_rate': 0.1, \n",
        "         'num_iterations': 3000,\n",
        "         'num_leaves': 69,\n",
        "         'max_depth': -1,\n",
        "         'min_data_in_leaf': 11,\n",
        "         'bagging_fraction': 0.90,\n",
        "         'bagging_freq': 1,\n",
        "         'bagging_seed': 3,\n",
        "         'feature_fraction': 0.90,\n",
        "         'feature_fraction_seed': 2,\n",
        "         'early_stopping_round': 200,\n",
        "         'max_bin': 1000\n",
        "         }\n",
        "\n",
        "lgbm = lgb.train(params=param, verbose_eval=100, train_set=train_data, valid_sets=[test_data])\n",
        "\n",
        "y_pred_lgbm = lgbm.predict(X_test)\n",
        "print('RMSE:', (mean_squared_log_error(np.expm1(y_test), np.expm1(y_pred_lgbm))))"
      ],
      "execution_count": null,
      "outputs": [
        {
          "output_type": "stream",
          "text": [
            "Training until validation scores don't improve for 200 rounds.\n",
            "[100]\tvalid_0's rmse: 0.277172\n",
            "[200]\tvalid_0's rmse: 0.274556\n",
            "[300]\tvalid_0's rmse: 0.275117\n",
            "[400]\tvalid_0's rmse: 0.275308\n",
            "Early stopping, best iteration is:\n",
            "[237]\tvalid_0's rmse: 0.274338\n",
            "RMSE: 0.07526128787892707\n"
          ],
          "name": "stdout"
        }
      ]
    },
    {
      "cell_type": "code",
      "metadata": {
        "colab": {
          "base_uri": "https://localhost:8080/",
          "height": 280
        },
        "id": "S2kevecSivch",
        "outputId": "c873ac59-c91f-45ac-a304-568549e8cffc"
      },
      "source": [
        "plt.scatter((y_test),(y_pred_lgbm) ,alpha=0.5)\n",
        "plt.xlabel(\"y_test\")\n",
        "plt.ylabel(\"y_pred\")\n",
        "plt.show()"
      ],
      "execution_count": null,
      "outputs": [
        {
          "output_type": "display_data",
          "data": {
            "image/png": "[encoded data removed]",
            "text/plain": [
              "<Figure size 432x288 with 1 Axes>"
            ]
          },
          "metadata": {
            "tags": [],
            "needs_background": "light"
          }
        }
      ]
    },
    {
      "cell_type": "code",
      "metadata": {
        "colab": {
          "base_uri": "https://localhost:8080/"
        },
        "id": "ASk3FXUFi1X5",
        "outputId": "b1aca0a6-4878-4bde-e97c-92728eb09c45"
      },
      "source": [
        "y_pred_lgbm_t = lgbm.predict(test_ff_r)\n",
        "\n",
        "\n",
        "opui=np.expm1(y_pred_lgbm_t).round(2)\n",
        "\n",
        "opui"
      ],
      "execution_count": null,
      "outputs": [
        {
          "output_type": "execute_result",
          "data": {
            "text/plain": [
              "array([ 43.09,  41.02,  46.  , ...,  35.95, 267.59,  96.17])"
            ]
          },
          "metadata": {
            "tags": []
          },
          "execution_count": 284
        }
      ]
    },
    {
      "cell_type": "code",
      "metadata": {
        "id": "3zYwAjZAi9IP"
      },
      "source": [
        "final_data1 = {'ID ': test_ff['ID'], 'Response':opui }\n",
        "submission7 = pd.DataFrame(data=final_data1)"
      ],
      "execution_count": null,
      "outputs": []
    },
    {
      "cell_type": "code",
      "metadata": {
        "colab": {
          "base_uri": "https://localhost:8080/",
          "height": 419
        },
        "id": "2Dz1KLa0jWTo",
        "outputId": "54ff5720-a254-47ec-f618-54a54c2a142c"
      },
      "source": [
        "submission7"
      ],
      "execution_count": null,
      "outputs": [
        {
          "output_type": "execute_result",
          "data": {
            "text/html": [
              "<div>\n",
              "<style scoped>\n",
              "    .dataframe tbody tr th:only-of-type {\n",
              "        vertical-align: middle;\n",
              "    }\n",
              "\n",
              "    .dataframe tbody tr th {\n",
              "        vertical-align: top;\n",
              "    }\n",
              "\n",
              "    .dataframe thead th {\n",
              "        text-align: right;\n",
              "    }\n",
              "</style>\n",
              "<table border=\"1\" class=\"dataframe\">\n",
              "  <thead>\n",
              "    <tr style=\"text-align: right;\">\n",
              "      <th></th>\n",
              "      <th>ID</th>\n",
              "      <th>Response</th>\n",
              "    </tr>\n",
              "  </thead>\n",
              "  <tbody>\n",
              "    <tr>\n",
              "      <th>10932</th>\n",
              "      <td>ID_00OZLF7X</td>\n",
              "      <td>43.09</td>\n",
              "    </tr>\n",
              "    <tr>\n",
              "      <th>10933</th>\n",
              "      <td>ID_00ZI0D98</td>\n",
              "      <td>41.02</td>\n",
              "    </tr>\n",
              "    <tr>\n",
              "      <th>10934</th>\n",
              "      <td>ID_017GTLAU</td>\n",
              "      <td>46.00</td>\n",
              "    </tr>\n",
              "    <tr>\n",
              "      <th>10935</th>\n",
              "      <td>ID_01IBM7T2</td>\n",
              "      <td>38.97</td>\n",
              "    </tr>\n",
              "    <tr>\n",
              "      <th>10936</th>\n",
              "      <td>ID_01II27D4</td>\n",
              "      <td>52.66</td>\n",
              "    </tr>\n",
              "    <tr>\n",
              "      <th>...</th>\n",
              "      <td>...</td>\n",
              "      <td>...</td>\n",
              "    </tr>\n",
              "    <tr>\n",
              "      <th>13660</th>\n",
              "      <td>ID_ZW5RSNUS</td>\n",
              "      <td>25.14</td>\n",
              "    </tr>\n",
              "    <tr>\n",
              "      <th>13661</th>\n",
              "      <td>ID_ZWCI817N</td>\n",
              "      <td>85.87</td>\n",
              "    </tr>\n",
              "    <tr>\n",
              "      <th>13662</th>\n",
              "      <td>ID_ZX5858FJ</td>\n",
              "      <td>35.95</td>\n",
              "    </tr>\n",
              "    <tr>\n",
              "      <th>13663</th>\n",
              "      <td>ID_ZY4XOL2H</td>\n",
              "      <td>267.59</td>\n",
              "    </tr>\n",
              "    <tr>\n",
              "      <th>13664</th>\n",
              "      <td>ID_ZYTEVEBR</td>\n",
              "      <td>96.17</td>\n",
              "    </tr>\n",
              "  </tbody>\n",
              "</table>\n",
              "<p>2733 rows × 2 columns</p>\n",
              "</div>"
            ],
            "text/plain": [
              "               ID   Response\n",
              "10932  ID_00OZLF7X     43.09\n",
              "10933  ID_00ZI0D98     41.02\n",
              "10934  ID_017GTLAU     46.00\n",
              "10935  ID_01IBM7T2     38.97\n",
              "10936  ID_01II27D4     52.66\n",
              "...            ...       ...\n",
              "13660  ID_ZW5RSNUS     25.14\n",
              "13661  ID_ZWCI817N     85.87\n",
              "13662  ID_ZX5858FJ     35.95\n",
              "13663  ID_ZY4XOL2H    267.59\n",
              "13664  ID_ZYTEVEBR     96.17\n",
              "\n",
              "[2733 rows x 2 columns]"
            ]
          },
          "metadata": {
            "tags": []
          },
          "execution_count": 286
        }
      ]
    },
    {
      "cell_type": "code",
      "metadata": {
        "colab": {
          "base_uri": "https://localhost:8080/"
        },
        "id": "egXAblMmjYZp",
        "outputId": "b4df3581-3b16-4335-b472-1d9f38e6877e"
      },
      "source": [
        "%cd \"/content\"\n",
        "submission7.to_csv('first.csv', index =False)"
      ],
      "execution_count": null,
      "outputs": [
        {
          "output_type": "stream",
          "text": [
            "/content\n"
          ],
          "name": "stdout"
        }
      ]
    },
    {
      "cell_type": "code",
      "metadata": {
        "colab": {
          "base_uri": "https://localhost:8080/",
          "height": 729
        },
        "id": "CTAe2HFqiUHh",
        "outputId": "314997b8-8e9c-4aec-dc82-00a084ed1b35"
      },
      "source": [
        "import seaborn as sns\n",
        "feature_imp = pd.DataFrame(sorted(zip(lgbm.feature_importance(), X.columns), reverse=True)[:50], \n",
        "                           columns=['Value','Feature'])\n",
        "plt.figure(figsize=(12, 10))\n",
        "sns.barplot(x=\"Value\", y=\"Feature\", data=feature_imp.sort_values(by=\"Value\", ascending=False))\n",
        "plt.title('LightGBM Features')\n",
        "plt.tight_layout()\n",
        "plt.show()"
      ],
      "execution_count": null,
      "outputs": [
        {
          "output_type": "display_data",
          "data": {
            "image/png": "[encoded data removed]",
            "text/plain": [
              "<Figure size 864x720 with 1 Axes>"
            ]
          },
          "metadata": {
            "tags": [],
            "needs_background": "light"
          }
        }
      ]
    },
    {
      "cell_type": "code",
      "metadata": {
        "colab": {
          "base_uri": "https://localhost:8080/"
        },
        "id": "8D0b65saiWzX",
        "outputId": "8d956029-27e4-4e04-fba6-f82bfe1d1114"
      },
      "source": [
        "from sklearn.model_selection import KFold\n",
        "from lightgbm import LGBMRegressor\n",
        "\n",
        "errlgb = []\n",
        "y_pred_totlgb = []\n",
        "\n",
        "fold = KFold(n_splits=10, shuffle=True, random_state=101)\n",
        "\n",
        "for train_index, test_index in fold.split(X):\n",
        "    X_train, X_test = X.loc[train_index], X.loc[test_index]\n",
        "    y_train, y_test = y[train_index], y[test_index]\n",
        "\n",
        "    lgbm = LGBMRegressor(**param)\n",
        "    lgbm.fit(X_train, y_train, eval_set=[(X_test, y_test)], verbose=0, early_stopping_rounds=200)\n",
        "\n",
        "    y_pred_lgbm = lgbm.predict(X_test)\n",
        "    print(\"RMSLE LGBM: \", sqrt(mean_squared_log_error(np.exp(y_test), np.exp(y_pred_lgbm))))\n",
        "\n",
        "    errlgb.append(sqrt(mean_squared_log_error(np.exp(y_test), np.exp(y_pred_lgbm))))\n",
        "    p = lgbm.predict(test_ff_r)\n",
        "    y_pred_totlgb.append(p)"
      ],
      "execution_count": null,
      "outputs": [
        {
          "output_type": "stream",
          "text": [
            "RMSLE LGBM:  0.25512081533600117\n",
            "RMSLE LGBM:  0.2652483455566673\n",
            "RMSLE LGBM:  0.27607764163400034\n",
            "RMSLE LGBM:  0.24367099826857466\n",
            "RMSLE LGBM:  0.27388592505910947\n",
            "RMSLE LGBM:  0.2902596675897257\n",
            "RMSLE LGBM:  0.2634792167970104\n",
            "RMSLE LGBM:  0.2735315436190063\n",
            "RMSLE LGBM:  0.2511254525946334\n",
            "RMSLE LGBM:  0.23199458901487754\n"
          ],
          "name": "stdout"
        }
      ]
    },
    {
      "cell_type": "code",
      "metadata": {
        "id": "ClHDAZBGkRDI"
      },
      "source": [
        "gb_fib = (np.mean(y_pred_totlgb,0))\n",
        "gb_fib=np.expm1(gb_fib).round(2)"
      ],
      "execution_count": null,
      "outputs": []
    },
    {
      "cell_type": "code",
      "metadata": {
        "colab": {
          "base_uri": "https://localhost:8080/"
        },
        "id": "z-Byvk49kSJJ",
        "outputId": "bb52b673-a7ce-43f0-b5c6-f3e822e45a0a"
      },
      "source": [
        "gb_fib"
      ],
      "execution_count": null,
      "outputs": [
        {
          "output_type": "execute_result",
          "data": {
            "text/plain": [
              "array([ 41.22,  41.95,  46.05, ...,  36.94, 231.76, 100.61])"
            ]
          },
          "metadata": {
            "tags": []
          },
          "execution_count": 290
        }
      ]
    },
    {
      "cell_type": "code",
      "metadata": {
        "id": "ug9fTz0gkS_L"
      },
      "source": [
        "final_data1 = {'ID ': test_ff['ID'], 'Response':gb_fib }\n",
        "submission8 = pd.DataFrame(data=final_data1)"
      ],
      "execution_count": null,
      "outputs": []
    },
    {
      "cell_type": "code",
      "metadata": {
        "colab": {
          "base_uri": "https://localhost:8080/"
        },
        "id": "6iFZaRHgkazo",
        "outputId": "25fb1f06-7601-4c69-bdf4-6b84e4b9713b"
      },
      "source": [
        "%cd \"/content\"\n",
        "submission8.to_csv('second.csv', index =False)"
      ],
      "execution_count": null,
      "outputs": [
        {
          "output_type": "stream",
          "text": [
            "/content\n"
          ],
          "name": "stdout"
        }
      ]
    },
    {
      "cell_type": "code",
      "metadata": {
        "id": "pZtPGj7ckfUN"
      },
      "source": [
        "!pip install catboost\n",
        "from lightgbm import LGBMRegressor\n",
        "from catboost import CatBoostRegressor\n",
        "from sklearn.linear_model import LinearRegression\n",
        "#from sklearn.naive_bayes import GaussianNB\n",
        "from sklearn.tree import DecisionTreeRegressor\n",
        "from sklearn.ensemble import RandomForestRegressor\n",
        "from sklearn.ensemble import GradientBoostingRegressor\n",
        "from xgboost import XGBRegressor\n",
        "from sklearn.metrics import mean_squared_error"
      ],
      "execution_count": null,
      "outputs": []
    },
    {
      "cell_type": "code",
      "metadata": {
        "id": "YXLeIbFinSd4"
      },
      "source": [
        "model = {\n",
        "    \"Decision Tree\": DecisionTreeRegressor(),  \n",
        "    \"Random Forest\" : RandomForestRegressor(), \n",
        "    \"Gradient Boosting\" : GradientBoostingRegressor(),\n",
        "    \"XGBoost\" : XGBRegressor(),\n",
        "    \"CatBoost\" : CatBoostRegressor(),\n",
        "    \"LGBM\" : LGBMRegressor(),\n",
        "    \"linear\":LinearRegression()\n",
        "        }"
      ],
      "execution_count": null,
      "outputs": []
    },
    {
      "cell_type": "code",
      "metadata": {
        "id": "rAOPyL5IoG2r"
      },
      "source": [
        "scores = []\n",
        "prob_score = {}\n",
        "for mod in model:\n",
        "    classifier = model[mod]\n",
        "    classifier.fit(X_train, y_train)\n",
        "    pred = classifier.predict(X_test)\n",
        "    try:\n",
        "        score = classifier.predict_proba(X_test)[:,1]\n",
        "        roc = sqrt(mean_squared_error(y_test, score))\n",
        "        prob_score[mod] = score\n",
        "    except:\n",
        "        roc = 0\n",
        "    scores.append([\n",
        "        mod,\n",
        "        mean_squared_error(y_test, pred),\n",
        "        mean_squared_error(y_test, pred),\n",
        "        mean_squared_error(y_test, pred),\n",
        "        mean_squared_error(y_test, pred),\n",
        "        roc\n",
        "    ])"
      ],
      "execution_count": null,
      "outputs": []
    },
    {
      "cell_type": "code",
      "metadata": {
        "colab": {
          "base_uri": "https://localhost:8080/",
          "height": 187
        },
        "id": "HaFJjp61ovaj",
        "outputId": "175659d3-355b-45b1-b818-c615c049e1e3"
      },
      "source": [
        "def highlight_max(s):\n",
        "    is_max = s == s.min()\n",
        "    return ['background-color: yellow' if v else '' for v in is_max]\n",
        "\n",
        "scores_df  = pd.DataFrame(scores)\n",
        "index_model = {count: s for count, s in enumerate(scores_df[0])}\n",
        "col = {count+1: s for count, s in enumerate(['Accuracy','F1 Score','Precision','Recall','ROC AUC'])}\n",
        "scores_df = scores_df.drop(0, axis=1)\n",
        "scores_df = scores_df.rename(columns=col, index=index_model)\n",
        "scores_df.style.apply(highlight_max)"
      ],
      "execution_count": null,
      "outputs": [
        {
          "output_type": "execute_result",
          "data": {
            "text/html": [
              "<style  type=\"text/css\" >\n",
              "#T_d1e24f4c_c2ff_11eb_a59a_0242ac1c0002row0_col4,#T_d1e24f4c_c2ff_11eb_a59a_0242ac1c0002row1_col4,#T_d1e24f4c_c2ff_11eb_a59a_0242ac1c0002row2_col4,#T_d1e24f4c_c2ff_11eb_a59a_0242ac1c0002row3_col4,#T_d1e24f4c_c2ff_11eb_a59a_0242ac1c0002row4_col0,#T_d1e24f4c_c2ff_11eb_a59a_0242ac1c0002row4_col1,#T_d1e24f4c_c2ff_11eb_a59a_0242ac1c0002row4_col2,#T_d1e24f4c_c2ff_11eb_a59a_0242ac1c0002row4_col3,#T_d1e24f4c_c2ff_11eb_a59a_0242ac1c0002row4_col4,#T_d1e24f4c_c2ff_11eb_a59a_0242ac1c0002row5_col4,#T_d1e24f4c_c2ff_11eb_a59a_0242ac1c0002row6_col4{\n",
              "            background-color:  yellow;\n",
              "        }</style><table id=\"T_d1e24f4c_c2ff_11eb_a59a_0242ac1c0002\" ><thead>    <tr>        <th class=\"blank level0\" ></th>        <th class=\"col_heading level0 col0\" >Accuracy</th>        <th class=\"col_heading level0 col1\" >F1 Score</th>        <th class=\"col_heading level0 col2\" >Precision</th>        <th class=\"col_heading level0 col3\" >Recall</th>        <th class=\"col_heading level0 col4\" >ROC AUC</th>    </tr></thead><tbody>\n",
              "                <tr>\n",
              "                        <th id=\"T_d1e24f4c_c2ff_11eb_a59a_0242ac1c0002level0_row0\" class=\"row_heading level0 row0\" >Decision Tree</th>\n",
              "                        <td id=\"T_d1e24f4c_c2ff_11eb_a59a_0242ac1c0002row0_col0\" class=\"data row0 col0\" >0.140537</td>\n",
              "                        <td id=\"T_d1e24f4c_c2ff_11eb_a59a_0242ac1c0002row0_col1\" class=\"data row0 col1\" >0.140537</td>\n",
              "                        <td id=\"T_d1e24f4c_c2ff_11eb_a59a_0242ac1c0002row0_col2\" class=\"data row0 col2\" >0.140537</td>\n",
              "                        <td id=\"T_d1e24f4c_c2ff_11eb_a59a_0242ac1c0002row0_col3\" class=\"data row0 col3\" >0.140537</td>\n",
              "                        <td id=\"T_d1e24f4c_c2ff_11eb_a59a_0242ac1c0002row0_col4\" class=\"data row0 col4\" >0</td>\n",
              "            </tr>\n",
              "            <tr>\n",
              "                        <th id=\"T_d1e24f4c_c2ff_11eb_a59a_0242ac1c0002level0_row1\" class=\"row_heading level0 row1\" >Random Forest</th>\n",
              "                        <td id=\"T_d1e24f4c_c2ff_11eb_a59a_0242ac1c0002row1_col0\" class=\"data row1 col0\" >0.070458</td>\n",
              "                        <td id=\"T_d1e24f4c_c2ff_11eb_a59a_0242ac1c0002row1_col1\" class=\"data row1 col1\" >0.070458</td>\n",
              "                        <td id=\"T_d1e24f4c_c2ff_11eb_a59a_0242ac1c0002row1_col2\" class=\"data row1 col2\" >0.070458</td>\n",
              "                        <td id=\"T_d1e24f4c_c2ff_11eb_a59a_0242ac1c0002row1_col3\" class=\"data row1 col3\" >0.070458</td>\n",
              "                        <td id=\"T_d1e24f4c_c2ff_11eb_a59a_0242ac1c0002row1_col4\" class=\"data row1 col4\" >0</td>\n",
              "            </tr>\n",
              "            <tr>\n",
              "                        <th id=\"T_d1e24f4c_c2ff_11eb_a59a_0242ac1c0002level0_row2\" class=\"row_heading level0 row2\" >Gradient Boosting</th>\n",
              "                        <td id=\"T_d1e24f4c_c2ff_11eb_a59a_0242ac1c0002row2_col0\" class=\"data row2 col0\" >0.060439</td>\n",
              "                        <td id=\"T_d1e24f4c_c2ff_11eb_a59a_0242ac1c0002row2_col1\" class=\"data row2 col1\" >0.060439</td>\n",
              "                        <td id=\"T_d1e24f4c_c2ff_11eb_a59a_0242ac1c0002row2_col2\" class=\"data row2 col2\" >0.060439</td>\n",
              "                        <td id=\"T_d1e24f4c_c2ff_11eb_a59a_0242ac1c0002row2_col3\" class=\"data row2 col3\" >0.060439</td>\n",
              "                        <td id=\"T_d1e24f4c_c2ff_11eb_a59a_0242ac1c0002row2_col4\" class=\"data row2 col4\" >0</td>\n",
              "            </tr>\n",
              "            <tr>\n",
              "                        <th id=\"T_d1e24f4c_c2ff_11eb_a59a_0242ac1c0002level0_row3\" class=\"row_heading level0 row3\" >XGBoost</th>\n",
              "                        <td id=\"T_d1e24f4c_c2ff_11eb_a59a_0242ac1c0002row3_col0\" class=\"data row3 col0\" >0.059861</td>\n",
              "                        <td id=\"T_d1e24f4c_c2ff_11eb_a59a_0242ac1c0002row3_col1\" class=\"data row3 col1\" >0.059861</td>\n",
              "                        <td id=\"T_d1e24f4c_c2ff_11eb_a59a_0242ac1c0002row3_col2\" class=\"data row3 col2\" >0.059861</td>\n",
              "                        <td id=\"T_d1e24f4c_c2ff_11eb_a59a_0242ac1c0002row3_col3\" class=\"data row3 col3\" >0.059861</td>\n",
              "                        <td id=\"T_d1e24f4c_c2ff_11eb_a59a_0242ac1c0002row3_col4\" class=\"data row3 col4\" >0</td>\n",
              "            </tr>\n",
              "            <tr>\n",
              "                        <th id=\"T_d1e24f4c_c2ff_11eb_a59a_0242ac1c0002level0_row4\" class=\"row_heading level0 row4\" >CatBoost</th>\n",
              "                        <td id=\"T_d1e24f4c_c2ff_11eb_a59a_0242ac1c0002row4_col0\" class=\"data row4 col0\" >0.051570</td>\n",
              "                        <td id=\"T_d1e24f4c_c2ff_11eb_a59a_0242ac1c0002row4_col1\" class=\"data row4 col1\" >0.051570</td>\n",
              "                        <td id=\"T_d1e24f4c_c2ff_11eb_a59a_0242ac1c0002row4_col2\" class=\"data row4 col2\" >0.051570</td>\n",
              "                        <td id=\"T_d1e24f4c_c2ff_11eb_a59a_0242ac1c0002row4_col3\" class=\"data row4 col3\" >0.051570</td>\n",
              "                        <td id=\"T_d1e24f4c_c2ff_11eb_a59a_0242ac1c0002row4_col4\" class=\"data row4 col4\" >0</td>\n",
              "            </tr>\n",
              "            <tr>\n",
              "                        <th id=\"T_d1e24f4c_c2ff_11eb_a59a_0242ac1c0002level0_row5\" class=\"row_heading level0 row5\" >LGBM</th>\n",
              "                        <td id=\"T_d1e24f4c_c2ff_11eb_a59a_0242ac1c0002row5_col0\" class=\"data row5 col0\" >0.059491</td>\n",
              "                        <td id=\"T_d1e24f4c_c2ff_11eb_a59a_0242ac1c0002row5_col1\" class=\"data row5 col1\" >0.059491</td>\n",
              "                        <td id=\"T_d1e24f4c_c2ff_11eb_a59a_0242ac1c0002row5_col2\" class=\"data row5 col2\" >0.059491</td>\n",
              "                        <td id=\"T_d1e24f4c_c2ff_11eb_a59a_0242ac1c0002row5_col3\" class=\"data row5 col3\" >0.059491</td>\n",
              "                        <td id=\"T_d1e24f4c_c2ff_11eb_a59a_0242ac1c0002row5_col4\" class=\"data row5 col4\" >0</td>\n",
              "            </tr>\n",
              "            <tr>\n",
              "                        <th id=\"T_d1e24f4c_c2ff_11eb_a59a_0242ac1c0002level0_row6\" class=\"row_heading level0 row6\" >linear</th>\n",
              "                        <td id=\"T_d1e24f4c_c2ff_11eb_a59a_0242ac1c0002row6_col0\" class=\"data row6 col0\" >0.118457</td>\n",
              "                        <td id=\"T_d1e24f4c_c2ff_11eb_a59a_0242ac1c0002row6_col1\" class=\"data row6 col1\" >0.118457</td>\n",
              "                        <td id=\"T_d1e24f4c_c2ff_11eb_a59a_0242ac1c0002row6_col2\" class=\"data row6 col2\" >0.118457</td>\n",
              "                        <td id=\"T_d1e24f4c_c2ff_11eb_a59a_0242ac1c0002row6_col3\" class=\"data row6 col3\" >0.118457</td>\n",
              "                        <td id=\"T_d1e24f4c_c2ff_11eb_a59a_0242ac1c0002row6_col4\" class=\"data row6 col4\" >0</td>\n",
              "            </tr>\n",
              "    </tbody></table>"
            ],
            "text/plain": [
              "<pandas.io.formats.style.Styler at 0x7f0050d58650>"
            ]
          },
          "metadata": {
            "tags": []
          },
          "execution_count": 303
        }
      ]
    },
    {
      "cell_type": "code",
      "metadata": {
        "colab": {
          "base_uri": "https://localhost:8080/"
        },
        "id": "MZHYc-sZo8s3",
        "outputId": "a2722c1f-3135-4ce6-c632-bee8c49c8cbc"
      },
      "source": [
        "model1 = CatBoostRegressor()\n",
        "model1.fit(X_train,y_train)\n",
        "y_pred = model1.predict(X_test)\n",
        "print(f'mse score on the X_test is: {mean_squared_error(y_test, y_pred)}')"
      ],
      "execution_count": null,
      "outputs": [
        {
          "output_type": "stream",
          "text": [
            "Learning rate set to 0.058634\n",
            "0:\tlearn: 0.6291861\ttotal: 4.12ms\tremaining: 4.12s\n",
            "1:\tlearn: 0.6057608\ttotal: 7.71ms\tremaining: 3.85s\n",
            "2:\tlearn: 0.5842555\ttotal: 11.2ms\tremaining: 3.74s\n",
            "3:\tlearn: 0.5646663\ttotal: 14.8ms\tremaining: 3.69s\n",
            "4:\tlearn: 0.5458979\ttotal: 18.4ms\tremaining: 3.66s\n",
            "5:\tlearn: 0.5292717\ttotal: 22ms\tremaining: 3.65s\n",
            "6:\tlearn: 0.5137060\ttotal: 25.5ms\tremaining: 3.62s\n",
            "7:\tlearn: 0.4986520\ttotal: 29.3ms\tremaining: 3.63s\n",
            "8:\tlearn: 0.4848856\ttotal: 32.8ms\tremaining: 3.61s\n",
            "9:\tlearn: 0.4722121\ttotal: 36.3ms\tremaining: 3.59s\n",
            "10:\tlearn: 0.4606492\ttotal: 39.8ms\tremaining: 3.58s\n",
            "11:\tlearn: 0.4501030\ttotal: 43.3ms\tremaining: 3.57s\n",
            "12:\tlearn: 0.4399852\ttotal: 46.9ms\tremaining: 3.56s\n",
            "13:\tlearn: 0.4309182\ttotal: 50.5ms\tremaining: 3.55s\n",
            "14:\tlearn: 0.4222707\ttotal: 53.9ms\tremaining: 3.54s\n",
            "15:\tlearn: 0.4144819\ttotal: 57.4ms\tremaining: 3.53s\n",
            "16:\tlearn: 0.4076027\ttotal: 61.2ms\tremaining: 3.54s\n",
            "17:\tlearn: 0.4010994\ttotal: 64.7ms\tremaining: 3.53s\n",
            "18:\tlearn: 0.3950734\ttotal: 68.2ms\tremaining: 3.52s\n",
            "19:\tlearn: 0.3894246\ttotal: 71.7ms\tremaining: 3.51s\n",
            "20:\tlearn: 0.3843879\ttotal: 75.3ms\tremaining: 3.51s\n",
            "21:\tlearn: 0.3794160\ttotal: 78.7ms\tremaining: 3.5s\n",
            "22:\tlearn: 0.3753659\ttotal: 82.2ms\tremaining: 3.49s\n",
            "23:\tlearn: 0.3711556\ttotal: 85.7ms\tremaining: 3.48s\n",
            "24:\tlearn: 0.3675441\ttotal: 92.7ms\tremaining: 3.62s\n",
            "25:\tlearn: 0.3639813\ttotal: 101ms\tremaining: 3.78s\n",
            "26:\tlearn: 0.3605322\ttotal: 110ms\tremaining: 3.96s\n",
            "27:\tlearn: 0.3576930\ttotal: 114ms\tremaining: 3.95s\n",
            "28:\tlearn: 0.3548677\ttotal: 117ms\tremaining: 3.92s\n",
            "29:\tlearn: 0.3524682\ttotal: 121ms\tremaining: 3.9s\n",
            "30:\tlearn: 0.3500337\ttotal: 124ms\tremaining: 3.89s\n",
            "31:\tlearn: 0.3460488\ttotal: 128ms\tremaining: 3.87s\n",
            "32:\tlearn: 0.3437973\ttotal: 131ms\tremaining: 3.85s\n",
            "33:\tlearn: 0.3417855\ttotal: 135ms\tremaining: 3.84s\n",
            "34:\tlearn: 0.3395475\ttotal: 139ms\tremaining: 3.82s\n",
            "35:\tlearn: 0.3381135\ttotal: 142ms\tremaining: 3.81s\n",
            "36:\tlearn: 0.3365621\ttotal: 146ms\tremaining: 3.79s\n",
            "37:\tlearn: 0.3347043\ttotal: 149ms\tremaining: 3.78s\n",
            "38:\tlearn: 0.3327588\ttotal: 153ms\tremaining: 3.77s\n",
            "39:\tlearn: 0.3296134\ttotal: 157ms\tremaining: 3.76s\n",
            "40:\tlearn: 0.3284520\ttotal: 161ms\tremaining: 3.75s\n",
            "41:\tlearn: 0.3271081\ttotal: 164ms\tremaining: 3.74s\n",
            "42:\tlearn: 0.3262504\ttotal: 168ms\tremaining: 3.73s\n",
            "43:\tlearn: 0.3248259\ttotal: 171ms\tremaining: 3.72s\n",
            "44:\tlearn: 0.3239679\ttotal: 174ms\tremaining: 3.7s\n",
            "45:\tlearn: 0.3215617\ttotal: 178ms\tremaining: 3.69s\n",
            "46:\tlearn: 0.3206021\ttotal: 181ms\tremaining: 3.68s\n",
            "47:\tlearn: 0.3190550\ttotal: 189ms\tremaining: 3.75s\n",
            "48:\tlearn: 0.3184517\ttotal: 194ms\tremaining: 3.76s\n",
            "49:\tlearn: 0.3173440\ttotal: 197ms\tremaining: 3.75s\n",
            "50:\tlearn: 0.3166483\ttotal: 201ms\tremaining: 3.73s\n",
            "51:\tlearn: 0.3161935\ttotal: 204ms\tremaining: 3.72s\n",
            "52:\tlearn: 0.3152644\ttotal: 208ms\tremaining: 3.72s\n",
            "53:\tlearn: 0.3146362\ttotal: 212ms\tremaining: 3.71s\n",
            "54:\tlearn: 0.3140901\ttotal: 215ms\tremaining: 3.7s\n",
            "55:\tlearn: 0.3120288\ttotal: 219ms\tremaining: 3.69s\n",
            "56:\tlearn: 0.3114479\ttotal: 222ms\tremaining: 3.67s\n",
            "57:\tlearn: 0.3109362\ttotal: 226ms\tremaining: 3.66s\n",
            "58:\tlearn: 0.3094878\ttotal: 229ms\tremaining: 3.65s\n",
            "59:\tlearn: 0.3086909\ttotal: 233ms\tremaining: 3.64s\n",
            "60:\tlearn: 0.3081529\ttotal: 236ms\tremaining: 3.63s\n",
            "61:\tlearn: 0.3074388\ttotal: 239ms\tremaining: 3.62s\n",
            "62:\tlearn: 0.3070385\ttotal: 243ms\tremaining: 3.62s\n",
            "63:\tlearn: 0.3067440\ttotal: 247ms\tremaining: 3.61s\n",
            "64:\tlearn: 0.3064775\ttotal: 250ms\tremaining: 3.6s\n",
            "65:\tlearn: 0.3060032\ttotal: 254ms\tremaining: 3.59s\n",
            "66:\tlearn: 0.3046385\ttotal: 257ms\tremaining: 3.58s\n",
            "67:\tlearn: 0.3029475\ttotal: 261ms\tremaining: 3.57s\n",
            "68:\tlearn: 0.3015439\ttotal: 264ms\tremaining: 3.56s\n",
            "69:\tlearn: 0.3012842\ttotal: 268ms\tremaining: 3.56s\n",
            "70:\tlearn: 0.3008984\ttotal: 271ms\tremaining: 3.55s\n",
            "71:\tlearn: 0.3005519\ttotal: 275ms\tremaining: 3.54s\n",
            "72:\tlearn: 0.3002931\ttotal: 278ms\tremaining: 3.54s\n",
            "73:\tlearn: 0.3000428\ttotal: 282ms\tremaining: 3.52s\n",
            "74:\tlearn: 0.2988261\ttotal: 285ms\tremaining: 3.52s\n",
            "75:\tlearn: 0.2984443\ttotal: 289ms\tremaining: 3.52s\n",
            "76:\tlearn: 0.2981773\ttotal: 293ms\tremaining: 3.51s\n",
            "77:\tlearn: 0.2977555\ttotal: 297ms\tremaining: 3.51s\n",
            "78:\tlearn: 0.2966033\ttotal: 300ms\tremaining: 3.5s\n",
            "79:\tlearn: 0.2958868\ttotal: 304ms\tremaining: 3.49s\n",
            "80:\tlearn: 0.2956094\ttotal: 307ms\tremaining: 3.49s\n",
            "81:\tlearn: 0.2953904\ttotal: 311ms\tremaining: 3.48s\n",
            "82:\tlearn: 0.2945811\ttotal: 314ms\tremaining: 3.47s\n",
            "83:\tlearn: 0.2935468\ttotal: 318ms\tremaining: 3.46s\n",
            "84:\tlearn: 0.2933075\ttotal: 321ms\tremaining: 3.46s\n",
            "85:\tlearn: 0.2931494\ttotal: 325ms\tremaining: 3.45s\n",
            "86:\tlearn: 0.2923330\ttotal: 328ms\tremaining: 3.44s\n",
            "87:\tlearn: 0.2920967\ttotal: 331ms\tremaining: 3.43s\n",
            "88:\tlearn: 0.2918267\ttotal: 335ms\tremaining: 3.43s\n",
            "89:\tlearn: 0.2908465\ttotal: 338ms\tremaining: 3.42s\n",
            "90:\tlearn: 0.2897858\ttotal: 342ms\tremaining: 3.41s\n",
            "91:\tlearn: 0.2896297\ttotal: 346ms\tremaining: 3.41s\n",
            "92:\tlearn: 0.2893731\ttotal: 349ms\tremaining: 3.4s\n",
            "93:\tlearn: 0.2890914\ttotal: 353ms\tremaining: 3.4s\n",
            "94:\tlearn: 0.2885136\ttotal: 356ms\tremaining: 3.4s\n",
            "95:\tlearn: 0.2883168\ttotal: 360ms\tremaining: 3.39s\n",
            "96:\tlearn: 0.2875192\ttotal: 364ms\tremaining: 3.39s\n",
            "97:\tlearn: 0.2872641\ttotal: 368ms\tremaining: 3.38s\n",
            "98:\tlearn: 0.2870211\ttotal: 371ms\tremaining: 3.38s\n",
            "99:\tlearn: 0.2868777\ttotal: 375ms\tremaining: 3.37s\n",
            "100:\tlearn: 0.2866568\ttotal: 378ms\tremaining: 3.37s\n",
            "101:\tlearn: 0.2865295\ttotal: 386ms\tremaining: 3.4s\n",
            "102:\tlearn: 0.2862386\ttotal: 391ms\tremaining: 3.41s\n",
            "103:\tlearn: 0.2852603\ttotal: 395ms\tremaining: 3.4s\n",
            "104:\tlearn: 0.2850807\ttotal: 399ms\tremaining: 3.4s\n",
            "105:\tlearn: 0.2842955\ttotal: 403ms\tremaining: 3.4s\n",
            "106:\tlearn: 0.2836490\ttotal: 406ms\tremaining: 3.39s\n",
            "107:\tlearn: 0.2833663\ttotal: 410ms\tremaining: 3.38s\n",
            "108:\tlearn: 0.2831274\ttotal: 413ms\tremaining: 3.38s\n",
            "109:\tlearn: 0.2830382\ttotal: 417ms\tremaining: 3.37s\n",
            "110:\tlearn: 0.2828749\ttotal: 420ms\tremaining: 3.37s\n",
            "111:\tlearn: 0.2826940\ttotal: 424ms\tremaining: 3.36s\n",
            "112:\tlearn: 0.2825081\ttotal: 427ms\tremaining: 3.35s\n",
            "113:\tlearn: 0.2823208\ttotal: 431ms\tremaining: 3.35s\n",
            "114:\tlearn: 0.2820934\ttotal: 435ms\tremaining: 3.35s\n",
            "115:\tlearn: 0.2819578\ttotal: 438ms\tremaining: 3.34s\n",
            "116:\tlearn: 0.2813683\ttotal: 442ms\tremaining: 3.33s\n",
            "117:\tlearn: 0.2812782\ttotal: 445ms\tremaining: 3.33s\n",
            "118:\tlearn: 0.2811231\ttotal: 449ms\tremaining: 3.32s\n",
            "119:\tlearn: 0.2810301\ttotal: 452ms\tremaining: 3.31s\n",
            "120:\tlearn: 0.2809184\ttotal: 455ms\tremaining: 3.31s\n",
            "121:\tlearn: 0.2805273\ttotal: 459ms\tremaining: 3.3s\n",
            "122:\tlearn: 0.2804562\ttotal: 462ms\tremaining: 3.29s\n",
            "123:\tlearn: 0.2803475\ttotal: 465ms\tremaining: 3.29s\n",
            "124:\tlearn: 0.2802074\ttotal: 469ms\tremaining: 3.28s\n",
            "125:\tlearn: 0.2800640\ttotal: 472ms\tremaining: 3.28s\n",
            "126:\tlearn: 0.2799655\ttotal: 476ms\tremaining: 3.27s\n",
            "127:\tlearn: 0.2798912\ttotal: 479ms\tremaining: 3.26s\n",
            "128:\tlearn: 0.2797236\ttotal: 483ms\tremaining: 3.26s\n",
            "129:\tlearn: 0.2795675\ttotal: 487ms\tremaining: 3.26s\n",
            "130:\tlearn: 0.2792091\ttotal: 490ms\tremaining: 3.25s\n",
            "131:\tlearn: 0.2791128\ttotal: 494ms\tremaining: 3.25s\n",
            "132:\tlearn: 0.2789607\ttotal: 497ms\tremaining: 3.24s\n",
            "133:\tlearn: 0.2787294\ttotal: 501ms\tremaining: 3.24s\n",
            "134:\tlearn: 0.2786314\ttotal: 504ms\tremaining: 3.23s\n",
            "135:\tlearn: 0.2781847\ttotal: 508ms\tremaining: 3.23s\n",
            "136:\tlearn: 0.2780745\ttotal: 512ms\tremaining: 3.22s\n",
            "137:\tlearn: 0.2778850\ttotal: 515ms\tremaining: 3.22s\n",
            "138:\tlearn: 0.2777200\ttotal: 519ms\tremaining: 3.21s\n",
            "139:\tlearn: 0.2775445\ttotal: 522ms\tremaining: 3.21s\n",
            "140:\tlearn: 0.2773915\ttotal: 526ms\tremaining: 3.2s\n",
            "141:\tlearn: 0.2768344\ttotal: 529ms\tremaining: 3.2s\n",
            "142:\tlearn: 0.2762696\ttotal: 533ms\tremaining: 3.19s\n",
            "143:\tlearn: 0.2759677\ttotal: 537ms\tremaining: 3.19s\n",
            "144:\tlearn: 0.2756003\ttotal: 540ms\tremaining: 3.19s\n",
            "145:\tlearn: 0.2754968\ttotal: 544ms\tremaining: 3.18s\n",
            "146:\tlearn: 0.2753445\ttotal: 547ms\tremaining: 3.17s\n",
            "147:\tlearn: 0.2752586\ttotal: 550ms\tremaining: 3.17s\n",
            "148:\tlearn: 0.2747023\ttotal: 554ms\tremaining: 3.16s\n",
            "149:\tlearn: 0.2745150\ttotal: 558ms\tremaining: 3.16s\n",
            "150:\tlearn: 0.2743080\ttotal: 561ms\tremaining: 3.15s\n",
            "151:\tlearn: 0.2741232\ttotal: 565ms\tremaining: 3.15s\n",
            "152:\tlearn: 0.2739796\ttotal: 569ms\tremaining: 3.15s\n",
            "153:\tlearn: 0.2738543\ttotal: 572ms\tremaining: 3.14s\n",
            "154:\tlearn: 0.2736875\ttotal: 575ms\tremaining: 3.13s\n",
            "155:\tlearn: 0.2733253\ttotal: 578ms\tremaining: 3.13s\n",
            "156:\tlearn: 0.2732015\ttotal: 586ms\tremaining: 3.15s\n",
            "157:\tlearn: 0.2729734\ttotal: 590ms\tremaining: 3.14s\n",
            "158:\tlearn: 0.2728594\ttotal: 594ms\tremaining: 3.14s\n",
            "159:\tlearn: 0.2727075\ttotal: 597ms\tremaining: 3.14s\n",
            "160:\tlearn: 0.2725611\ttotal: 601ms\tremaining: 3.13s\n",
            "161:\tlearn: 0.2724578\ttotal: 604ms\tremaining: 3.13s\n",
            "162:\tlearn: 0.2719040\ttotal: 608ms\tremaining: 3.12s\n",
            "163:\tlearn: 0.2717621\ttotal: 612ms\tremaining: 3.12s\n",
            "164:\tlearn: 0.2715995\ttotal: 615ms\tremaining: 3.11s\n",
            "165:\tlearn: 0.2713882\ttotal: 619ms\tremaining: 3.11s\n",
            "166:\tlearn: 0.2712661\ttotal: 622ms\tremaining: 3.1s\n",
            "167:\tlearn: 0.2711022\ttotal: 626ms\tremaining: 3.1s\n",
            "168:\tlearn: 0.2710218\ttotal: 629ms\tremaining: 3.09s\n",
            "169:\tlearn: 0.2708710\ttotal: 633ms\tremaining: 3.09s\n",
            "170:\tlearn: 0.2707207\ttotal: 636ms\tremaining: 3.08s\n",
            "171:\tlearn: 0.2704272\ttotal: 640ms\tremaining: 3.08s\n",
            "172:\tlearn: 0.2702544\ttotal: 644ms\tremaining: 3.08s\n",
            "173:\tlearn: 0.2697399\ttotal: 648ms\tremaining: 3.07s\n",
            "174:\tlearn: 0.2694579\ttotal: 651ms\tremaining: 3.07s\n",
            "175:\tlearn: 0.2692951\ttotal: 655ms\tremaining: 3.06s\n",
            "176:\tlearn: 0.2691749\ttotal: 658ms\tremaining: 3.06s\n",
            "177:\tlearn: 0.2688922\ttotal: 662ms\tremaining: 3.06s\n",
            "178:\tlearn: 0.2688178\ttotal: 665ms\tremaining: 3.05s\n",
            "179:\tlearn: 0.2685399\ttotal: 669ms\tremaining: 3.05s\n",
            "180:\tlearn: 0.2682308\ttotal: 673ms\tremaining: 3.04s\n",
            "181:\tlearn: 0.2680606\ttotal: 676ms\tremaining: 3.04s\n",
            "182:\tlearn: 0.2678813\ttotal: 680ms\tremaining: 3.04s\n",
            "183:\tlearn: 0.2677121\ttotal: 688ms\tremaining: 3.05s\n",
            "184:\tlearn: 0.2675478\ttotal: 691ms\tremaining: 3.05s\n",
            "185:\tlearn: 0.2670874\ttotal: 695ms\tremaining: 3.04s\n",
            "186:\tlearn: 0.2669721\ttotal: 698ms\tremaining: 3.04s\n",
            "187:\tlearn: 0.2669102\ttotal: 702ms\tremaining: 3.03s\n",
            "188:\tlearn: 0.2666361\ttotal: 706ms\tremaining: 3.03s\n",
            "189:\tlearn: 0.2665591\ttotal: 709ms\tremaining: 3.02s\n",
            "190:\tlearn: 0.2662522\ttotal: 712ms\tremaining: 3.02s\n",
            "191:\tlearn: 0.2657107\ttotal: 716ms\tremaining: 3.01s\n",
            "192:\tlearn: 0.2656543\ttotal: 720ms\tremaining: 3.01s\n",
            "193:\tlearn: 0.2655798\ttotal: 723ms\tremaining: 3s\n",
            "194:\tlearn: 0.2652840\ttotal: 726ms\tremaining: 3s\n",
            "195:\tlearn: 0.2651690\ttotal: 730ms\tremaining: 2.99s\n",
            "196:\tlearn: 0.2649750\ttotal: 733ms\tremaining: 2.99s\n",
            "197:\tlearn: 0.2648791\ttotal: 736ms\tremaining: 2.98s\n",
            "198:\tlearn: 0.2647895\ttotal: 740ms\tremaining: 2.98s\n",
            "199:\tlearn: 0.2645713\ttotal: 743ms\tremaining: 2.97s\n",
            "200:\tlearn: 0.2643937\ttotal: 746ms\tremaining: 2.97s\n",
            "201:\tlearn: 0.2641955\ttotal: 750ms\tremaining: 2.96s\n",
            "202:\tlearn: 0.2636511\ttotal: 753ms\tremaining: 2.96s\n",
            "203:\tlearn: 0.2633709\ttotal: 757ms\tremaining: 2.95s\n",
            "204:\tlearn: 0.2633054\ttotal: 761ms\tremaining: 2.95s\n",
            "205:\tlearn: 0.2631239\ttotal: 764ms\tremaining: 2.94s\n",
            "206:\tlearn: 0.2630573\ttotal: 768ms\tremaining: 2.94s\n",
            "207:\tlearn: 0.2628364\ttotal: 774ms\tremaining: 2.95s\n",
            "208:\tlearn: 0.2626235\ttotal: 779ms\tremaining: 2.95s\n",
            "209:\tlearn: 0.2624706\ttotal: 783ms\tremaining: 2.94s\n",
            "210:\tlearn: 0.2621576\ttotal: 786ms\tremaining: 2.94s\n",
            "211:\tlearn: 0.2620163\ttotal: 790ms\tremaining: 2.94s\n",
            "212:\tlearn: 0.2617790\ttotal: 793ms\tremaining: 2.93s\n",
            "213:\tlearn: 0.2616460\ttotal: 797ms\tremaining: 2.93s\n",
            "214:\tlearn: 0.2613860\ttotal: 800ms\tremaining: 2.92s\n",
            "215:\tlearn: 0.2612390\ttotal: 804ms\tremaining: 2.92s\n",
            "216:\tlearn: 0.2610298\ttotal: 808ms\tremaining: 2.91s\n",
            "217:\tlearn: 0.2608481\ttotal: 812ms\tremaining: 2.91s\n",
            "218:\tlearn: 0.2606377\ttotal: 816ms\tremaining: 2.91s\n",
            "219:\tlearn: 0.2603674\ttotal: 819ms\tremaining: 2.9s\n",
            "220:\tlearn: 0.2601392\ttotal: 823ms\tremaining: 2.9s\n",
            "221:\tlearn: 0.2598520\ttotal: 826ms\tremaining: 2.89s\n",
            "222:\tlearn: 0.2596305\ttotal: 829ms\tremaining: 2.89s\n",
            "223:\tlearn: 0.2594293\ttotal: 833ms\tremaining: 2.88s\n",
            "224:\tlearn: 0.2591850\ttotal: 836ms\tremaining: 2.88s\n",
            "225:\tlearn: 0.2590646\ttotal: 840ms\tremaining: 2.88s\n",
            "226:\tlearn: 0.2589424\ttotal: 843ms\tremaining: 2.87s\n",
            "227:\tlearn: 0.2588103\ttotal: 847ms\tremaining: 2.87s\n",
            "228:\tlearn: 0.2586734\ttotal: 850ms\tremaining: 2.86s\n",
            "229:\tlearn: 0.2585757\ttotal: 854ms\tremaining: 2.86s\n",
            "230:\tlearn: 0.2585212\ttotal: 857ms\tremaining: 2.85s\n",
            "231:\tlearn: 0.2581906\ttotal: 860ms\tremaining: 2.85s\n",
            "232:\tlearn: 0.2580383\ttotal: 864ms\tremaining: 2.84s\n",
            "233:\tlearn: 0.2577816\ttotal: 867ms\tremaining: 2.84s\n",
            "234:\tlearn: 0.2574801\ttotal: 871ms\tremaining: 2.83s\n",
            "235:\tlearn: 0.2572902\ttotal: 875ms\tremaining: 2.83s\n",
            "236:\tlearn: 0.2571641\ttotal: 878ms\tremaining: 2.83s\n",
            "237:\tlearn: 0.2570921\ttotal: 882ms\tremaining: 2.82s\n",
            "238:\tlearn: 0.2567981\ttotal: 885ms\tremaining: 2.82s\n",
            "239:\tlearn: 0.2566654\ttotal: 888ms\tremaining: 2.81s\n",
            "240:\tlearn: 0.2565735\ttotal: 892ms\tremaining: 2.81s\n",
            "241:\tlearn: 0.2565108\ttotal: 895ms\tremaining: 2.8s\n",
            "242:\tlearn: 0.2563471\ttotal: 898ms\tremaining: 2.8s\n",
            "243:\tlearn: 0.2561989\ttotal: 902ms\tremaining: 2.79s\n",
            "244:\tlearn: 0.2560586\ttotal: 906ms\tremaining: 2.79s\n",
            "245:\tlearn: 0.2559076\ttotal: 909ms\tremaining: 2.79s\n",
            "246:\tlearn: 0.2557297\ttotal: 913ms\tremaining: 2.78s\n",
            "247:\tlearn: 0.2553983\ttotal: 916ms\tremaining: 2.78s\n",
            "248:\tlearn: 0.2552596\ttotal: 920ms\tremaining: 2.77s\n",
            "249:\tlearn: 0.2550512\ttotal: 923ms\tremaining: 2.77s\n",
            "250:\tlearn: 0.2548441\ttotal: 927ms\tremaining: 2.77s\n",
            "251:\tlearn: 0.2547368\ttotal: 930ms\tremaining: 2.76s\n",
            "252:\tlearn: 0.2545359\ttotal: 934ms\tremaining: 2.76s\n",
            "253:\tlearn: 0.2544191\ttotal: 937ms\tremaining: 2.75s\n",
            "254:\tlearn: 0.2543560\ttotal: 941ms\tremaining: 2.75s\n",
            "255:\tlearn: 0.2542481\ttotal: 944ms\tremaining: 2.74s\n",
            "256:\tlearn: 0.2541773\ttotal: 948ms\tremaining: 2.74s\n",
            "257:\tlearn: 0.2537516\ttotal: 952ms\tremaining: 2.74s\n",
            "258:\tlearn: 0.2535876\ttotal: 955ms\tremaining: 2.73s\n",
            "259:\tlearn: 0.2535007\ttotal: 958ms\tremaining: 2.73s\n",
            "260:\tlearn: 0.2534031\ttotal: 962ms\tremaining: 2.72s\n",
            "261:\tlearn: 0.2533514\ttotal: 967ms\tremaining: 2.72s\n",
            "262:\tlearn: 0.2530588\ttotal: 975ms\tremaining: 2.73s\n",
            "263:\tlearn: 0.2528685\ttotal: 979ms\tremaining: 2.73s\n",
            "264:\tlearn: 0.2526740\ttotal: 982ms\tremaining: 2.73s\n",
            "265:\tlearn: 0.2525604\ttotal: 986ms\tremaining: 2.72s\n",
            "266:\tlearn: 0.2525018\ttotal: 990ms\tremaining: 2.72s\n",
            "267:\tlearn: 0.2522839\ttotal: 993ms\tremaining: 2.71s\n",
            "268:\tlearn: 0.2522179\ttotal: 996ms\tremaining: 2.71s\n",
            "269:\tlearn: 0.2520581\ttotal: 1s\tremaining: 2.7s\n",
            "270:\tlearn: 0.2519852\ttotal: 1s\tremaining: 2.7s\n",
            "271:\tlearn: 0.2519057\ttotal: 1.01s\tremaining: 2.69s\n",
            "272:\tlearn: 0.2517830\ttotal: 1.01s\tremaining: 2.69s\n",
            "273:\tlearn: 0.2516519\ttotal: 1.01s\tremaining: 2.69s\n",
            "274:\tlearn: 0.2515994\ttotal: 1.02s\tremaining: 2.68s\n",
            "275:\tlearn: 0.2513024\ttotal: 1.02s\tremaining: 2.68s\n",
            "276:\tlearn: 0.2511216\ttotal: 1.02s\tremaining: 2.67s\n",
            "277:\tlearn: 0.2510690\ttotal: 1.03s\tremaining: 2.67s\n",
            "278:\tlearn: 0.2509934\ttotal: 1.03s\tremaining: 2.67s\n",
            "279:\tlearn: 0.2509257\ttotal: 1.03s\tremaining: 2.66s\n",
            "280:\tlearn: 0.2507731\ttotal: 1.04s\tremaining: 2.66s\n",
            "281:\tlearn: 0.2503900\ttotal: 1.04s\tremaining: 2.65s\n",
            "282:\tlearn: 0.2502941\ttotal: 1.05s\tremaining: 2.66s\n",
            "283:\tlearn: 0.2501236\ttotal: 1.05s\tremaining: 2.65s\n",
            "284:\tlearn: 0.2500217\ttotal: 1.05s\tremaining: 2.65s\n",
            "285:\tlearn: 0.2498385\ttotal: 1.06s\tremaining: 2.66s\n",
            "286:\tlearn: 0.2497651\ttotal: 1.07s\tremaining: 2.67s\n",
            "287:\tlearn: 0.2497299\ttotal: 1.08s\tremaining: 2.66s\n",
            "288:\tlearn: 0.2496827\ttotal: 1.08s\tremaining: 2.66s\n",
            "289:\tlearn: 0.2495860\ttotal: 1.08s\tremaining: 2.65s\n",
            "290:\tlearn: 0.2494151\ttotal: 1.09s\tremaining: 2.65s\n",
            "291:\tlearn: 0.2492380\ttotal: 1.09s\tremaining: 2.64s\n",
            "292:\tlearn: 0.2490550\ttotal: 1.09s\tremaining: 2.64s\n",
            "293:\tlearn: 0.2489594\ttotal: 1.1s\tremaining: 2.63s\n",
            "294:\tlearn: 0.2488104\ttotal: 1.1s\tremaining: 2.63s\n",
            "295:\tlearn: 0.2487040\ttotal: 1.1s\tremaining: 2.63s\n",
            "296:\tlearn: 0.2486554\ttotal: 1.11s\tremaining: 2.62s\n",
            "297:\tlearn: 0.2485830\ttotal: 1.11s\tremaining: 2.62s\n",
            "298:\tlearn: 0.2484758\ttotal: 1.11s\tremaining: 2.61s\n",
            "299:\tlearn: 0.2482940\ttotal: 1.12s\tremaining: 2.61s\n",
            "300:\tlearn: 0.2481866\ttotal: 1.12s\tremaining: 2.6s\n",
            "301:\tlearn: 0.2480268\ttotal: 1.13s\tremaining: 2.6s\n",
            "302:\tlearn: 0.2479400\ttotal: 1.13s\tremaining: 2.6s\n",
            "303:\tlearn: 0.2477806\ttotal: 1.13s\tremaining: 2.59s\n",
            "304:\tlearn: 0.2474349\ttotal: 1.14s\tremaining: 2.59s\n",
            "305:\tlearn: 0.2473758\ttotal: 1.14s\tremaining: 2.58s\n",
            "306:\tlearn: 0.2473289\ttotal: 1.14s\tremaining: 2.58s\n",
            "307:\tlearn: 0.2472973\ttotal: 1.15s\tremaining: 2.58s\n",
            "308:\tlearn: 0.2472051\ttotal: 1.15s\tremaining: 2.57s\n",
            "309:\tlearn: 0.2471466\ttotal: 1.15s\tremaining: 2.57s\n",
            "310:\tlearn: 0.2469568\ttotal: 1.16s\tremaining: 2.56s\n",
            "311:\tlearn: 0.2468168\ttotal: 1.16s\tremaining: 2.56s\n",
            "312:\tlearn: 0.2466755\ttotal: 1.17s\tremaining: 2.56s\n",
            "313:\tlearn: 0.2466359\ttotal: 1.17s\tremaining: 2.56s\n",
            "314:\tlearn: 0.2465760\ttotal: 1.17s\tremaining: 2.55s\n",
            "315:\tlearn: 0.2464284\ttotal: 1.18s\tremaining: 2.55s\n",
            "316:\tlearn: 0.2463955\ttotal: 1.18s\tremaining: 2.54s\n",
            "317:\tlearn: 0.2462594\ttotal: 1.18s\tremaining: 2.54s\n",
            "318:\tlearn: 0.2462199\ttotal: 1.19s\tremaining: 2.54s\n",
            "319:\tlearn: 0.2461768\ttotal: 1.19s\tremaining: 2.53s\n",
            "320:\tlearn: 0.2460659\ttotal: 1.2s\tremaining: 2.53s\n",
            "321:\tlearn: 0.2459292\ttotal: 1.2s\tremaining: 2.52s\n",
            "322:\tlearn: 0.2456921\ttotal: 1.2s\tremaining: 2.52s\n",
            "323:\tlearn: 0.2454706\ttotal: 1.21s\tremaining: 2.52s\n",
            "324:\tlearn: 0.2454349\ttotal: 1.21s\tremaining: 2.51s\n",
            "325:\tlearn: 0.2453155\ttotal: 1.21s\tremaining: 2.51s\n",
            "326:\tlearn: 0.2451268\ttotal: 1.22s\tremaining: 2.5s\n",
            "327:\tlearn: 0.2450222\ttotal: 1.22s\tremaining: 2.5s\n",
            "328:\tlearn: 0.2449069\ttotal: 1.22s\tremaining: 2.5s\n",
            "329:\tlearn: 0.2448184\ttotal: 1.23s\tremaining: 2.49s\n",
            "330:\tlearn: 0.2447455\ttotal: 1.23s\tremaining: 2.49s\n",
            "331:\tlearn: 0.2446506\ttotal: 1.23s\tremaining: 2.48s\n",
            "332:\tlearn: 0.2445777\ttotal: 1.24s\tremaining: 2.48s\n",
            "333:\tlearn: 0.2444494\ttotal: 1.24s\tremaining: 2.48s\n",
            "334:\tlearn: 0.2441733\ttotal: 1.25s\tremaining: 2.47s\n",
            "335:\tlearn: 0.2440239\ttotal: 1.25s\tremaining: 2.47s\n",
            "336:\tlearn: 0.2437736\ttotal: 1.25s\tremaining: 2.46s\n",
            "337:\tlearn: 0.2435211\ttotal: 1.26s\tremaining: 2.46s\n",
            "338:\tlearn: 0.2434284\ttotal: 1.26s\tremaining: 2.46s\n",
            "339:\tlearn: 0.2433471\ttotal: 1.26s\tremaining: 2.45s\n",
            "340:\tlearn: 0.2432262\ttotal: 1.27s\tremaining: 2.45s\n",
            "341:\tlearn: 0.2430345\ttotal: 1.27s\tremaining: 2.44s\n",
            "342:\tlearn: 0.2429465\ttotal: 1.27s\tremaining: 2.44s\n",
            "343:\tlearn: 0.2427065\ttotal: 1.28s\tremaining: 2.44s\n",
            "344:\tlearn: 0.2426522\ttotal: 1.28s\tremaining: 2.43s\n",
            "345:\tlearn: 0.2422963\ttotal: 1.28s\tremaining: 2.43s\n",
            "346:\tlearn: 0.2421466\ttotal: 1.29s\tremaining: 2.42s\n",
            "347:\tlearn: 0.2420891\ttotal: 1.29s\tremaining: 2.42s\n",
            "348:\tlearn: 0.2420496\ttotal: 1.29s\tremaining: 2.42s\n",
            "349:\tlearn: 0.2420150\ttotal: 1.3s\tremaining: 2.41s\n",
            "350:\tlearn: 0.2419098\ttotal: 1.3s\tremaining: 2.41s\n",
            "351:\tlearn: 0.2418488\ttotal: 1.31s\tremaining: 2.4s\n",
            "352:\tlearn: 0.2417818\ttotal: 1.31s\tremaining: 2.4s\n",
            "353:\tlearn: 0.2416857\ttotal: 1.31s\tremaining: 2.4s\n",
            "354:\tlearn: 0.2415833\ttotal: 1.32s\tremaining: 2.39s\n",
            "355:\tlearn: 0.2415075\ttotal: 1.32s\tremaining: 2.39s\n",
            "356:\tlearn: 0.2414769\ttotal: 1.32s\tremaining: 2.38s\n",
            "357:\tlearn: 0.2413685\ttotal: 1.33s\tremaining: 2.38s\n",
            "358:\tlearn: 0.2413013\ttotal: 1.33s\tremaining: 2.37s\n",
            "359:\tlearn: 0.2411497\ttotal: 1.33s\tremaining: 2.37s\n",
            "360:\tlearn: 0.2411283\ttotal: 1.34s\tremaining: 2.37s\n",
            "361:\tlearn: 0.2410366\ttotal: 1.34s\tremaining: 2.36s\n",
            "362:\tlearn: 0.2409835\ttotal: 1.34s\tremaining: 2.36s\n",
            "363:\tlearn: 0.2408748\ttotal: 1.35s\tremaining: 2.35s\n",
            "364:\tlearn: 0.2407762\ttotal: 1.35s\tremaining: 2.36s\n",
            "365:\tlearn: 0.2407360\ttotal: 1.36s\tremaining: 2.35s\n",
            "366:\tlearn: 0.2406911\ttotal: 1.36s\tremaining: 2.35s\n",
            "367:\tlearn: 0.2405766\ttotal: 1.37s\tremaining: 2.35s\n",
            "368:\tlearn: 0.2405420\ttotal: 1.37s\tremaining: 2.34s\n",
            "369:\tlearn: 0.2405011\ttotal: 1.37s\tremaining: 2.34s\n",
            "370:\tlearn: 0.2404095\ttotal: 1.38s\tremaining: 2.33s\n",
            "371:\tlearn: 0.2403429\ttotal: 1.38s\tremaining: 2.33s\n",
            "372:\tlearn: 0.2402394\ttotal: 1.38s\tremaining: 2.33s\n",
            "373:\tlearn: 0.2401034\ttotal: 1.39s\tremaining: 2.32s\n",
            "374:\tlearn: 0.2400172\ttotal: 1.39s\tremaining: 2.32s\n",
            "375:\tlearn: 0.2399913\ttotal: 1.39s\tremaining: 2.31s\n",
            "376:\tlearn: 0.2397590\ttotal: 1.4s\tremaining: 2.31s\n",
            "377:\tlearn: 0.2396387\ttotal: 1.4s\tremaining: 2.31s\n",
            "378:\tlearn: 0.2395996\ttotal: 1.41s\tremaining: 2.3s\n",
            "379:\tlearn: 0.2395220\ttotal: 1.41s\tremaining: 2.3s\n",
            "380:\tlearn: 0.2394455\ttotal: 1.41s\tremaining: 2.29s\n",
            "381:\tlearn: 0.2393803\ttotal: 1.42s\tremaining: 2.29s\n",
            "382:\tlearn: 0.2390877\ttotal: 1.42s\tremaining: 2.29s\n",
            "383:\tlearn: 0.2389893\ttotal: 1.42s\tremaining: 2.28s\n",
            "384:\tlearn: 0.2388918\ttotal: 1.43s\tremaining: 2.28s\n",
            "385:\tlearn: 0.2386067\ttotal: 1.43s\tremaining: 2.27s\n",
            "386:\tlearn: 0.2385102\ttotal: 1.43s\tremaining: 2.27s\n",
            "387:\tlearn: 0.2384358\ttotal: 1.44s\tremaining: 2.27s\n",
            "388:\tlearn: 0.2383989\ttotal: 1.44s\tremaining: 2.26s\n",
            "389:\tlearn: 0.2382318\ttotal: 1.44s\tremaining: 2.26s\n",
            "390:\tlearn: 0.2382000\ttotal: 1.45s\tremaining: 2.25s\n",
            "391:\tlearn: 0.2381298\ttotal: 1.45s\tremaining: 2.25s\n",
            "392:\tlearn: 0.2380262\ttotal: 1.45s\tremaining: 2.25s\n",
            "393:\tlearn: 0.2379274\ttotal: 1.46s\tremaining: 2.24s\n",
            "394:\tlearn: 0.2378039\ttotal: 1.46s\tremaining: 2.24s\n",
            "395:\tlearn: 0.2377512\ttotal: 1.46s\tremaining: 2.23s\n",
            "396:\tlearn: 0.2375600\ttotal: 1.47s\tremaining: 2.23s\n",
            "397:\tlearn: 0.2373215\ttotal: 1.47s\tremaining: 2.23s\n",
            "398:\tlearn: 0.2371317\ttotal: 1.48s\tremaining: 2.22s\n",
            "399:\tlearn: 0.2368054\ttotal: 1.48s\tremaining: 2.22s\n",
            "400:\tlearn: 0.2366374\ttotal: 1.48s\tremaining: 2.21s\n",
            "401:\tlearn: 0.2365638\ttotal: 1.49s\tremaining: 2.21s\n",
            "402:\tlearn: 0.2363550\ttotal: 1.49s\tremaining: 2.21s\n",
            "403:\tlearn: 0.2362548\ttotal: 1.49s\tremaining: 2.2s\n",
            "404:\tlearn: 0.2361909\ttotal: 1.5s\tremaining: 2.2s\n",
            "405:\tlearn: 0.2361587\ttotal: 1.5s\tremaining: 2.19s\n",
            "406:\tlearn: 0.2360869\ttotal: 1.5s\tremaining: 2.19s\n",
            "407:\tlearn: 0.2359728\ttotal: 1.51s\tremaining: 2.19s\n",
            "408:\tlearn: 0.2358621\ttotal: 1.51s\tremaining: 2.18s\n",
            "409:\tlearn: 0.2356987\ttotal: 1.51s\tremaining: 2.18s\n",
            "410:\tlearn: 0.2356632\ttotal: 1.52s\tremaining: 2.17s\n",
            "411:\tlearn: 0.2355986\ttotal: 1.52s\tremaining: 2.17s\n",
            "412:\tlearn: 0.2355236\ttotal: 1.52s\tremaining: 2.17s\n",
            "413:\tlearn: 0.2354311\ttotal: 1.53s\tremaining: 2.16s\n",
            "414:\tlearn: 0.2353550\ttotal: 1.53s\tremaining: 2.16s\n",
            "415:\tlearn: 0.2351495\ttotal: 1.54s\tremaining: 2.16s\n",
            "416:\tlearn: 0.2351132\ttotal: 1.54s\tremaining: 2.15s\n",
            "417:\tlearn: 0.2349488\ttotal: 1.54s\tremaining: 2.15s\n",
            "418:\tlearn: 0.2348183\ttotal: 1.55s\tremaining: 2.15s\n",
            "419:\tlearn: 0.2347934\ttotal: 1.56s\tremaining: 2.15s\n",
            "420:\tlearn: 0.2347088\ttotal: 1.56s\tremaining: 2.15s\n",
            "421:\tlearn: 0.2345639\ttotal: 1.56s\tremaining: 2.14s\n",
            "422:\tlearn: 0.2345461\ttotal: 1.57s\tremaining: 2.14s\n",
            "423:\tlearn: 0.2344908\ttotal: 1.57s\tremaining: 2.13s\n",
            "424:\tlearn: 0.2343903\ttotal: 1.57s\tremaining: 2.13s\n",
            "425:\tlearn: 0.2342949\ttotal: 1.58s\tremaining: 2.12s\n",
            "426:\tlearn: 0.2342116\ttotal: 1.58s\tremaining: 2.12s\n",
            "427:\tlearn: 0.2341503\ttotal: 1.58s\tremaining: 2.12s\n",
            "428:\tlearn: 0.2340693\ttotal: 1.59s\tremaining: 2.11s\n",
            "429:\tlearn: 0.2340521\ttotal: 1.59s\tremaining: 2.11s\n",
            "430:\tlearn: 0.2340086\ttotal: 1.59s\tremaining: 2.11s\n",
            "431:\tlearn: 0.2339669\ttotal: 1.6s\tremaining: 2.1s\n",
            "432:\tlearn: 0.2338252\ttotal: 1.6s\tremaining: 2.1s\n",
            "433:\tlearn: 0.2337973\ttotal: 1.61s\tremaining: 2.09s\n",
            "434:\tlearn: 0.2337340\ttotal: 1.61s\tremaining: 2.09s\n",
            "435:\tlearn: 0.2336257\ttotal: 1.61s\tremaining: 2.09s\n",
            "436:\tlearn: 0.2333761\ttotal: 1.62s\tremaining: 2.08s\n",
            "437:\tlearn: 0.2331362\ttotal: 1.62s\tremaining: 2.08s\n",
            "438:\tlearn: 0.2330173\ttotal: 1.62s\tremaining: 2.07s\n",
            "439:\tlearn: 0.2329214\ttotal: 1.63s\tremaining: 2.07s\n",
            "440:\tlearn: 0.2328341\ttotal: 1.63s\tremaining: 2.07s\n",
            "441:\tlearn: 0.2327885\ttotal: 1.63s\tremaining: 2.06s\n",
            "442:\tlearn: 0.2327010\ttotal: 1.64s\tremaining: 2.06s\n",
            "443:\tlearn: 0.2326044\ttotal: 1.64s\tremaining: 2.05s\n",
            "444:\tlearn: 0.2325681\ttotal: 1.64s\tremaining: 2.05s\n",
            "445:\tlearn: 0.2325047\ttotal: 1.65s\tremaining: 2.05s\n",
            "446:\tlearn: 0.2324444\ttotal: 1.65s\tremaining: 2.04s\n",
            "447:\tlearn: 0.2323852\ttotal: 1.65s\tremaining: 2.04s\n",
            "448:\tlearn: 0.2323076\ttotal: 1.66s\tremaining: 2.03s\n",
            "449:\tlearn: 0.2322598\ttotal: 1.66s\tremaining: 2.03s\n",
            "450:\tlearn: 0.2321577\ttotal: 1.66s\tremaining: 2.03s\n",
            "451:\tlearn: 0.2321259\ttotal: 1.67s\tremaining: 2.02s\n",
            "452:\tlearn: 0.2319901\ttotal: 1.67s\tremaining: 2.02s\n",
            "453:\tlearn: 0.2319505\ttotal: 1.68s\tremaining: 2.02s\n",
            "454:\tlearn: 0.2317796\ttotal: 1.68s\tremaining: 2.01s\n",
            "455:\tlearn: 0.2316973\ttotal: 1.68s\tremaining: 2.01s\n",
            "456:\tlearn: 0.2316369\ttotal: 1.69s\tremaining: 2s\n",
            "457:\tlearn: 0.2314608\ttotal: 1.69s\tremaining: 2s\n",
            "458:\tlearn: 0.2313653\ttotal: 1.69s\tremaining: 2s\n",
            "459:\tlearn: 0.2313482\ttotal: 1.7s\tremaining: 1.99s\n",
            "460:\tlearn: 0.2312244\ttotal: 1.7s\tremaining: 1.99s\n",
            "461:\tlearn: 0.2311148\ttotal: 1.7s\tremaining: 1.98s\n",
            "462:\tlearn: 0.2310156\ttotal: 1.71s\tremaining: 1.98s\n",
            "463:\tlearn: 0.2309593\ttotal: 1.71s\tremaining: 1.98s\n",
            "464:\tlearn: 0.2308520\ttotal: 1.71s\tremaining: 1.97s\n",
            "465:\tlearn: 0.2307788\ttotal: 1.72s\tremaining: 1.97s\n",
            "466:\tlearn: 0.2306765\ttotal: 1.72s\tremaining: 1.96s\n",
            "467:\tlearn: 0.2306416\ttotal: 1.72s\tremaining: 1.96s\n",
            "468:\tlearn: 0.2304939\ttotal: 1.73s\tremaining: 1.96s\n",
            "469:\tlearn: 0.2304002\ttotal: 1.73s\tremaining: 1.95s\n",
            "470:\tlearn: 0.2302638\ttotal: 1.73s\tremaining: 1.95s\n",
            "471:\tlearn: 0.2301922\ttotal: 1.74s\tremaining: 1.95s\n",
            "472:\tlearn: 0.2300842\ttotal: 1.75s\tremaining: 1.94s\n",
            "473:\tlearn: 0.2300305\ttotal: 1.75s\tremaining: 1.94s\n",
            "474:\tlearn: 0.2299670\ttotal: 1.75s\tremaining: 1.94s\n",
            "475:\tlearn: 0.2298654\ttotal: 1.76s\tremaining: 1.94s\n",
            "476:\tlearn: 0.2297880\ttotal: 1.76s\tremaining: 1.93s\n",
            "477:\tlearn: 0.2296105\ttotal: 1.77s\tremaining: 1.93s\n",
            "478:\tlearn: 0.2294239\ttotal: 1.77s\tremaining: 1.92s\n",
            "479:\tlearn: 0.2293569\ttotal: 1.77s\tremaining: 1.92s\n",
            "480:\tlearn: 0.2291992\ttotal: 1.78s\tremaining: 1.92s\n",
            "481:\tlearn: 0.2291238\ttotal: 1.78s\tremaining: 1.91s\n",
            "482:\tlearn: 0.2290538\ttotal: 1.78s\tremaining: 1.91s\n",
            "483:\tlearn: 0.2290132\ttotal: 1.79s\tremaining: 1.91s\n",
            "484:\tlearn: 0.2289400\ttotal: 1.79s\tremaining: 1.9s\n",
            "485:\tlearn: 0.2288303\ttotal: 1.79s\tremaining: 1.9s\n",
            "486:\tlearn: 0.2287271\ttotal: 1.8s\tremaining: 1.89s\n",
            "487:\tlearn: 0.2287115\ttotal: 1.8s\tremaining: 1.89s\n",
            "488:\tlearn: 0.2285020\ttotal: 1.8s\tremaining: 1.89s\n",
            "489:\tlearn: 0.2284137\ttotal: 1.81s\tremaining: 1.88s\n",
            "490:\tlearn: 0.2283912\ttotal: 1.81s\tremaining: 1.88s\n",
            "491:\tlearn: 0.2282433\ttotal: 1.81s\tremaining: 1.87s\n",
            "492:\tlearn: 0.2281458\ttotal: 1.82s\tremaining: 1.87s\n",
            "493:\tlearn: 0.2280561\ttotal: 1.82s\tremaining: 1.87s\n",
            "494:\tlearn: 0.2280185\ttotal: 1.82s\tremaining: 1.86s\n",
            "495:\tlearn: 0.2279250\ttotal: 1.83s\tremaining: 1.86s\n",
            "496:\tlearn: 0.2278934\ttotal: 1.83s\tremaining: 1.85s\n",
            "497:\tlearn: 0.2276659\ttotal: 1.83s\tremaining: 1.85s\n",
            "498:\tlearn: 0.2275619\ttotal: 1.84s\tremaining: 1.85s\n",
            "499:\tlearn: 0.2275058\ttotal: 1.84s\tremaining: 1.84s\n",
            "500:\tlearn: 0.2273590\ttotal: 1.85s\tremaining: 1.84s\n",
            "501:\tlearn: 0.2272572\ttotal: 1.85s\tremaining: 1.84s\n",
            "502:\tlearn: 0.2272241\ttotal: 1.85s\tremaining: 1.83s\n",
            "503:\tlearn: 0.2271871\ttotal: 1.86s\tremaining: 1.83s\n",
            "504:\tlearn: 0.2271707\ttotal: 1.86s\tremaining: 1.82s\n",
            "505:\tlearn: 0.2270890\ttotal: 1.86s\tremaining: 1.82s\n",
            "506:\tlearn: 0.2269844\ttotal: 1.87s\tremaining: 1.82s\n",
            "507:\tlearn: 0.2267913\ttotal: 1.87s\tremaining: 1.81s\n",
            "508:\tlearn: 0.2267061\ttotal: 1.88s\tremaining: 1.81s\n",
            "509:\tlearn: 0.2265751\ttotal: 1.88s\tremaining: 1.8s\n",
            "510:\tlearn: 0.2265042\ttotal: 1.88s\tremaining: 1.8s\n",
            "511:\tlearn: 0.2264104\ttotal: 1.89s\tremaining: 1.8s\n",
            "512:\tlearn: 0.2263958\ttotal: 1.89s\tremaining: 1.79s\n",
            "513:\tlearn: 0.2262947\ttotal: 1.89s\tremaining: 1.79s\n",
            "514:\tlearn: 0.2261960\ttotal: 1.9s\tremaining: 1.79s\n",
            "515:\tlearn: 0.2260811\ttotal: 1.9s\tremaining: 1.78s\n",
            "516:\tlearn: 0.2260280\ttotal: 1.9s\tremaining: 1.78s\n",
            "517:\tlearn: 0.2259719\ttotal: 1.91s\tremaining: 1.77s\n",
            "518:\tlearn: 0.2259096\ttotal: 1.91s\tremaining: 1.77s\n",
            "519:\tlearn: 0.2257905\ttotal: 1.91s\tremaining: 1.77s\n",
            "520:\tlearn: 0.2257424\ttotal: 1.92s\tremaining: 1.76s\n",
            "521:\tlearn: 0.2256904\ttotal: 1.92s\tremaining: 1.76s\n",
            "522:\tlearn: 0.2256048\ttotal: 1.92s\tremaining: 1.75s\n",
            "523:\tlearn: 0.2254910\ttotal: 1.93s\tremaining: 1.75s\n",
            "524:\tlearn: 0.2253478\ttotal: 1.93s\tremaining: 1.75s\n",
            "525:\tlearn: 0.2252823\ttotal: 1.94s\tremaining: 1.74s\n",
            "526:\tlearn: 0.2252415\ttotal: 1.94s\tremaining: 1.74s\n",
            "527:\tlearn: 0.2251876\ttotal: 1.95s\tremaining: 1.74s\n",
            "528:\tlearn: 0.2250872\ttotal: 1.95s\tremaining: 1.74s\n",
            "529:\tlearn: 0.2250278\ttotal: 1.95s\tremaining: 1.73s\n",
            "530:\tlearn: 0.2249049\ttotal: 1.96s\tremaining: 1.73s\n",
            "531:\tlearn: 0.2248513\ttotal: 1.96s\tremaining: 1.73s\n",
            "532:\tlearn: 0.2247612\ttotal: 1.97s\tremaining: 1.72s\n",
            "533:\tlearn: 0.2246772\ttotal: 1.97s\tremaining: 1.72s\n",
            "534:\tlearn: 0.2246048\ttotal: 1.97s\tremaining: 1.71s\n",
            "535:\tlearn: 0.2245104\ttotal: 1.98s\tremaining: 1.71s\n",
            "536:\tlearn: 0.2244526\ttotal: 1.98s\tremaining: 1.71s\n",
            "537:\tlearn: 0.2244136\ttotal: 1.98s\tremaining: 1.7s\n",
            "538:\tlearn: 0.2243419\ttotal: 1.99s\tremaining: 1.7s\n",
            "539:\tlearn: 0.2242633\ttotal: 1.99s\tremaining: 1.7s\n",
            "540:\tlearn: 0.2241076\ttotal: 2s\tremaining: 1.69s\n",
            "541:\tlearn: 0.2240443\ttotal: 2s\tremaining: 1.69s\n",
            "542:\tlearn: 0.2239463\ttotal: 2s\tremaining: 1.69s\n",
            "543:\tlearn: 0.2238599\ttotal: 2.01s\tremaining: 1.68s\n",
            "544:\tlearn: 0.2237075\ttotal: 2.01s\tremaining: 1.68s\n",
            "545:\tlearn: 0.2236366\ttotal: 2.02s\tremaining: 1.68s\n",
            "546:\tlearn: 0.2235787\ttotal: 2.02s\tremaining: 1.68s\n",
            "547:\tlearn: 0.2234892\ttotal: 2.03s\tremaining: 1.68s\n",
            "548:\tlearn: 0.2234218\ttotal: 2.04s\tremaining: 1.67s\n",
            "549:\tlearn: 0.2233820\ttotal: 2.04s\tremaining: 1.67s\n",
            "550:\tlearn: 0.2232905\ttotal: 2.04s\tremaining: 1.67s\n",
            "551:\tlearn: 0.2231663\ttotal: 2.05s\tremaining: 1.66s\n",
            "552:\tlearn: 0.2230394\ttotal: 2.05s\tremaining: 1.66s\n",
            "553:\tlearn: 0.2229301\ttotal: 2.05s\tremaining: 1.65s\n",
            "554:\tlearn: 0.2227092\ttotal: 2.06s\tremaining: 1.65s\n",
            "555:\tlearn: 0.2226488\ttotal: 2.06s\tremaining: 1.65s\n",
            "556:\tlearn: 0.2225762\ttotal: 2.06s\tremaining: 1.64s\n",
            "557:\tlearn: 0.2224772\ttotal: 2.07s\tremaining: 1.64s\n",
            "558:\tlearn: 0.2224089\ttotal: 2.07s\tremaining: 1.63s\n",
            "559:\tlearn: 0.2223368\ttotal: 2.08s\tremaining: 1.63s\n",
            "560:\tlearn: 0.2223112\ttotal: 2.08s\tremaining: 1.63s\n",
            "561:\tlearn: 0.2222314\ttotal: 2.08s\tremaining: 1.62s\n",
            "562:\tlearn: 0.2221480\ttotal: 2.09s\tremaining: 1.62s\n",
            "563:\tlearn: 0.2220925\ttotal: 2.09s\tremaining: 1.61s\n",
            "564:\tlearn: 0.2219104\ttotal: 2.09s\tremaining: 1.61s\n",
            "565:\tlearn: 0.2218131\ttotal: 2.1s\tremaining: 1.61s\n",
            "566:\tlearn: 0.2217475\ttotal: 2.1s\tremaining: 1.6s\n",
            "567:\tlearn: 0.2217059\ttotal: 2.1s\tremaining: 1.6s\n",
            "568:\tlearn: 0.2216750\ttotal: 2.11s\tremaining: 1.6s\n",
            "569:\tlearn: 0.2216540\ttotal: 2.11s\tremaining: 1.59s\n",
            "570:\tlearn: 0.2216038\ttotal: 2.12s\tremaining: 1.59s\n",
            "571:\tlearn: 0.2215320\ttotal: 2.12s\tremaining: 1.58s\n",
            "572:\tlearn: 0.2214660\ttotal: 2.12s\tremaining: 1.58s\n",
            "573:\tlearn: 0.2213483\ttotal: 2.13s\tremaining: 1.58s\n",
            "574:\tlearn: 0.2212842\ttotal: 2.13s\tremaining: 1.57s\n",
            "575:\tlearn: 0.2211918\ttotal: 2.13s\tremaining: 1.57s\n",
            "576:\tlearn: 0.2211693\ttotal: 2.14s\tremaining: 1.57s\n",
            "577:\tlearn: 0.2210221\ttotal: 2.14s\tremaining: 1.56s\n",
            "578:\tlearn: 0.2209666\ttotal: 2.15s\tremaining: 1.56s\n",
            "579:\tlearn: 0.2209475\ttotal: 2.15s\tremaining: 1.56s\n",
            "580:\tlearn: 0.2208502\ttotal: 2.15s\tremaining: 1.55s\n",
            "581:\tlearn: 0.2208241\ttotal: 2.16s\tremaining: 1.55s\n",
            "582:\tlearn: 0.2207899\ttotal: 2.16s\tremaining: 1.55s\n",
            "583:\tlearn: 0.2207621\ttotal: 2.17s\tremaining: 1.54s\n",
            "584:\tlearn: 0.2207106\ttotal: 2.17s\tremaining: 1.54s\n",
            "585:\tlearn: 0.2206825\ttotal: 2.17s\tremaining: 1.53s\n",
            "586:\tlearn: 0.2206124\ttotal: 2.18s\tremaining: 1.53s\n",
            "587:\tlearn: 0.2205784\ttotal: 2.18s\tremaining: 1.53s\n",
            "588:\tlearn: 0.2205086\ttotal: 2.18s\tremaining: 1.52s\n",
            "589:\tlearn: 0.2204452\ttotal: 2.19s\tremaining: 1.52s\n",
            "590:\tlearn: 0.2202453\ttotal: 2.19s\tremaining: 1.52s\n",
            "591:\tlearn: 0.2202271\ttotal: 2.2s\tremaining: 1.51s\n",
            "592:\tlearn: 0.2201436\ttotal: 2.2s\tremaining: 1.51s\n",
            "593:\tlearn: 0.2199897\ttotal: 2.21s\tremaining: 1.51s\n",
            "594:\tlearn: 0.2199157\ttotal: 2.21s\tremaining: 1.5s\n",
            "595:\tlearn: 0.2198327\ttotal: 2.21s\tremaining: 1.5s\n",
            "596:\tlearn: 0.2198198\ttotal: 2.22s\tremaining: 1.5s\n",
            "597:\tlearn: 0.2197501\ttotal: 2.22s\tremaining: 1.49s\n",
            "598:\tlearn: 0.2196149\ttotal: 2.22s\tremaining: 1.49s\n",
            "599:\tlearn: 0.2194898\ttotal: 2.23s\tremaining: 1.49s\n",
            "600:\tlearn: 0.2194552\ttotal: 2.23s\tremaining: 1.48s\n",
            "601:\tlearn: 0.2193708\ttotal: 2.23s\tremaining: 1.48s\n",
            "602:\tlearn: 0.2192762\ttotal: 2.24s\tremaining: 1.47s\n",
            "603:\tlearn: 0.2192221\ttotal: 2.24s\tremaining: 1.47s\n",
            "604:\tlearn: 0.2191515\ttotal: 2.25s\tremaining: 1.47s\n",
            "605:\tlearn: 0.2190978\ttotal: 2.25s\tremaining: 1.46s\n",
            "606:\tlearn: 0.2190638\ttotal: 2.25s\tremaining: 1.46s\n",
            "607:\tlearn: 0.2189938\ttotal: 2.26s\tremaining: 1.45s\n",
            "608:\tlearn: 0.2189065\ttotal: 2.26s\tremaining: 1.45s\n",
            "609:\tlearn: 0.2188350\ttotal: 2.26s\tremaining: 1.45s\n",
            "610:\tlearn: 0.2187495\ttotal: 2.27s\tremaining: 1.44s\n",
            "611:\tlearn: 0.2186149\ttotal: 2.27s\tremaining: 1.44s\n",
            "612:\tlearn: 0.2185377\ttotal: 2.27s\tremaining: 1.44s\n",
            "613:\tlearn: 0.2184612\ttotal: 2.28s\tremaining: 1.43s\n",
            "614:\tlearn: 0.2183734\ttotal: 2.28s\tremaining: 1.43s\n",
            "615:\tlearn: 0.2182880\ttotal: 2.29s\tremaining: 1.42s\n",
            "616:\tlearn: 0.2182241\ttotal: 2.29s\tremaining: 1.42s\n",
            "617:\tlearn: 0.2181593\ttotal: 2.29s\tremaining: 1.42s\n",
            "618:\tlearn: 0.2181002\ttotal: 2.3s\tremaining: 1.41s\n",
            "619:\tlearn: 0.2179825\ttotal: 2.3s\tremaining: 1.41s\n",
            "620:\tlearn: 0.2179181\ttotal: 2.3s\tremaining: 1.41s\n",
            "621:\tlearn: 0.2177775\ttotal: 2.31s\tremaining: 1.4s\n",
            "622:\tlearn: 0.2175871\ttotal: 2.31s\tremaining: 1.4s\n",
            "623:\tlearn: 0.2174460\ttotal: 2.31s\tremaining: 1.39s\n",
            "624:\tlearn: 0.2174182\ttotal: 2.32s\tremaining: 1.39s\n",
            "625:\tlearn: 0.2173426\ttotal: 2.32s\tremaining: 1.39s\n",
            "626:\tlearn: 0.2173228\ttotal: 2.33s\tremaining: 1.38s\n",
            "627:\tlearn: 0.2173000\ttotal: 2.33s\tremaining: 1.38s\n",
            "628:\tlearn: 0.2169159\ttotal: 2.34s\tremaining: 1.38s\n",
            "629:\tlearn: 0.2168119\ttotal: 2.34s\tremaining: 1.38s\n",
            "630:\tlearn: 0.2167729\ttotal: 2.35s\tremaining: 1.37s\n",
            "631:\tlearn: 0.2165994\ttotal: 2.35s\tremaining: 1.37s\n",
            "632:\tlearn: 0.2165301\ttotal: 2.35s\tremaining: 1.36s\n",
            "633:\tlearn: 0.2164797\ttotal: 2.36s\tremaining: 1.36s\n",
            "634:\tlearn: 0.2164414\ttotal: 2.36s\tremaining: 1.36s\n",
            "635:\tlearn: 0.2163419\ttotal: 2.37s\tremaining: 1.35s\n",
            "636:\tlearn: 0.2162912\ttotal: 2.37s\tremaining: 1.35s\n",
            "637:\tlearn: 0.2161651\ttotal: 2.37s\tremaining: 1.35s\n",
            "638:\tlearn: 0.2161273\ttotal: 2.38s\tremaining: 1.34s\n",
            "639:\tlearn: 0.2160173\ttotal: 2.38s\tremaining: 1.34s\n",
            "640:\tlearn: 0.2158356\ttotal: 2.38s\tremaining: 1.33s\n",
            "641:\tlearn: 0.2157833\ttotal: 2.39s\tremaining: 1.33s\n",
            "642:\tlearn: 0.2156716\ttotal: 2.39s\tremaining: 1.33s\n",
            "643:\tlearn: 0.2156461\ttotal: 2.39s\tremaining: 1.32s\n",
            "644:\tlearn: 0.2155114\ttotal: 2.4s\tremaining: 1.32s\n",
            "645:\tlearn: 0.2153818\ttotal: 2.4s\tremaining: 1.31s\n",
            "646:\tlearn: 0.2153080\ttotal: 2.4s\tremaining: 1.31s\n",
            "647:\tlearn: 0.2152216\ttotal: 2.41s\tremaining: 1.31s\n",
            "648:\tlearn: 0.2151351\ttotal: 2.41s\tremaining: 1.3s\n",
            "649:\tlearn: 0.2150583\ttotal: 2.42s\tremaining: 1.3s\n",
            "650:\tlearn: 0.2150322\ttotal: 2.42s\tremaining: 1.3s\n",
            "651:\tlearn: 0.2149338\ttotal: 2.42s\tremaining: 1.29s\n",
            "652:\tlearn: 0.2148752\ttotal: 2.43s\tremaining: 1.29s\n",
            "653:\tlearn: 0.2147616\ttotal: 2.43s\tremaining: 1.28s\n",
            "654:\tlearn: 0.2147363\ttotal: 2.43s\tremaining: 1.28s\n",
            "655:\tlearn: 0.2146822\ttotal: 2.44s\tremaining: 1.28s\n",
            "656:\tlearn: 0.2146473\ttotal: 2.44s\tremaining: 1.27s\n",
            "657:\tlearn: 0.2145763\ttotal: 2.44s\tremaining: 1.27s\n",
            "658:\tlearn: 0.2145437\ttotal: 2.45s\tremaining: 1.27s\n",
            "659:\tlearn: 0.2144282\ttotal: 2.45s\tremaining: 1.26s\n",
            "660:\tlearn: 0.2143752\ttotal: 2.46s\tremaining: 1.26s\n",
            "661:\tlearn: 0.2143086\ttotal: 2.46s\tremaining: 1.25s\n",
            "662:\tlearn: 0.2142280\ttotal: 2.46s\tremaining: 1.25s\n",
            "663:\tlearn: 0.2140386\ttotal: 2.47s\tremaining: 1.25s\n",
            "664:\tlearn: 0.2139788\ttotal: 2.47s\tremaining: 1.24s\n",
            "665:\tlearn: 0.2139093\ttotal: 2.47s\tremaining: 1.24s\n",
            "666:\tlearn: 0.2138300\ttotal: 2.48s\tremaining: 1.24s\n",
            "667:\tlearn: 0.2137756\ttotal: 2.48s\tremaining: 1.23s\n",
            "668:\tlearn: 0.2137104\ttotal: 2.48s\tremaining: 1.23s\n",
            "669:\tlearn: 0.2136585\ttotal: 2.49s\tremaining: 1.23s\n",
            "670:\tlearn: 0.2136031\ttotal: 2.49s\tremaining: 1.22s\n",
            "671:\tlearn: 0.2135628\ttotal: 2.5s\tremaining: 1.22s\n",
            "672:\tlearn: 0.2134590\ttotal: 2.5s\tremaining: 1.21s\n",
            "673:\tlearn: 0.2133978\ttotal: 2.5s\tremaining: 1.21s\n",
            "674:\tlearn: 0.2132947\ttotal: 2.51s\tremaining: 1.21s\n",
            "675:\tlearn: 0.2131991\ttotal: 2.51s\tremaining: 1.2s\n",
            "676:\tlearn: 0.2131184\ttotal: 2.51s\tremaining: 1.2s\n",
            "677:\tlearn: 0.2130910\ttotal: 2.52s\tremaining: 1.2s\n",
            "678:\tlearn: 0.2129566\ttotal: 2.52s\tremaining: 1.19s\n",
            "679:\tlearn: 0.2128550\ttotal: 2.52s\tremaining: 1.19s\n",
            "680:\tlearn: 0.2127571\ttotal: 2.53s\tremaining: 1.19s\n",
            "681:\tlearn: 0.2126395\ttotal: 2.54s\tremaining: 1.18s\n",
            "682:\tlearn: 0.2125949\ttotal: 2.54s\tremaining: 1.18s\n",
            "683:\tlearn: 0.2125172\ttotal: 2.55s\tremaining: 1.18s\n",
            "684:\tlearn: 0.2124841\ttotal: 2.55s\tremaining: 1.17s\n",
            "685:\tlearn: 0.2124727\ttotal: 2.55s\tremaining: 1.17s\n",
            "686:\tlearn: 0.2123870\ttotal: 2.56s\tremaining: 1.16s\n",
            "687:\tlearn: 0.2123282\ttotal: 2.56s\tremaining: 1.16s\n",
            "688:\tlearn: 0.2122692\ttotal: 2.56s\tremaining: 1.16s\n",
            "689:\tlearn: 0.2121965\ttotal: 2.57s\tremaining: 1.15s\n",
            "690:\tlearn: 0.2121542\ttotal: 2.57s\tremaining: 1.15s\n",
            "691:\tlearn: 0.2120206\ttotal: 2.58s\tremaining: 1.15s\n",
            "692:\tlearn: 0.2119339\ttotal: 2.58s\tremaining: 1.14s\n",
            "693:\tlearn: 0.2118808\ttotal: 2.58s\tremaining: 1.14s\n",
            "694:\tlearn: 0.2118440\ttotal: 2.58s\tremaining: 1.13s\n",
            "695:\tlearn: 0.2118262\ttotal: 2.59s\tremaining: 1.13s\n",
            "696:\tlearn: 0.2117815\ttotal: 2.59s\tremaining: 1.13s\n",
            "697:\tlearn: 0.2116928\ttotal: 2.6s\tremaining: 1.12s\n",
            "698:\tlearn: 0.2116436\ttotal: 2.6s\tremaining: 1.12s\n",
            "699:\tlearn: 0.2116002\ttotal: 2.6s\tremaining: 1.11s\n",
            "700:\tlearn: 0.2115659\ttotal: 2.61s\tremaining: 1.11s\n",
            "701:\tlearn: 0.2114606\ttotal: 2.61s\tremaining: 1.11s\n",
            "702:\tlearn: 0.2114358\ttotal: 2.61s\tremaining: 1.1s\n",
            "703:\tlearn: 0.2113775\ttotal: 2.62s\tremaining: 1.1s\n",
            "704:\tlearn: 0.2112681\ttotal: 2.62s\tremaining: 1.1s\n",
            "705:\tlearn: 0.2111911\ttotal: 2.62s\tremaining: 1.09s\n",
            "706:\tlearn: 0.2110587\ttotal: 2.63s\tremaining: 1.09s\n",
            "707:\tlearn: 0.2110110\ttotal: 2.63s\tremaining: 1.08s\n",
            "708:\tlearn: 0.2108155\ttotal: 2.63s\tremaining: 1.08s\n",
            "709:\tlearn: 0.2106563\ttotal: 2.64s\tremaining: 1.08s\n",
            "710:\tlearn: 0.2105940\ttotal: 2.64s\tremaining: 1.07s\n",
            "711:\tlearn: 0.2105439\ttotal: 2.65s\tremaining: 1.07s\n",
            "712:\tlearn: 0.2104788\ttotal: 2.65s\tremaining: 1.07s\n",
            "713:\tlearn: 0.2104008\ttotal: 2.65s\tremaining: 1.06s\n",
            "714:\tlearn: 0.2103536\ttotal: 2.66s\tremaining: 1.06s\n",
            "715:\tlearn: 0.2102893\ttotal: 2.66s\tremaining: 1.05s\n",
            "716:\tlearn: 0.2102581\ttotal: 2.66s\tremaining: 1.05s\n",
            "717:\tlearn: 0.2101995\ttotal: 2.67s\tremaining: 1.05s\n",
            "718:\tlearn: 0.2101124\ttotal: 2.67s\tremaining: 1.04s\n",
            "719:\tlearn: 0.2100407\ttotal: 2.68s\tremaining: 1.04s\n",
            "720:\tlearn: 0.2100074\ttotal: 2.68s\tremaining: 1.04s\n",
            "721:\tlearn: 0.2099764\ttotal: 2.69s\tremaining: 1.03s\n",
            "722:\tlearn: 0.2098810\ttotal: 2.69s\tremaining: 1.03s\n",
            "723:\tlearn: 0.2098034\ttotal: 2.69s\tremaining: 1.03s\n",
            "724:\tlearn: 0.2097305\ttotal: 2.7s\tremaining: 1.02s\n",
            "725:\tlearn: 0.2096545\ttotal: 2.7s\tremaining: 1.02s\n",
            "726:\tlearn: 0.2095609\ttotal: 2.7s\tremaining: 1.01s\n",
            "727:\tlearn: 0.2095369\ttotal: 2.71s\tremaining: 1.01s\n",
            "728:\tlearn: 0.2093749\ttotal: 2.71s\tremaining: 1.01s\n",
            "729:\tlearn: 0.2093043\ttotal: 2.71s\tremaining: 1s\n",
            "730:\tlearn: 0.2092350\ttotal: 2.72s\tremaining: 1s\n",
            "731:\tlearn: 0.2092052\ttotal: 2.72s\tremaining: 997ms\n",
            "732:\tlearn: 0.2091788\ttotal: 2.73s\tremaining: 994ms\n",
            "733:\tlearn: 0.2091619\ttotal: 2.73s\tremaining: 991ms\n",
            "734:\tlearn: 0.2091531\ttotal: 2.74s\tremaining: 987ms\n",
            "735:\tlearn: 0.2091272\ttotal: 2.74s\tremaining: 983ms\n",
            "736:\tlearn: 0.2090838\ttotal: 2.74s\tremaining: 979ms\n",
            "737:\tlearn: 0.2090642\ttotal: 2.75s\tremaining: 976ms\n",
            "738:\tlearn: 0.2089741\ttotal: 2.75s\tremaining: 972ms\n",
            "739:\tlearn: 0.2089412\ttotal: 2.75s\tremaining: 968ms\n",
            "740:\tlearn: 0.2089217\ttotal: 2.76s\tremaining: 964ms\n",
            "741:\tlearn: 0.2087937\ttotal: 2.76s\tremaining: 961ms\n",
            "742:\tlearn: 0.2087852\ttotal: 2.77s\tremaining: 957ms\n",
            "743:\tlearn: 0.2086674\ttotal: 2.77s\tremaining: 953ms\n",
            "744:\tlearn: 0.2086313\ttotal: 2.77s\tremaining: 949ms\n",
            "745:\tlearn: 0.2085792\ttotal: 2.78s\tremaining: 945ms\n",
            "746:\tlearn: 0.2085161\ttotal: 2.78s\tremaining: 942ms\n",
            "747:\tlearn: 0.2084258\ttotal: 2.79s\tremaining: 938ms\n",
            "748:\tlearn: 0.2083385\ttotal: 2.79s\tremaining: 935ms\n",
            "749:\tlearn: 0.2082966\ttotal: 2.79s\tremaining: 931ms\n",
            "750:\tlearn: 0.2082868\ttotal: 2.8s\tremaining: 927ms\n",
            "751:\tlearn: 0.2082483\ttotal: 2.8s\tremaining: 923ms\n",
            "752:\tlearn: 0.2082062\ttotal: 2.8s\tremaining: 920ms\n",
            "753:\tlearn: 0.2080586\ttotal: 2.81s\tremaining: 916ms\n",
            "754:\tlearn: 0.2080016\ttotal: 2.81s\tremaining: 912ms\n",
            "755:\tlearn: 0.2079176\ttotal: 2.81s\tremaining: 908ms\n",
            "756:\tlearn: 0.2078293\ttotal: 2.82s\tremaining: 905ms\n",
            "757:\tlearn: 0.2077945\ttotal: 2.82s\tremaining: 901ms\n",
            "758:\tlearn: 0.2077536\ttotal: 2.83s\tremaining: 897ms\n",
            "759:\tlearn: 0.2076786\ttotal: 2.83s\tremaining: 893ms\n",
            "760:\tlearn: 0.2076455\ttotal: 2.83s\tremaining: 890ms\n",
            "761:\tlearn: 0.2075613\ttotal: 2.84s\tremaining: 886ms\n",
            "762:\tlearn: 0.2074830\ttotal: 2.84s\tremaining: 882ms\n",
            "763:\tlearn: 0.2074589\ttotal: 2.84s\tremaining: 878ms\n",
            "764:\tlearn: 0.2074164\ttotal: 2.85s\tremaining: 875ms\n",
            "765:\tlearn: 0.2073562\ttotal: 2.85s\tremaining: 871ms\n",
            "766:\tlearn: 0.2072728\ttotal: 2.85s\tremaining: 867ms\n",
            "767:\tlearn: 0.2072137\ttotal: 2.86s\tremaining: 863ms\n",
            "768:\tlearn: 0.2071961\ttotal: 2.86s\tremaining: 860ms\n",
            "769:\tlearn: 0.2071592\ttotal: 2.87s\tremaining: 856ms\n",
            "770:\tlearn: 0.2071372\ttotal: 2.87s\tremaining: 852ms\n",
            "771:\tlearn: 0.2070674\ttotal: 2.87s\tremaining: 849ms\n",
            "772:\tlearn: 0.2069605\ttotal: 2.88s\tremaining: 845ms\n",
            "773:\tlearn: 0.2068955\ttotal: 2.88s\tremaining: 841ms\n",
            "774:\tlearn: 0.2068011\ttotal: 2.88s\tremaining: 837ms\n",
            "775:\tlearn: 0.2067416\ttotal: 2.89s\tremaining: 834ms\n",
            "776:\tlearn: 0.2066936\ttotal: 2.89s\tremaining: 830ms\n",
            "777:\tlearn: 0.2066350\ttotal: 2.9s\tremaining: 826ms\n",
            "778:\tlearn: 0.2065502\ttotal: 2.9s\tremaining: 822ms\n",
            "779:\tlearn: 0.2064533\ttotal: 2.9s\tremaining: 819ms\n",
            "780:\tlearn: 0.2063470\ttotal: 2.9s\tremaining: 815ms\n",
            "781:\tlearn: 0.2063017\ttotal: 2.91s\tremaining: 811ms\n",
            "782:\tlearn: 0.2062294\ttotal: 2.91s\tremaining: 807ms\n",
            "783:\tlearn: 0.2061959\ttotal: 2.92s\tremaining: 804ms\n",
            "784:\tlearn: 0.2060968\ttotal: 2.92s\tremaining: 800ms\n",
            "785:\tlearn: 0.2060357\ttotal: 2.93s\tremaining: 799ms\n",
            "786:\tlearn: 0.2059652\ttotal: 2.94s\tremaining: 795ms\n",
            "787:\tlearn: 0.2059135\ttotal: 2.94s\tremaining: 791ms\n",
            "788:\tlearn: 0.2058202\ttotal: 2.94s\tremaining: 787ms\n",
            "789:\tlearn: 0.2057928\ttotal: 2.95s\tremaining: 784ms\n",
            "790:\tlearn: 0.2057737\ttotal: 2.95s\tremaining: 780ms\n",
            "791:\tlearn: 0.2056890\ttotal: 2.96s\tremaining: 776ms\n",
            "792:\tlearn: 0.2055982\ttotal: 2.96s\tremaining: 772ms\n",
            "793:\tlearn: 0.2055258\ttotal: 2.96s\tremaining: 769ms\n",
            "794:\tlearn: 0.2054162\ttotal: 2.97s\tremaining: 765ms\n",
            "795:\tlearn: 0.2052826\ttotal: 2.97s\tremaining: 762ms\n",
            "796:\tlearn: 0.2051123\ttotal: 2.98s\tremaining: 759ms\n",
            "797:\tlearn: 0.2050033\ttotal: 2.98s\tremaining: 756ms\n",
            "798:\tlearn: 0.2049678\ttotal: 2.99s\tremaining: 752ms\n",
            "799:\tlearn: 0.2049264\ttotal: 2.99s\tremaining: 749ms\n",
            "800:\tlearn: 0.2048869\ttotal: 3s\tremaining: 745ms\n",
            "801:\tlearn: 0.2048337\ttotal: 3s\tremaining: 741ms\n",
            "802:\tlearn: 0.2047483\ttotal: 3.01s\tremaining: 737ms\n",
            "803:\tlearn: 0.2047058\ttotal: 3.01s\tremaining: 734ms\n",
            "804:\tlearn: 0.2046081\ttotal: 3.01s\tremaining: 730ms\n",
            "805:\tlearn: 0.2045012\ttotal: 3.02s\tremaining: 727ms\n",
            "806:\tlearn: 0.2044763\ttotal: 3.02s\tremaining: 723ms\n",
            "807:\tlearn: 0.2044506\ttotal: 3.02s\tremaining: 719ms\n",
            "808:\tlearn: 0.2043342\ttotal: 3.03s\tremaining: 715ms\n",
            "809:\tlearn: 0.2042881\ttotal: 3.03s\tremaining: 712ms\n",
            "810:\tlearn: 0.2042369\ttotal: 3.04s\tremaining: 708ms\n",
            "811:\tlearn: 0.2041850\ttotal: 3.04s\tremaining: 704ms\n",
            "812:\tlearn: 0.2041379\ttotal: 3.04s\tremaining: 700ms\n",
            "813:\tlearn: 0.2039908\ttotal: 3.05s\tremaining: 697ms\n",
            "814:\tlearn: 0.2039510\ttotal: 3.05s\tremaining: 693ms\n",
            "815:\tlearn: 0.2038910\ttotal: 3.06s\tremaining: 689ms\n",
            "816:\tlearn: 0.2038353\ttotal: 3.06s\tremaining: 685ms\n",
            "817:\tlearn: 0.2038071\ttotal: 3.06s\tremaining: 682ms\n",
            "818:\tlearn: 0.2037594\ttotal: 3.07s\tremaining: 678ms\n",
            "819:\tlearn: 0.2036748\ttotal: 3.07s\tremaining: 674ms\n",
            "820:\tlearn: 0.2036277\ttotal: 3.08s\tremaining: 670ms\n",
            "821:\tlearn: 0.2035339\ttotal: 3.08s\tremaining: 667ms\n",
            "822:\tlearn: 0.2034695\ttotal: 3.08s\tremaining: 663ms\n",
            "823:\tlearn: 0.2034140\ttotal: 3.09s\tremaining: 659ms\n",
            "824:\tlearn: 0.2033069\ttotal: 3.09s\tremaining: 655ms\n",
            "825:\tlearn: 0.2032441\ttotal: 3.09s\tremaining: 652ms\n",
            "826:\tlearn: 0.2031606\ttotal: 3.1s\tremaining: 648ms\n",
            "827:\tlearn: 0.2031451\ttotal: 3.1s\tremaining: 645ms\n",
            "828:\tlearn: 0.2031315\ttotal: 3.11s\tremaining: 641ms\n",
            "829:\tlearn: 0.2030905\ttotal: 3.11s\tremaining: 637ms\n",
            "830:\tlearn: 0.2030397\ttotal: 3.11s\tremaining: 633ms\n",
            "831:\tlearn: 0.2029396\ttotal: 3.12s\tremaining: 629ms\n",
            "832:\tlearn: 0.2029284\ttotal: 3.12s\tremaining: 626ms\n",
            "833:\tlearn: 0.2028163\ttotal: 3.13s\tremaining: 623ms\n",
            "834:\tlearn: 0.2027624\ttotal: 3.13s\tremaining: 619ms\n",
            "835:\tlearn: 0.2027208\ttotal: 3.14s\tremaining: 616ms\n",
            "836:\tlearn: 0.2026426\ttotal: 3.14s\tremaining: 612ms\n",
            "837:\tlearn: 0.2025302\ttotal: 3.15s\tremaining: 608ms\n",
            "838:\tlearn: 0.2024125\ttotal: 3.15s\tremaining: 604ms\n",
            "839:\tlearn: 0.2023528\ttotal: 3.15s\tremaining: 600ms\n",
            "840:\tlearn: 0.2023099\ttotal: 3.15s\tremaining: 597ms\n",
            "841:\tlearn: 0.2022753\ttotal: 3.16s\tremaining: 593ms\n",
            "842:\tlearn: 0.2021506\ttotal: 3.16s\tremaining: 589ms\n",
            "843:\tlearn: 0.2021180\ttotal: 3.17s\tremaining: 585ms\n",
            "844:\tlearn: 0.2020388\ttotal: 3.17s\tremaining: 581ms\n",
            "845:\tlearn: 0.2020064\ttotal: 3.17s\tremaining: 578ms\n",
            "846:\tlearn: 0.2019603\ttotal: 3.18s\tremaining: 574ms\n",
            "847:\tlearn: 0.2016914\ttotal: 3.18s\tremaining: 570ms\n",
            "848:\tlearn: 0.2016086\ttotal: 3.18s\tremaining: 566ms\n",
            "849:\tlearn: 0.2015679\ttotal: 3.19s\tremaining: 563ms\n",
            "850:\tlearn: 0.2015321\ttotal: 3.19s\tremaining: 559ms\n",
            "851:\tlearn: 0.2015138\ttotal: 3.19s\tremaining: 555ms\n",
            "852:\tlearn: 0.2014227\ttotal: 3.2s\tremaining: 551ms\n",
            "853:\tlearn: 0.2013713\ttotal: 3.2s\tremaining: 548ms\n",
            "854:\tlearn: 0.2012992\ttotal: 3.21s\tremaining: 544ms\n",
            "855:\tlearn: 0.2012567\ttotal: 3.21s\tremaining: 540ms\n",
            "856:\tlearn: 0.2012020\ttotal: 3.21s\tremaining: 536ms\n",
            "857:\tlearn: 0.2011945\ttotal: 3.22s\tremaining: 533ms\n",
            "858:\tlearn: 0.2011741\ttotal: 3.22s\tremaining: 529ms\n",
            "859:\tlearn: 0.2011590\ttotal: 3.22s\tremaining: 525ms\n",
            "860:\tlearn: 0.2010686\ttotal: 3.23s\tremaining: 521ms\n",
            "861:\tlearn: 0.2010325\ttotal: 3.23s\tremaining: 517ms\n",
            "862:\tlearn: 0.2009535\ttotal: 3.23s\tremaining: 514ms\n",
            "863:\tlearn: 0.2008627\ttotal: 3.24s\tremaining: 510ms\n",
            "864:\tlearn: 0.2007827\ttotal: 3.24s\tremaining: 506ms\n",
            "865:\tlearn: 0.2007695\ttotal: 3.25s\tremaining: 502ms\n",
            "866:\tlearn: 0.2007127\ttotal: 3.25s\tremaining: 499ms\n",
            "867:\tlearn: 0.2006329\ttotal: 3.25s\tremaining: 495ms\n",
            "868:\tlearn: 0.2005311\ttotal: 3.26s\tremaining: 491ms\n",
            "869:\tlearn: 0.2004863\ttotal: 3.26s\tremaining: 487ms\n",
            "870:\tlearn: 0.2004585\ttotal: 3.26s\tremaining: 483ms\n",
            "871:\tlearn: 0.2004087\ttotal: 3.27s\tremaining: 480ms\n",
            "872:\tlearn: 0.2003150\ttotal: 3.27s\tremaining: 476ms\n",
            "873:\tlearn: 0.2002600\ttotal: 3.27s\tremaining: 472ms\n",
            "874:\tlearn: 0.2001591\ttotal: 3.28s\tremaining: 468ms\n",
            "875:\tlearn: 0.2000661\ttotal: 3.28s\tremaining: 465ms\n",
            "876:\tlearn: 0.2000224\ttotal: 3.29s\tremaining: 461ms\n",
            "877:\tlearn: 0.1999499\ttotal: 3.29s\tremaining: 457ms\n",
            "878:\tlearn: 0.1999153\ttotal: 3.29s\tremaining: 453ms\n",
            "879:\tlearn: 0.1998606\ttotal: 3.3s\tremaining: 450ms\n",
            "880:\tlearn: 0.1998074\ttotal: 3.3s\tremaining: 446ms\n",
            "881:\tlearn: 0.1997828\ttotal: 3.3s\tremaining: 442ms\n",
            "882:\tlearn: 0.1997706\ttotal: 3.31s\tremaining: 438ms\n",
            "883:\tlearn: 0.1996998\ttotal: 3.31s\tremaining: 434ms\n",
            "884:\tlearn: 0.1995879\ttotal: 3.31s\tremaining: 431ms\n",
            "885:\tlearn: 0.1995288\ttotal: 3.32s\tremaining: 427ms\n",
            "886:\tlearn: 0.1994923\ttotal: 3.33s\tremaining: 424ms\n",
            "887:\tlearn: 0.1994513\ttotal: 3.33s\tremaining: 420ms\n",
            "888:\tlearn: 0.1994442\ttotal: 3.33s\tremaining: 416ms\n",
            "889:\tlearn: 0.1993774\ttotal: 3.34s\tremaining: 412ms\n",
            "890:\tlearn: 0.1993297\ttotal: 3.34s\tremaining: 409ms\n",
            "891:\tlearn: 0.1993149\ttotal: 3.34s\tremaining: 405ms\n",
            "892:\tlearn: 0.1992161\ttotal: 3.35s\tremaining: 401ms\n",
            "893:\tlearn: 0.1991956\ttotal: 3.35s\tremaining: 397ms\n",
            "894:\tlearn: 0.1991508\ttotal: 3.35s\tremaining: 394ms\n",
            "895:\tlearn: 0.1991388\ttotal: 3.36s\tremaining: 390ms\n",
            "896:\tlearn: 0.1990966\ttotal: 3.36s\tremaining: 386ms\n",
            "897:\tlearn: 0.1989949\ttotal: 3.37s\tremaining: 382ms\n",
            "898:\tlearn: 0.1989597\ttotal: 3.37s\tremaining: 378ms\n",
            "899:\tlearn: 0.1988777\ttotal: 3.37s\tremaining: 375ms\n",
            "900:\tlearn: 0.1988126\ttotal: 3.38s\tremaining: 371ms\n",
            "901:\tlearn: 0.1987195\ttotal: 3.38s\tremaining: 367ms\n",
            "902:\tlearn: 0.1987043\ttotal: 3.38s\tremaining: 363ms\n",
            "903:\tlearn: 0.1986815\ttotal: 3.38s\tremaining: 360ms\n",
            "904:\tlearn: 0.1986465\ttotal: 3.39s\tremaining: 356ms\n",
            "905:\tlearn: 0.1985739\ttotal: 3.39s\tremaining: 352ms\n",
            "906:\tlearn: 0.1985200\ttotal: 3.4s\tremaining: 348ms\n",
            "907:\tlearn: 0.1984503\ttotal: 3.4s\tremaining: 344ms\n",
            "908:\tlearn: 0.1983805\ttotal: 3.4s\tremaining: 341ms\n",
            "909:\tlearn: 0.1983196\ttotal: 3.41s\tremaining: 337ms\n",
            "910:\tlearn: 0.1982971\ttotal: 3.41s\tremaining: 333ms\n",
            "911:\tlearn: 0.1981861\ttotal: 3.41s\tremaining: 329ms\n",
            "912:\tlearn: 0.1981470\ttotal: 3.42s\tremaining: 326ms\n",
            "913:\tlearn: 0.1981121\ttotal: 3.42s\tremaining: 322ms\n",
            "914:\tlearn: 0.1980688\ttotal: 3.42s\tremaining: 318ms\n",
            "915:\tlearn: 0.1980384\ttotal: 3.43s\tremaining: 314ms\n",
            "916:\tlearn: 0.1979986\ttotal: 3.43s\tremaining: 311ms\n",
            "917:\tlearn: 0.1979785\ttotal: 3.43s\tremaining: 307ms\n",
            "918:\tlearn: 0.1978795\ttotal: 3.44s\tremaining: 303ms\n",
            "919:\tlearn: 0.1978490\ttotal: 3.44s\tremaining: 299ms\n",
            "920:\tlearn: 0.1978060\ttotal: 3.44s\tremaining: 296ms\n",
            "921:\tlearn: 0.1977716\ttotal: 3.45s\tremaining: 292ms\n",
            "922:\tlearn: 0.1977370\ttotal: 3.45s\tremaining: 288ms\n",
            "923:\tlearn: 0.1976633\ttotal: 3.46s\tremaining: 284ms\n",
            "924:\tlearn: 0.1975899\ttotal: 3.46s\tremaining: 280ms\n",
            "925:\tlearn: 0.1975528\ttotal: 3.46s\tremaining: 277ms\n",
            "926:\tlearn: 0.1975129\ttotal: 3.47s\tremaining: 273ms\n",
            "927:\tlearn: 0.1974479\ttotal: 3.47s\tremaining: 269ms\n",
            "928:\tlearn: 0.1971904\ttotal: 3.47s\tremaining: 266ms\n",
            "929:\tlearn: 0.1971720\ttotal: 3.48s\tremaining: 262ms\n",
            "930:\tlearn: 0.1970807\ttotal: 3.48s\tremaining: 258ms\n",
            "931:\tlearn: 0.1969764\ttotal: 3.48s\tremaining: 254ms\n",
            "932:\tlearn: 0.1969323\ttotal: 3.49s\tremaining: 251ms\n",
            "933:\tlearn: 0.1969061\ttotal: 3.49s\tremaining: 247ms\n",
            "934:\tlearn: 0.1968627\ttotal: 3.5s\tremaining: 243ms\n",
            "935:\tlearn: 0.1968313\ttotal: 3.5s\tremaining: 239ms\n",
            "936:\tlearn: 0.1968223\ttotal: 3.5s\tremaining: 236ms\n",
            "937:\tlearn: 0.1967749\ttotal: 3.51s\tremaining: 232ms\n",
            "938:\tlearn: 0.1966997\ttotal: 3.52s\tremaining: 228ms\n",
            "939:\tlearn: 0.1966428\ttotal: 3.52s\tremaining: 225ms\n",
            "940:\tlearn: 0.1966175\ttotal: 3.52s\tremaining: 221ms\n",
            "941:\tlearn: 0.1965783\ttotal: 3.53s\tremaining: 217ms\n",
            "942:\tlearn: 0.1965363\ttotal: 3.53s\tremaining: 214ms\n",
            "943:\tlearn: 0.1965098\ttotal: 3.54s\tremaining: 210ms\n",
            "944:\tlearn: 0.1964430\ttotal: 3.55s\tremaining: 206ms\n",
            "945:\tlearn: 0.1963702\ttotal: 3.55s\tremaining: 203ms\n",
            "946:\tlearn: 0.1963407\ttotal: 3.56s\tremaining: 199ms\n",
            "947:\tlearn: 0.1963177\ttotal: 3.56s\tremaining: 196ms\n",
            "948:\tlearn: 0.1962797\ttotal: 3.57s\tremaining: 192ms\n",
            "949:\tlearn: 0.1962447\ttotal: 3.57s\tremaining: 188ms\n",
            "950:\tlearn: 0.1961793\ttotal: 3.58s\tremaining: 184ms\n",
            "951:\tlearn: 0.1961288\ttotal: 3.58s\tremaining: 181ms\n",
            "952:\tlearn: 0.1960969\ttotal: 3.58s\tremaining: 177ms\n",
            "953:\tlearn: 0.1960360\ttotal: 3.59s\tremaining: 173ms\n",
            "954:\tlearn: 0.1959873\ttotal: 3.59s\tremaining: 169ms\n",
            "955:\tlearn: 0.1959025\ttotal: 3.6s\tremaining: 166ms\n",
            "956:\tlearn: 0.1958004\ttotal: 3.6s\tremaining: 162ms\n",
            "957:\tlearn: 0.1957326\ttotal: 3.6s\tremaining: 158ms\n",
            "958:\tlearn: 0.1956614\ttotal: 3.61s\tremaining: 154ms\n",
            "959:\tlearn: 0.1956045\ttotal: 3.61s\tremaining: 151ms\n",
            "960:\tlearn: 0.1955397\ttotal: 3.62s\tremaining: 147ms\n",
            "961:\tlearn: 0.1955253\ttotal: 3.62s\tremaining: 143ms\n",
            "962:\tlearn: 0.1954844\ttotal: 3.62s\tremaining: 139ms\n",
            "963:\tlearn: 0.1954191\ttotal: 3.63s\tremaining: 136ms\n",
            "964:\tlearn: 0.1953941\ttotal: 3.63s\tremaining: 132ms\n",
            "965:\tlearn: 0.1952867\ttotal: 3.64s\tremaining: 128ms\n",
            "966:\tlearn: 0.1952722\ttotal: 3.64s\tremaining: 124ms\n",
            "967:\tlearn: 0.1952337\ttotal: 3.65s\tremaining: 121ms\n",
            "968:\tlearn: 0.1951126\ttotal: 3.65s\tremaining: 117ms\n",
            "969:\tlearn: 0.1950353\ttotal: 3.66s\tremaining: 113ms\n",
            "970:\tlearn: 0.1949909\ttotal: 3.66s\tremaining: 109ms\n",
            "971:\tlearn: 0.1949464\ttotal: 3.67s\tremaining: 106ms\n",
            "972:\tlearn: 0.1949221\ttotal: 3.67s\tremaining: 102ms\n",
            "973:\tlearn: 0.1948120\ttotal: 3.67s\tremaining: 98.1ms\n",
            "974:\tlearn: 0.1947804\ttotal: 3.68s\tremaining: 94.3ms\n",
            "975:\tlearn: 0.1947358\ttotal: 3.68s\tremaining: 90.5ms\n",
            "976:\tlearn: 0.1946172\ttotal: 3.69s\tremaining: 86.8ms\n",
            "977:\tlearn: 0.1945278\ttotal: 3.69s\tremaining: 83ms\n",
            "978:\tlearn: 0.1944499\ttotal: 3.69s\tremaining: 79.2ms\n",
            "979:\tlearn: 0.1944222\ttotal: 3.69s\tremaining: 75.4ms\n",
            "980:\tlearn: 0.1943354\ttotal: 3.7s\tremaining: 71.6ms\n",
            "981:\tlearn: 0.1943047\ttotal: 3.7s\tremaining: 67.9ms\n",
            "982:\tlearn: 0.1942657\ttotal: 3.71s\tremaining: 64.1ms\n",
            "983:\tlearn: 0.1941512\ttotal: 3.72s\tremaining: 60.4ms\n",
            "984:\tlearn: 0.1940776\ttotal: 3.73s\tremaining: 56.8ms\n",
            "985:\tlearn: 0.1940386\ttotal: 3.74s\tremaining: 53.1ms\n",
            "986:\tlearn: 0.1940076\ttotal: 3.75s\tremaining: 49.3ms\n",
            "987:\tlearn: 0.1939456\ttotal: 3.75s\tremaining: 45.5ms\n",
            "988:\tlearn: 0.1939234\ttotal: 3.75s\tremaining: 41.7ms\n",
            "989:\tlearn: 0.1938344\ttotal: 3.76s\tremaining: 38ms\n",
            "990:\tlearn: 0.1938126\ttotal: 3.76s\tremaining: 34.2ms\n",
            "991:\tlearn: 0.1937580\ttotal: 3.76s\tremaining: 30.4ms\n",
            "992:\tlearn: 0.1937132\ttotal: 3.77s\tremaining: 26.6ms\n",
            "993:\tlearn: 0.1936760\ttotal: 3.77s\tremaining: 22.8ms\n",
            "994:\tlearn: 0.1936109\ttotal: 3.77s\tremaining: 19ms\n",
            "995:\tlearn: 0.1935779\ttotal: 3.78s\tremaining: 15.2ms\n",
            "996:\tlearn: 0.1934751\ttotal: 3.78s\tremaining: 11.4ms\n",
            "997:\tlearn: 0.1934348\ttotal: 3.79s\tremaining: 7.58ms\n",
            "998:\tlearn: 0.1933932\ttotal: 3.79s\tremaining: 3.79ms\n",
            "999:\tlearn: 0.1933480\ttotal: 3.79s\tremaining: 0us\n",
            "mse score on the X_test is: 0.051570214268535315\n"
          ],
          "name": "stdout"
        }
      ]
    },
    {
      "cell_type": "code",
      "metadata": {
        "colab": {
          "base_uri": "https://localhost:8080/"
        },
        "id": "RU1z8_EspewK",
        "outputId": "3df3247d-49c2-424d-8f7f-db51db3b6b1e"
      },
      "source": [
        "cc = model1.predict(test_ff_r)\n",
        "\n",
        "\n",
        "cc=np.expm1(y_pred_lgbm_t)\n",
        "\n",
        "cc"
      ],
      "execution_count": null,
      "outputs": [
        {
          "output_type": "execute_result",
          "data": {
            "text/plain": [
              "array([ 43.09279249,  41.01581328,  46.00422402, ...,  35.94683647,\n",
              "       267.59199943,  96.1665872 ])"
            ]
          },
          "metadata": {
            "tags": []
          },
          "execution_count": 306
        }
      ]
    },
    {
      "cell_type": "code",
      "metadata": {
        "colab": {
          "base_uri": "https://localhost:8080/",
          "height": 419
        },
        "id": "7A7dNY5IpwSW",
        "outputId": "c7df0c19-f900-47b9-a100-9a8b2c8169f2"
      },
      "source": [
        "final_data1 = {'ID ': test_ff['ID'], 'Response':cc }\n",
        "sc = pd.DataFrame(data=final_data1)\n",
        "sc"
      ],
      "execution_count": null,
      "outputs": [
        {
          "output_type": "execute_result",
          "data": {
            "text/html": [
              "<div>\n",
              "<style scoped>\n",
              "    .dataframe tbody tr th:only-of-type {\n",
              "        vertical-align: middle;\n",
              "    }\n",
              "\n",
              "    .dataframe tbody tr th {\n",
              "        vertical-align: top;\n",
              "    }\n",
              "\n",
              "    .dataframe thead th {\n",
              "        text-align: right;\n",
              "    }\n",
              "</style>\n",
              "<table border=\"1\" class=\"dataframe\">\n",
              "  <thead>\n",
              "    <tr style=\"text-align: right;\">\n",
              "      <th></th>\n",
              "      <th>ID</th>\n",
              "      <th>Response</th>\n",
              "    </tr>\n",
              "  </thead>\n",
              "  <tbody>\n",
              "    <tr>\n",
              "      <th>10932</th>\n",
              "      <td>ID_00OZLF7X</td>\n",
              "      <td>43.092792</td>\n",
              "    </tr>\n",
              "    <tr>\n",
              "      <th>10933</th>\n",
              "      <td>ID_00ZI0D98</td>\n",
              "      <td>41.015813</td>\n",
              "    </tr>\n",
              "    <tr>\n",
              "      <th>10934</th>\n",
              "      <td>ID_017GTLAU</td>\n",
              "      <td>46.004224</td>\n",
              "    </tr>\n",
              "    <tr>\n",
              "      <th>10935</th>\n",
              "      <td>ID_01IBM7T2</td>\n",
              "      <td>38.969863</td>\n",
              "    </tr>\n",
              "    <tr>\n",
              "      <th>10936</th>\n",
              "      <td>ID_01II27D4</td>\n",
              "      <td>52.662879</td>\n",
              "    </tr>\n",
              "    <tr>\n",
              "      <th>...</th>\n",
              "      <td>...</td>\n",
              "      <td>...</td>\n",
              "    </tr>\n",
              "    <tr>\n",
              "      <th>13660</th>\n",
              "      <td>ID_ZW5RSNUS</td>\n",
              "      <td>25.135244</td>\n",
              "    </tr>\n",
              "    <tr>\n",
              "      <th>13661</th>\n",
              "      <td>ID_ZWCI817N</td>\n",
              "      <td>85.870186</td>\n",
              "    </tr>\n",
              "    <tr>\n",
              "      <th>13662</th>\n",
              "      <td>ID_ZX5858FJ</td>\n",
              "      <td>35.946836</td>\n",
              "    </tr>\n",
              "    <tr>\n",
              "      <th>13663</th>\n",
              "      <td>ID_ZY4XOL2H</td>\n",
              "      <td>267.591999</td>\n",
              "    </tr>\n",
              "    <tr>\n",
              "      <th>13664</th>\n",
              "      <td>ID_ZYTEVEBR</td>\n",
              "      <td>96.166587</td>\n",
              "    </tr>\n",
              "  </tbody>\n",
              "</table>\n",
              "<p>2733 rows × 2 columns</p>\n",
              "</div>"
            ],
            "text/plain": [
              "               ID     Response\n",
              "10932  ID_00OZLF7X   43.092792\n",
              "10933  ID_00ZI0D98   41.015813\n",
              "10934  ID_017GTLAU   46.004224\n",
              "10935  ID_01IBM7T2   38.969863\n",
              "10936  ID_01II27D4   52.662879\n",
              "...            ...         ...\n",
              "13660  ID_ZW5RSNUS   25.135244\n",
              "13661  ID_ZWCI817N   85.870186\n",
              "13662  ID_ZX5858FJ   35.946836\n",
              "13663  ID_ZY4XOL2H  267.591999\n",
              "13664  ID_ZYTEVEBR   96.166587\n",
              "\n",
              "[2733 rows x 2 columns]"
            ]
          },
          "metadata": {
            "tags": []
          },
          "execution_count": 307
        }
      ]
    },
    {
      "cell_type": "code",
      "metadata": {
        "colab": {
          "base_uri": "https://localhost:8080/"
        },
        "id": "IG0YojMwp5us",
        "outputId": "732e25e2-e736-45e1-b2c9-87bac46b4b20"
      },
      "source": [
        "%cd \"/content\"\n",
        "sc.to_csv('c_1.csv', index =False)"
      ],
      "execution_count": null,
      "outputs": [
        {
          "output_type": "stream",
          "text": [
            "/content\n"
          ],
          "name": "stdout"
        }
      ]
    },
    {
      "cell_type": "code",
      "metadata": {
        "colab": {
          "base_uri": "https://localhost:8080/"
        },
        "id": "BfZmlm3MqAmD",
        "outputId": "e57ed4da-75ab-4723-ff2b-d763cc04e662"
      },
      "source": [
        "from sklearn.model_selection import KFold\n",
        "\n",
        "errlgb = []\n",
        "y_pred_totlgb = []\n",
        "\n",
        "fold = KFold(n_splits=10, shuffle=True, random_state=101)\n",
        "\n",
        "for train_index, test_index in fold.split(X):\n",
        "    X_train, X_test = X.loc[train_index], X.loc[test_index]\n",
        "    y_train, y_test = y[train_index], y[test_index]\n",
        "\n",
        "    \n",
        "    model1.fit(X_train, y_train,eval_set=[(X_test, y_test)], verbose=0)\n",
        "\n",
        "    y_pred_lgbm = model1.predict(X_test)\n",
        "    print(\"RMSLE LGBM: \", sqrt(mean_squared_log_error(np.exp(y_test), np.exp(y_pred_lgbm))))\n",
        "\n",
        "    errlgb.append(sqrt(mean_squared_log_error(np.exp(y_test), np.exp(y_pred_lgbm))))\n",
        "    p = model1.predict(test_ff_r)\n",
        "    y_pred_totlgb.append(p)"
      ],
      "execution_count": null,
      "outputs": [
        {
          "output_type": "stream",
          "text": [
            "RMSLE LGBM:  0.2535014511430231\n",
            "RMSLE LGBM:  0.2481086741006529\n",
            "RMSLE LGBM:  0.2707416323391902\n",
            "RMSLE LGBM:  0.2323462831968449\n",
            "RMSLE LGBM:  0.26851155958244544\n",
            "RMSLE LGBM:  0.27640606157641856\n",
            "RMSLE LGBM:  0.26664696377103914\n",
            "RMSLE LGBM:  0.27545795753483726\n",
            "RMSLE LGBM:  0.24681560109808826\n",
            "RMSLE LGBM:  0.2127963062160157\n"
          ],
          "name": "stdout"
        }
      ]
    },
    {
      "cell_type": "code",
      "metadata": {
        "id": "t1lu8g6FqSVg",
        "colab": {
          "base_uri": "https://localhost:8080/",
          "height": 180
        },
        "outputId": "b828a4f6-cbb2-4f9d-da14-6b285e08165e"
      },
      "source": [
        "gb_c = (np.mean(y_pred_totlgb,0))\n",
        "gb_c=np.expm1(gb_c).round(2)"
      ],
      "execution_count": null,
      "outputs": [
        {
          "output_type": "error",
          "ename": "NameError",
          "evalue": "ignored",
          "traceback": [
            "\u001b[0;31m---------------------------------------------------------------------------\u001b[0m",
            "\u001b[0;31mNameError\u001b[0m                                 Traceback (most recent call last)",
            "\u001b[0;32m<ipython-input-4-8f77d88dd172>\u001b[0m in \u001b[0;36m<module>\u001b[0;34m()\u001b[0m\n\u001b[0;32m----> 1\u001b[0;31m \u001b[0mgb_c\u001b[0m \u001b[0;34m=\u001b[0m \u001b[0;34m(\u001b[0m\u001b[0mnp\u001b[0m\u001b[0;34m.\u001b[0m\u001b[0mmean\u001b[0m\u001b[0;34m(\u001b[0m\u001b[0my_pred_totlgb\u001b[0m\u001b[0;34m,\u001b[0m\u001b[0;36m0\u001b[0m\u001b[0;34m)\u001b[0m\u001b[0;34m)\u001b[0m\u001b[0;34m\u001b[0m\u001b[0;34m\u001b[0m\u001b[0m\n\u001b[0m\u001b[1;32m      2\u001b[0m \u001b[0mgb_c\u001b[0m\u001b[0;34m=\u001b[0m\u001b[0mnp\u001b[0m\u001b[0;34m.\u001b[0m\u001b[0mexpm1\u001b[0m\u001b[0;34m(\u001b[0m\u001b[0mgb_c\u001b[0m\u001b[0;34m)\u001b[0m\u001b[0;34m.\u001b[0m\u001b[0mround\u001b[0m\u001b[0;34m(\u001b[0m\u001b[0;36m2\u001b[0m\u001b[0;34m)\u001b[0m\u001b[0;34m\u001b[0m\u001b[0;34m\u001b[0m\u001b[0m\n",
            "\u001b[0;31mNameError\u001b[0m: name 'np' is not defined"
          ]
        }
      ]
    },
    {
      "cell_type": "code",
      "metadata": {
        "colab": {
          "base_uri": "https://localhost:8080/",
          "height": 163
        },
        "id": "cSxFXT-VrCyW",
        "outputId": "e2c1a9cf-beb1-4444-fd1e-d6afce4797bf"
      },
      "source": [
        "gb_c"
      ],
      "execution_count": null,
      "outputs": [
        {
          "output_type": "error",
          "ename": "NameError",
          "evalue": "ignored",
          "traceback": [
            "\u001b[0;31m---------------------------------------------------------------------------\u001b[0m",
            "\u001b[0;31mNameError\u001b[0m                                 Traceback (most recent call last)",
            "\u001b[0;32m<ipython-input-3-823cc668926f>\u001b[0m in \u001b[0;36m<module>\u001b[0;34m()\u001b[0m\n\u001b[0;32m----> 1\u001b[0;31m \u001b[0mgb_c\u001b[0m\u001b[0;34m\u001b[0m\u001b[0;34m\u001b[0m\u001b[0m\n\u001b[0m",
            "\u001b[0;31mNameError\u001b[0m: name 'gb_c' is not defined"
          ]
        }
      ]
    },
    {
      "cell_type": "code",
      "metadata": {
        "colab": {
          "base_uri": "https://localhost:8080/",
          "height": 197
        },
        "id": "Gp-LI4BmrF4t",
        "outputId": "789006e7-6c97-469a-d998-33ff2f27b32a"
      },
      "source": [
        "final_data1 = {'ID ': test_ff['ID'], 'Response':gb_c }\n",
        "c_2 = pd.DataFrame(data=final_data1)\n",
        "c_2"
      ],
      "execution_count": null,
      "outputs": [
        {
          "output_type": "error",
          "ename": "NameError",
          "evalue": "ignored",
          "traceback": [
            "\u001b[0;31m---------------------------------------------------------------------------\u001b[0m",
            "\u001b[0;31mNameError\u001b[0m                                 Traceback (most recent call last)",
            "\u001b[0;32m<ipython-input-2-db355296656a>\u001b[0m in \u001b[0;36m<module>\u001b[0;34m()\u001b[0m\n\u001b[0;32m----> 1\u001b[0;31m \u001b[0mfinal_data1\u001b[0m \u001b[0;34m=\u001b[0m \u001b[0;34m{\u001b[0m\u001b[0;34m'ID '\u001b[0m\u001b[0;34m:\u001b[0m \u001b[0mtest_ff\u001b[0m\u001b[0;34m[\u001b[0m\u001b[0;34m'ID'\u001b[0m\u001b[0;34m]\u001b[0m\u001b[0;34m,\u001b[0m \u001b[0;34m'Response'\u001b[0m\u001b[0;34m:\u001b[0m\u001b[0mgb_c\u001b[0m \u001b[0;34m}\u001b[0m\u001b[0;34m\u001b[0m\u001b[0;34m\u001b[0m\u001b[0m\n\u001b[0m\u001b[1;32m      2\u001b[0m \u001b[0mc_2\u001b[0m \u001b[0;34m=\u001b[0m \u001b[0mpd\u001b[0m\u001b[0;34m.\u001b[0m\u001b[0mDataFrame\u001b[0m\u001b[0;34m(\u001b[0m\u001b[0mdata\u001b[0m\u001b[0;34m=\u001b[0m\u001b[0mfinal_data1\u001b[0m\u001b[0;34m)\u001b[0m\u001b[0;34m\u001b[0m\u001b[0;34m\u001b[0m\u001b[0m\n\u001b[1;32m      3\u001b[0m \u001b[0mc_2\u001b[0m\u001b[0;34m\u001b[0m\u001b[0;34m\u001b[0m\u001b[0m\n",
            "\u001b[0;31mNameError\u001b[0m: name 'test_ff' is not defined"
          ]
        }
      ]
    },
    {
      "cell_type": "code",
      "metadata": {
        "colab": {
          "base_uri": "https://localhost:8080/",
          "height": 197
        },
        "id": "1u66kgDurNNd",
        "outputId": "0cf7e599-5c7b-4c36-d96f-777c170e020e"
      },
      "source": [
        "%cd \"/content\"\n",
        "c_2.to_csv('c_2.csv', index =False)"
      ],
      "execution_count": null,
      "outputs": [
        {
          "output_type": "stream",
          "text": [
            "/content\n"
          ],
          "name": "stdout"
        },
        {
          "output_type": "error",
          "ename": "NameError",
          "evalue": "ignored",
          "traceback": [
            "\u001b[0;31m---------------------------------------------------------------------------\u001b[0m",
            "\u001b[0;31mNameError\u001b[0m                                 Traceback (most recent call last)",
            "\u001b[0;32m<ipython-input-1-f0fbe841a50c>\u001b[0m in \u001b[0;36m<module>\u001b[0;34m()\u001b[0m\n\u001b[1;32m      1\u001b[0m \u001b[0mget_ipython\u001b[0m\u001b[0;34m(\u001b[0m\u001b[0;34m)\u001b[0m\u001b[0;34m.\u001b[0m\u001b[0mmagic\u001b[0m\u001b[0;34m(\u001b[0m\u001b[0;34m'cd \"/content\"'\u001b[0m\u001b[0;34m)\u001b[0m\u001b[0;34m\u001b[0m\u001b[0;34m\u001b[0m\u001b[0m\n\u001b[0;32m----> 2\u001b[0;31m \u001b[0mc_2\u001b[0m\u001b[0;34m.\u001b[0m\u001b[0mto_csv\u001b[0m\u001b[0;34m(\u001b[0m\u001b[0;34m'c_2.csv'\u001b[0m\u001b[0;34m,\u001b[0m \u001b[0mindex\u001b[0m \u001b[0;34m=\u001b[0m\u001b[0;32mFalse\u001b[0m\u001b[0;34m)\u001b[0m\u001b[0;34m\u001b[0m\u001b[0;34m\u001b[0m\u001b[0m\n\u001b[0m",
            "\u001b[0;31mNameError\u001b[0m: name 'c_2' is not defined"
          ]
        }
      ]
    },
    {
      "cell_type": "code",
      "metadata": {
        "id": "_AQ3x-KgrSHe"
      },
      "source": [
        ""
      ],
      "execution_count": null,
      "outputs": []
    }
  ]
}